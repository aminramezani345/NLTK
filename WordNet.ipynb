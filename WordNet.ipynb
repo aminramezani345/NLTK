{
  "cells": [
    {
      "cell_type": "markdown",
      "metadata": {
        "id": "view-in-github",
        "colab_type": "text"
      },
      "source": [
        "<a href=\"https://colab.research.google.com/github/aminramezani345/NLTKCodesByFaraDars/blob/main/WordNet.ipynb\" target=\"_parent\"><img src=\"https://colab.research.google.com/assets/colab-badge.svg\" alt=\"Open In Colab\"/></a>"
      ]
    },
    {
      "cell_type": "markdown",
      "metadata": {
        "id": "kLIr0j2thfuX"
      },
      "source": [
        "## download wordnet"
      ]
    },
    {
      "cell_type": "code",
      "execution_count": null,
      "metadata": {
        "id": "zGIAMkblhfuZ",
        "outputId": "db2430cb-fdfc-450d-9777-e2cf6be7ade8"
      },
      "outputs": [
        {
          "name": "stdout",
          "output_type": "stream",
          "text": [
            "[nltk_data] Downloading package wordnet to\n",
            "[nltk_data]     C:\\Users\\FaraDars\\AppData\\Roaming\\nltk_data...\n",
            "[nltk_data]   Package wordnet is already up-to-date!\n"
          ]
        },
        {
          "data": {
            "text/plain": [
              "True"
            ]
          },
          "execution_count": 1,
          "metadata": {},
          "output_type": "execute_result"
        }
      ],
      "source": [
        "import nltk\n",
        "nltk.download(\"wordnet\")"
      ]
    },
    {
      "cell_type": "markdown",
      "metadata": {
        "id": "6X38af3uhfub"
      },
      "source": [
        "## Synset"
      ]
    },
    {
      "cell_type": "code",
      "execution_count": null,
      "metadata": {
        "id": "d4Ejiuiwhfuc",
        "outputId": "65caba10-d3f4-4449-ae01-bf5e70310d6b"
      },
      "outputs": [
        {
          "name": "stdout",
          "output_type": "stream",
          "text": [
            "[Synset('book.n.01'), Synset('book.n.02'), Synset('record.n.05'), Synset('script.n.01'), Synset('ledger.n.01'), Synset('book.n.06'), Synset('book.n.07'), Synset('koran.n.01'), Synset('bible.n.01'), Synset('book.n.10'), Synset('book.n.11'), Synset('book.v.01'), Synset('reserve.v.04'), Synset('book.v.03'), Synset('book.v.04')]\n"
          ]
        }
      ],
      "source": [
        "from nltk.corpus import wordnet\n",
        "syns=wordnet.synsets(\"book\")\n",
        "print(syns)"
      ]
    },
    {
      "cell_type": "code",
      "execution_count": null,
      "metadata": {
        "id": "Xj9-UR9mhfuc",
        "outputId": "2f971ad9-af61-4d97-d2db-bc01253db1e9"
      },
      "outputs": [
        {
          "data": {
            "text/plain": [
              "'a written work or composition that has been published (printed on pages bound together)'"
            ]
          },
          "execution_count": 3,
          "metadata": {},
          "output_type": "execute_result"
        }
      ],
      "source": [
        "syns[0].definition()"
      ]
    },
    {
      "cell_type": "code",
      "execution_count": null,
      "metadata": {
        "id": "6G9wLaiyhfud",
        "outputId": "1b254e50-5e89-4016-c25a-5f18c98500dc"
      },
      "outputs": [
        {
          "data": {
            "text/plain": [
              "'physical objects consisting of a number of pages bound together'"
            ]
          },
          "execution_count": 4,
          "metadata": {},
          "output_type": "execute_result"
        }
      ],
      "source": [
        "syns[1].definition()"
      ]
    },
    {
      "cell_type": "code",
      "execution_count": null,
      "metadata": {
        "id": "I5RyMFEahfud",
        "outputId": "cc89790c-4f53-4827-d39d-930d79afd120"
      },
      "outputs": [
        {
          "data": {
            "text/plain": [
              "['he used a large book as a doorstop']"
            ]
          },
          "execution_count": 5,
          "metadata": {},
          "output_type": "execute_result"
        }
      ],
      "source": [
        "syns[1].examples()"
      ]
    },
    {
      "cell_type": "markdown",
      "metadata": {
        "id": "fQltLd-jhfue"
      },
      "source": [
        "## Lemma"
      ]
    },
    {
      "cell_type": "code",
      "execution_count": null,
      "metadata": {
        "id": "TY52vwKchfue",
        "outputId": "693a3d8f-1224-4c71-aa36-67f01a98f090"
      },
      "outputs": [
        {
          "data": {
            "text/plain": [
              "[Lemma('cookbook.n.01.cookbook'), Lemma('cookbook.n.01.cookery_book')]"
            ]
          },
          "execution_count": 7,
          "metadata": {},
          "output_type": "execute_result"
        }
      ],
      "source": [
        "syn=wordnet.synsets(\"cookbook\")[0]\n",
        "lemmas=syn.lemmas()\n",
        "lemmas"
      ]
    },
    {
      "cell_type": "code",
      "execution_count": null,
      "metadata": {
        "id": "MMzjbO4yhfue",
        "outputId": "6aa231b1-5f25-47c2-cf54-687eb47d6aa6"
      },
      "outputs": [
        {
          "data": {
            "text/plain": [
              "Synset('cookbook.n.01')"
            ]
          },
          "execution_count": 8,
          "metadata": {},
          "output_type": "execute_result"
        }
      ],
      "source": [
        "lemmas[0].synset()"
      ]
    },
    {
      "cell_type": "code",
      "execution_count": null,
      "metadata": {
        "id": "QlKnbhLShfuf",
        "outputId": "27794f90-12d9-480f-d033-8301c84faed1"
      },
      "outputs": [
        {
          "data": {
            "text/plain": [
              "Synset('cookbook.n.01')"
            ]
          },
          "execution_count": 9,
          "metadata": {},
          "output_type": "execute_result"
        }
      ],
      "source": [
        "lemmas[1].synset()"
      ]
    },
    {
      "cell_type": "markdown",
      "metadata": {
        "id": "upOKU2w3hfuf"
      },
      "source": [
        "## Hyponyms and Hypernyms"
      ]
    },
    {
      "cell_type": "code",
      "execution_count": null,
      "metadata": {
        "id": "hqvv6v-ehfug",
        "outputId": "7d691fc3-c609-4be5-9a18-94c70b751e9d"
      },
      "outputs": [
        {
          "data": {
            "text/plain": [
              "[Synset('publication.n.01')]"
            ]
          },
          "execution_count": 10,
          "metadata": {},
          "output_type": "execute_result"
        }
      ],
      "source": [
        "syns=wordnet.synsets(\"book\")\n",
        "syns[0].hypernyms()"
      ]
    },
    {
      "cell_type": "code",
      "execution_count": null,
      "metadata": {
        "id": "hRhOr0pnhfug",
        "outputId": "49f19106-880a-493a-e314-80f8ed5c7041"
      },
      "outputs": [
        {
          "data": {
            "text/plain": [
              "[Synset('book.n.01'),\n",
              " Synset('collection.n.02'),\n",
              " Synset('impression.n.06'),\n",
              " Synset('magazine.n.01'),\n",
              " Synset('new_edition.n.01'),\n",
              " Synset('periodical.n.01'),\n",
              " Synset('read.n.01'),\n",
              " Synset('reference.n.08'),\n",
              " Synset('reissue.n.01'),\n",
              " Synset('republication.n.01'),\n",
              " Synset('tip_sheet.n.01'),\n",
              " Synset('volume.n.04')]"
            ]
          },
          "execution_count": 12,
          "metadata": {},
          "output_type": "execute_result"
        }
      ],
      "source": [
        "syns[0].hypernyms()[0].hyponyms()"
      ]
    },
    {
      "cell_type": "code",
      "execution_count": null,
      "metadata": {
        "id": "gA28VGJrhfuh",
        "outputId": "5b1dc970-c82c-481d-cfd8-6ab6cf94179f"
      },
      "outputs": [
        {
          "data": {
            "text/plain": [
              "[Synset('entity.n.01')]"
            ]
          },
          "execution_count": 13,
          "metadata": {},
          "output_type": "execute_result"
        }
      ],
      "source": [
        "syns[0].root_hypernyms()"
      ]
    },
    {
      "cell_type": "code",
      "execution_count": null,
      "metadata": {
        "id": "QX0OhQ3vhfuh",
        "outputId": "7572da8e-d529-4ee8-8199-357dec299dc5"
      },
      "outputs": [
        {
          "data": {
            "text/plain": [
              "[[Synset('entity.n.01'),\n",
              "  Synset('physical_entity.n.01'),\n",
              "  Synset('object.n.01'),\n",
              "  Synset('whole.n.02'),\n",
              "  Synset('artifact.n.01'),\n",
              "  Synset('creation.n.02'),\n",
              "  Synset('product.n.02'),\n",
              "  Synset('work.n.02'),\n",
              "  Synset('publication.n.01'),\n",
              "  Synset('book.n.01')]]"
            ]
          },
          "execution_count": 16,
          "metadata": {},
          "output_type": "execute_result"
        }
      ],
      "source": [
        "syns[0].hypernym_paths()"
      ]
    },
    {
      "cell_type": "code",
      "execution_count": null,
      "metadata": {
        "id": "PXjftJj5hfuh",
        "outputId": "6bc1947c-2a93-47de-f21b-7122437b9aba"
      },
      "outputs": [
        {
          "data": {
            "text/plain": [
              "[[Synset('entity.n.01'),\n",
              "  Synset('physical_entity.n.01'),\n",
              "  Synset('object.n.01'),\n",
              "  Synset('whole.n.02'),\n",
              "  Synset('artifact.n.01'),\n",
              "  Synset('structure.n.01'),\n",
              "  Synset('building.n.01'),\n",
              "  Synset('house.n.01')],\n",
              " [Synset('entity.n.01'),\n",
              "  Synset('physical_entity.n.01'),\n",
              "  Synset('object.n.01'),\n",
              "  Synset('whole.n.02'),\n",
              "  Synset('artifact.n.01'),\n",
              "  Synset('structure.n.01'),\n",
              "  Synset('housing.n.01'),\n",
              "  Synset('dwelling.n.01'),\n",
              "  Synset('house.n.01')]]"
            ]
          },
          "execution_count": 17,
          "metadata": {},
          "output_type": "execute_result"
        }
      ],
      "source": [
        "wordnet.synsets(\"house\")[0].hypernym_paths()"
      ]
    },
    {
      "cell_type": "markdown",
      "metadata": {
        "id": "SFQNHiFIhfuh"
      },
      "source": [
        "## Part of Speech"
      ]
    },
    {
      "cell_type": "markdown",
      "metadata": {
        "id": "DM4d7b09hfui"
      },
      "source": [
        "#### noun   n\n",
        "#### verb   v\n",
        "#### adjective  a\n",
        "#### adverb     r"
      ]
    },
    {
      "cell_type": "code",
      "execution_count": null,
      "metadata": {
        "id": "XLJ0xfk6hfui",
        "outputId": "682092d1-38a0-4918-ee72-2e8abeb89fc6"
      },
      "outputs": [
        {
          "data": {
            "text/plain": [
              "'n'"
            ]
          },
          "execution_count": 18,
          "metadata": {},
          "output_type": "execute_result"
        }
      ],
      "source": [
        "syn=wordnet.synsets(\"read\")[0]\n",
        "syn.pos()"
      ]
    },
    {
      "cell_type": "code",
      "execution_count": null,
      "metadata": {
        "id": "QoGJK8-Bhfui",
        "outputId": "9179e5af-1c13-4004-ea29-c180e4d279f6"
      },
      "outputs": [
        {
          "name": "stdout",
          "output_type": "stream",
          "text": [
            "7\n"
          ]
        }
      ],
      "source": [
        "print(len(wordnet.synsets(\"great\")))"
      ]
    },
    {
      "cell_type": "code",
      "execution_count": null,
      "metadata": {
        "id": "7s0D2WRwhfui",
        "outputId": "fa1e6f88-0312-40ef-dd4c-2cdc864574a7"
      },
      "outputs": [
        {
          "name": "stdout",
          "output_type": "stream",
          "text": [
            "1\n"
          ]
        }
      ],
      "source": [
        "print(len(wordnet.synsets(\"great\",pos='n')))"
      ]
    },
    {
      "cell_type": "code",
      "execution_count": null,
      "metadata": {
        "id": "AljpYkTMhfuj",
        "outputId": "592b6fa5-d8b8-43e4-d5dd-0957db3074a9"
      },
      "outputs": [
        {
          "name": "stdout",
          "output_type": "stream",
          "text": [
            "6\n"
          ]
        }
      ],
      "source": [
        "print(len(wordnet.synsets(\"great\",pos='a')))"
      ]
    },
    {
      "cell_type": "markdown",
      "metadata": {
        "id": "1u6F8bz0hfuj"
      },
      "source": [
        "## Antonyms"
      ]
    },
    {
      "cell_type": "code",
      "execution_count": null,
      "metadata": {
        "id": "SFL2Vgc1hfuj",
        "outputId": "f7d8367d-2cbd-4b8e-ec6a-49563163af74"
      },
      "outputs": [
        {
          "data": {
            "text/plain": [
              "'a'"
            ]
          },
          "execution_count": 22,
          "metadata": {},
          "output_type": "execute_result"
        }
      ],
      "source": [
        "syn=wordnet.synset(\"good.a.01\")\n",
        "syn.pos()"
      ]
    },
    {
      "cell_type": "code",
      "execution_count": null,
      "metadata": {
        "id": "gMwVgTMNhfuj",
        "outputId": "78485868-2caa-4530-c788-a84377ba9011"
      },
      "outputs": [
        {
          "name": "stdout",
          "output_type": "stream",
          "text": [
            "[Lemma('bad.a.01.bad')]\n"
          ]
        }
      ],
      "source": [
        "ant=syn.lemmas()[0].antonyms()\n",
        "print(ant)"
      ]
    },
    {
      "cell_type": "code",
      "execution_count": null,
      "metadata": {
        "id": "I4kRrsYFhfuj",
        "outputId": "459bd74d-e1b1-421a-b740-b4b0186fcda3"
      },
      "outputs": [
        {
          "data": {
            "text/plain": [
              "'having desirable or positive qualities especially those suitable for a thing specified'"
            ]
          },
          "execution_count": 25,
          "metadata": {},
          "output_type": "execute_result"
        }
      ],
      "source": [
        "syn.definition()"
      ]
    },
    {
      "cell_type": "code",
      "execution_count": null,
      "metadata": {
        "id": "6rGV2pM8hfuk",
        "outputId": "2dd7cabf-b2e3-4359-ff12-c6154301741d"
      },
      "outputs": [
        {
          "data": {
            "text/plain": [
              "'having undesirable or negative qualities'"
            ]
          },
          "execution_count": 26,
          "metadata": {},
          "output_type": "execute_result"
        }
      ],
      "source": [
        "ant[0].synset().definition()"
      ]
    },
    {
      "cell_type": "code",
      "execution_count": null,
      "metadata": {
        "collapsed": true,
        "id": "UZpo77eXhfuk"
      },
      "outputs": [],
      "source": [
        "syn=wordnet.synset(\"good.n.02\")\n",
        "ant=syn.lemmas()[0].antonyms()[0]"
      ]
    },
    {
      "cell_type": "code",
      "execution_count": null,
      "metadata": {
        "id": "ov9ExABlhfuk",
        "outputId": "7041adb4-f47a-4e69-b367-eb1329651015"
      },
      "outputs": [
        {
          "name": "stdout",
          "output_type": "stream",
          "text": [
            "Lemma('evil.n.03.evil')\n"
          ]
        }
      ],
      "source": [
        "print(ant)"
      ]
    }
  ],
  "metadata": {
    "kernelspec": {
      "display_name": "Python 3",
      "language": "python",
      "name": "python3"
    },
    "language_info": {
      "codemirror_mode": {
        "name": "ipython",
        "version": 3
      },
      "file_extension": ".py",
      "mimetype": "text/x-python",
      "name": "python",
      "nbconvert_exporter": "python",
      "pygments_lexer": "ipython3",
      "version": "3.6.0"
    },
    "colab": {
      "provenance": [],
      "include_colab_link": true
    }
  },
  "nbformat": 4,
  "nbformat_minor": 0
}