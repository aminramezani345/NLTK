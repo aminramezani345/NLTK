{
  "cells": [
    {
      "cell_type": "markdown",
      "metadata": {
        "id": "view-in-github",
        "colab_type": "text"
      },
      "source": [
        "<a href=\"https://colab.research.google.com/github/aminramezani345/NLTKCodesByFaraDars/blob/main/Word_Tokenizer.ipynb\" target=\"_parent\"><img src=\"https://colab.research.google.com/assets/colab-badge.svg\" alt=\"Open In Colab\"/></a>"
      ]
    },
    {
      "cell_type": "code",
      "execution_count": null,
      "metadata": {
        "id": "BsuOMV2YdfDa",
        "outputId": "ecbb9c91-4590-4547-d440-25fd3a481fb3"
      },
      "outputs": [
        {
          "data": {
            "text/plain": [
              "['Hello', 'world', '!']"
            ]
          },
          "execution_count": 1,
          "metadata": {},
          "output_type": "execute_result"
        }
      ],
      "source": [
        "from nltk.tokenize import word_tokenize\n",
        "word_tokenize(\"Hello world!\")"
      ]
    },
    {
      "cell_type": "markdown",
      "metadata": {
        "id": "L4e-XoSTdfDe"
      },
      "source": [
        "### TreebankWordTokenize"
      ]
    },
    {
      "cell_type": "code",
      "execution_count": null,
      "metadata": {
        "id": "5CAMkPl0dfDh",
        "outputId": "3dfc738f-fb9e-40d9-f17b-f22237800681"
      },
      "outputs": [
        {
          "data": {
            "text/plain": [
              "['Hello', 'world', '!']"
            ]
          },
          "execution_count": 2,
          "metadata": {},
          "output_type": "execute_result"
        }
      ],
      "source": [
        "from nltk.tokenize import TreebankWordTokenizer\n",
        "tokenizer=TreebankWordTokenizer()\n",
        "tokenizer.tokenize(\"Hello world!\")"
      ]
    },
    {
      "cell_type": "code",
      "execution_count": null,
      "metadata": {
        "id": "ec18pWludfDi",
        "outputId": "47081ede-7e48-4a00-de9c-c9424c15bdac"
      },
      "outputs": [
        {
          "data": {
            "text/plain": [
              "['ca', \"n't\"]"
            ]
          },
          "execution_count": 3,
          "metadata": {},
          "output_type": "execute_result"
        }
      ],
      "source": [
        "word_tokenize(\"can't\")"
      ]
    },
    {
      "cell_type": "markdown",
      "metadata": {
        "id": "9nv6mbh-dfDi"
      },
      "source": [
        "### WordPunktTokenizer"
      ]
    },
    {
      "cell_type": "code",
      "execution_count": null,
      "metadata": {
        "id": "6r-DZrzxdfDj",
        "outputId": "9d080303-e499-49a0-9805-25d9d931779e"
      },
      "outputs": [
        {
          "data": {
            "text/plain": [
              "['can', \"'\", 't']"
            ]
          },
          "execution_count": 4,
          "metadata": {},
          "output_type": "execute_result"
        }
      ],
      "source": [
        "from nltk.tokenize import WordPunctTokenizer\n",
        "tokenizer=WordPunctTokenizer()\n",
        "tokenizer.tokenize(\"can't\")"
      ]
    },
    {
      "cell_type": "code",
      "execution_count": null,
      "metadata": {
        "collapsed": true,
        "id": "W4AAImOrdfDj"
      },
      "outputs": [],
      "source": []
    }
  ],
  "metadata": {
    "kernelspec": {
      "display_name": "Python 3",
      "language": "python",
      "name": "python3"
    },
    "language_info": {
      "codemirror_mode": {
        "name": "ipython",
        "version": 3
      },
      "file_extension": ".py",
      "mimetype": "text/x-python",
      "name": "python",
      "nbconvert_exporter": "python",
      "pygments_lexer": "ipython3",
      "version": "3.6.0"
    },
    "colab": {
      "provenance": [],
      "include_colab_link": true
    }
  },
  "nbformat": 4,
  "nbformat_minor": 0
}