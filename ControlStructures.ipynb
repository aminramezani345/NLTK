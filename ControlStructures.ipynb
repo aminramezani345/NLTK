{
  "cells": [
    {
      "cell_type": "markdown",
      "metadata": {
        "id": "view-in-github",
        "colab_type": "text"
      },
      "source": [
        "<a href=\"https://colab.research.google.com/github/aminramezani345/NLTKCodesByFaraDars/blob/main/ControlStructures.ipynb\" target=\"_parent\"><img src=\"https://colab.research.google.com/assets/colab-badge.svg\" alt=\"Open In Colab\"/></a>"
      ]
    },
    {
      "cell_type": "markdown",
      "metadata": {
        "id": "3o4WtGAwc76A"
      },
      "source": [
        "## if"
      ]
    },
    {
      "cell_type": "code",
      "execution_count": null,
      "metadata": {
        "id": "keBlMumec76I"
      },
      "outputs": [],
      "source": [
        "val=int(input(\"Please enter a number? \"))\n",
        "if(val>0):\n",
        "    print(\"poitive\")\n",
        "if(val<0):\n",
        "    print(\"negative\")"
      ]
    },
    {
      "cell_type": "code",
      "execution_count": null,
      "metadata": {
        "id": "yfqT8yLfc76N"
      },
      "outputs": [],
      "source": [
        "val=int(input(\"Please enter a number? \"))\n",
        "if(val>0):\n",
        "    print(\"poitive\")\n",
        "elif(val<0):\n",
        "    print(\"negative\")"
      ]
    },
    {
      "cell_type": "code",
      "execution_count": null,
      "metadata": {
        "id": "4Xw8-V8mc76P"
      },
      "outputs": [],
      "source": [
        "val=int(input(\"Please enter a number? \"))\n",
        "if(val>0):\n",
        "    print(\"poitive\")\n",
        "elif(val<0):\n",
        "    print(\"negative\")\n",
        "else:\n",
        "    print(\"zero\")"
      ]
    },
    {
      "cell_type": "markdown",
      "metadata": {
        "id": "MbIerWOGc76Q"
      },
      "source": [
        "## for"
      ]
    },
    {
      "cell_type": "code",
      "execution_count": null,
      "metadata": {
        "id": "BzP6bD81c76R"
      },
      "outputs": [],
      "source": [
        "for i in range(100):\n",
        "    print(i)"
      ]
    },
    {
      "cell_type": "code",
      "execution_count": null,
      "metadata": {
        "id": "KCQx8K_mc76S"
      },
      "outputs": [],
      "source": [
        "for i in range(5,10):\n",
        "    print(i)"
      ]
    },
    {
      "cell_type": "code",
      "execution_count": null,
      "metadata": {
        "id": "-CTnH8SYc76T"
      },
      "outputs": [],
      "source": [
        "for i in range(0,10,2):\n",
        "    print(i)"
      ]
    },
    {
      "cell_type": "code",
      "execution_count": null,
      "metadata": {
        "id": "J9oJm545c76U"
      },
      "outputs": [],
      "source": [
        "l=[\"mahdy\",20,1.5]\n",
        "for n in l:\n",
        "    print(n)"
      ]
    },
    {
      "cell_type": "code",
      "execution_count": null,
      "metadata": {
        "id": "dzVKbkuvc76W"
      },
      "outputs": [],
      "source": [
        "name=\"mahdy\"\n",
        "for char in name:\n",
        "    print(char)"
      ]
    },
    {
      "cell_type": "code",
      "execution_count": null,
      "metadata": {
        "id": "1O65vz0Ic76X"
      },
      "outputs": [],
      "source": [
        "name=\"mahdy\"\n",
        "for char in name:\n",
        "    if(char!='a'):\n",
        "        print(char)"
      ]
    },
    {
      "cell_type": "markdown",
      "metadata": {
        "id": "9UH-S1Gsc76Y"
      },
      "source": [
        "## while"
      ]
    },
    {
      "cell_type": "code",
      "execution_count": null,
      "metadata": {
        "id": "9LrJNFM4c76Y"
      },
      "outputs": [],
      "source": [
        "a=int(input(\"Please enter your number? \"))\n",
        "b,c=2,0\n",
        "while(b<a):\n",
        "    if(a%b==0):\n",
        "        c=c+1\n",
        "    b=b+1\n",
        "if(c==0):\n",
        "    print(\"prime\")\n",
        "else:\n",
        "    print(\"not prime\")"
      ]
    },
    {
      "cell_type": "code",
      "execution_count": null,
      "metadata": {
        "id": "9bYzkOehc76Z"
      },
      "outputs": [],
      "source": [
        "a=int(input(\"Please enter your number? \"))\n",
        "b,c=2,0\n",
        "while(b<a):\n",
        "    if(a%b==0):\n",
        "        c=c+1\n",
        "if(c==0):\n",
        "    print(\"prime\")\n",
        "else:\n",
        "    print(\"not prime\")"
      ]
    },
    {
      "cell_type": "code",
      "execution_count": null,
      "metadata": {
        "collapsed": true,
        "id": "xA_kUeE2c76a"
      },
      "outputs": [],
      "source": []
    }
  ],
  "metadata": {
    "kernelspec": {
      "display_name": "Python 3",
      "language": "python",
      "name": "python3"
    },
    "language_info": {
      "codemirror_mode": {
        "name": "ipython",
        "version": 3
      },
      "file_extension": ".py",
      "mimetype": "text/x-python",
      "name": "python",
      "nbconvert_exporter": "python",
      "pygments_lexer": "ipython3",
      "version": "3.6.0"
    },
    "colab": {
      "provenance": [],
      "include_colab_link": true
    }
  },
  "nbformat": 4,
  "nbformat_minor": 0
}