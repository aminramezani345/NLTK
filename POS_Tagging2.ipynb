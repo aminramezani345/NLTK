{
  "cells": [
    {
      "cell_type": "markdown",
      "metadata": {
        "id": "view-in-github",
        "colab_type": "text"
      },
      "source": [
        "<a href=\"https://colab.research.google.com/github/aminramezani345/NLTKCodesByFaraDars/blob/main/POS_Tagging2.ipynb\" target=\"_parent\"><img src=\"https://colab.research.google.com/assets/colab-badge.svg\" alt=\"Open In Colab\"/></a>"
      ]
    },
    {
      "cell_type": "markdown",
      "metadata": {
        "id": "ISfIXR29x7As"
      },
      "source": [
        "## Defaul Tagger"
      ]
    },
    {
      "cell_type": "code",
      "execution_count": null,
      "metadata": {
        "id": "ZlQFStLlx7Az",
        "outputId": "353d5078-43d8-4e02-8bdc-f05135ef583c"
      },
      "outputs": [
        {
          "data": {
            "text/plain": [
              "[('This', 'NN'), ('is', 'NN'), ('defualt', 'NN'), ('tagger', 'NN')]"
            ]
          },
          "execution_count": 1,
          "metadata": {},
          "output_type": "execute_result"
        }
      ],
      "source": [
        "from nltk.tag import DefaultTagger\n",
        "tagger=DefaultTagger(\"NN\")\n",
        "tagger.tag([\"This\",\"is\",\"defualt\",\"tagger\"])"
      ]
    },
    {
      "cell_type": "markdown",
      "metadata": {
        "id": "XggHJQvIx7A5"
      },
      "source": [
        "## Evaluating Accuracy"
      ]
    },
    {
      "cell_type": "code",
      "execution_count": null,
      "metadata": {
        "id": "HnCIjnWxx7A6",
        "outputId": "197c173d-23ec-4606-b75d-cbca5fb657ca"
      },
      "outputs": [
        {
          "name": "stdout",
          "output_type": "stream",
          "text": [
            "[nltk_data] Error loading treebank: <urlopen error [Errno 11004]\n",
            "[nltk_data]     getaddrinfo failed>\n"
          ]
        },
        {
          "data": {
            "text/plain": [
              "False"
            ]
          },
          "execution_count": 2,
          "metadata": {},
          "output_type": "execute_result"
        }
      ],
      "source": [
        "import nltk\n",
        "nltk.download(\"treebank\")"
      ]
    },
    {
      "cell_type": "code",
      "execution_count": null,
      "metadata": {
        "collapsed": true,
        "id": "lTB7ikH8x7A8"
      },
      "outputs": [],
      "source": [
        "from nltk.corpus import treebank\n",
        "sents=treebank.sents()"
      ]
    },
    {
      "cell_type": "code",
      "execution_count": null,
      "metadata": {
        "id": "ZGQNxRlHx7A9",
        "outputId": "f205575e-a712-45d6-a533-b9d7bdd25bed"
      },
      "outputs": [
        {
          "data": {
            "text/plain": [
              "[['Pierre', 'Vinken', ',', '61', 'years', 'old', ',', 'will', 'join', 'the', 'board', 'as', 'a', 'nonexecutive', 'director', 'Nov.', '29', '.'], ['Mr.', 'Vinken', 'is', 'chairman', 'of', 'Elsevier', 'N.V.', ',', 'the', 'Dutch', 'publishing', 'group', '.'], ...]"
            ]
          },
          "execution_count": 4,
          "metadata": {},
          "output_type": "execute_result"
        }
      ],
      "source": [
        "sents"
      ]
    },
    {
      "cell_type": "code",
      "execution_count": null,
      "metadata": {
        "collapsed": true,
        "id": "9KhiX5-Ex7A-"
      },
      "outputs": [],
      "source": [
        "tagged_sents=treebank.tagged_sents()"
      ]
    },
    {
      "cell_type": "code",
      "execution_count": null,
      "metadata": {
        "id": "eXLpsWs-x7A_",
        "outputId": "13bd7bdd-c3f8-4006-871b-5947e1db5946"
      },
      "outputs": [
        {
          "data": {
            "text/plain": [
              "[[('Pierre', 'NNP'), ('Vinken', 'NNP'), (',', ','), ('61', 'CD'), ('years', 'NNS'), ('old', 'JJ'), (',', ','), ('will', 'MD'), ('join', 'VB'), ('the', 'DT'), ('board', 'NN'), ('as', 'IN'), ('a', 'DT'), ('nonexecutive', 'JJ'), ('director', 'NN'), ('Nov.', 'NNP'), ('29', 'CD'), ('.', '.')], [('Mr.', 'NNP'), ('Vinken', 'NNP'), ('is', 'VBZ'), ('chairman', 'NN'), ('of', 'IN'), ('Elsevier', 'NNP'), ('N.V.', 'NNP'), (',', ','), ('the', 'DT'), ('Dutch', 'NNP'), ('publishing', 'VBG'), ('group', 'NN'), ('.', '.')], ...]"
            ]
          },
          "execution_count": 6,
          "metadata": {},
          "output_type": "execute_result"
        }
      ],
      "source": [
        "tagged_sents"
      ]
    },
    {
      "cell_type": "code",
      "execution_count": null,
      "metadata": {
        "id": "E56A8I0qx7BA",
        "outputId": "b7c4e21f-f84a-45c6-a4b2-3ccea5e25be8"
      },
      "outputs": [
        {
          "data": {
            "text/plain": [
              "3914"
            ]
          },
          "execution_count": 7,
          "metadata": {},
          "output_type": "execute_result"
        }
      ],
      "source": [
        "len(sents)"
      ]
    },
    {
      "cell_type": "code",
      "execution_count": null,
      "metadata": {
        "id": "GhM2WIKOx7BC",
        "outputId": "75f62f8d-484a-4c2c-c94c-4f817992ad67"
      },
      "outputs": [
        {
          "data": {
            "text/plain": [
              "0.14331966328512843"
            ]
          },
          "execution_count": 8,
          "metadata": {},
          "output_type": "execute_result"
        }
      ],
      "source": [
        "test_sents=tagged_sents[3000:]\n",
        "tagger.evaluate(test_sents)"
      ]
    },
    {
      "cell_type": "markdown",
      "metadata": {
        "id": "JVa7LbyNx7BE"
      },
      "source": [
        "## Unigram Tagger"
      ]
    },
    {
      "cell_type": "code",
      "execution_count": null,
      "metadata": {
        "collapsed": true,
        "id": "U4yIqxRox7BF"
      },
      "outputs": [],
      "source": [
        "from nltk.tag import UnigramTagger\n",
        "train_sents=tagged_sents[:3000]\n",
        "tagger=UnigramTagger(train_sents)"
      ]
    },
    {
      "cell_type": "code",
      "execution_count": null,
      "metadata": {
        "id": "BSzq8ovVx7BG",
        "outputId": "788520e5-ee7e-4b65-d264-d65f81d8cbbe"
      },
      "outputs": [
        {
          "data": {
            "text/plain": [
              "[('Pierre', 'NNP'),\n",
              " ('Vinken', 'NNP'),\n",
              " (',', ','),\n",
              " ('61', 'CD'),\n",
              " ('years', 'NNS'),\n",
              " ('old', 'JJ'),\n",
              " (',', ','),\n",
              " ('will', 'MD'),\n",
              " ('join', 'VB'),\n",
              " ('the', 'DT'),\n",
              " ('board', 'NN'),\n",
              " ('as', 'IN'),\n",
              " ('a', 'DT'),\n",
              " ('nonexecutive', 'JJ'),\n",
              " ('director', 'NN'),\n",
              " ('Nov.', 'NNP'),\n",
              " ('29', 'CD'),\n",
              " ('.', '.')]"
            ]
          },
          "execution_count": 10,
          "metadata": {},
          "output_type": "execute_result"
        }
      ],
      "source": [
        "tagger.tag(sents[0])"
      ]
    },
    {
      "cell_type": "code",
      "execution_count": null,
      "metadata": {
        "id": "H37CnIjUx7BH",
        "outputId": "a835e2d8-f683-4f36-c735-b7c04cada09a"
      },
      "outputs": [
        {
          "data": {
            "text/plain": [
              "0.8571551910209367"
            ]
          },
          "execution_count": 11,
          "metadata": {},
          "output_type": "execute_result"
        }
      ],
      "source": [
        "tagger.evaluate(test_sents)"
      ]
    },
    {
      "cell_type": "markdown",
      "metadata": {
        "id": "ZC7o2pC6x7BI"
      },
      "source": [
        "### Context Model"
      ]
    },
    {
      "cell_type": "code",
      "execution_count": null,
      "metadata": {
        "id": "fV7oRBTvx7BJ",
        "outputId": "94311d0e-6d76-4e00-bd52-0eb757fc28b9"
      },
      "outputs": [
        {
          "data": {
            "text/plain": [
              "[('Pierre', 'NN'),\n",
              " ('Vinken', None),\n",
              " (',', None),\n",
              " ('61', None),\n",
              " ('years', None),\n",
              " ('old', None),\n",
              " (',', None),\n",
              " ('will', None),\n",
              " ('join', None),\n",
              " ('the', None),\n",
              " ('board', None),\n",
              " ('as', None),\n",
              " ('a', None),\n",
              " ('nonexecutive', None),\n",
              " ('director', None),\n",
              " ('Nov.', None),\n",
              " ('29', None),\n",
              " ('.', None)]"
            ]
          },
          "execution_count": 12,
          "metadata": {},
          "output_type": "execute_result"
        }
      ],
      "source": [
        "tagger=UnigramTagger(model={\"Pierre\":\"NN\"})\n",
        "tagger.tag(sents[0])"
      ]
    },
    {
      "cell_type": "markdown",
      "metadata": {
        "id": "PrCl9eC7x7BK"
      },
      "source": [
        "### Frequency Cutoff"
      ]
    },
    {
      "cell_type": "code",
      "execution_count": null,
      "metadata": {
        "id": "IU-VsYVxx7BL",
        "outputId": "006d09e4-cacf-45a4-fb71-c383ee9dd279"
      },
      "outputs": [
        {
          "data": {
            "text/plain": [
              "0.775350744657889"
            ]
          },
          "execution_count": 13,
          "metadata": {},
          "output_type": "execute_result"
        }
      ],
      "source": [
        "tagger=UnigramTagger(train_sents,cutoff=3)\n",
        "tagger.evaluate(test_sents)"
      ]
    },
    {
      "cell_type": "markdown",
      "metadata": {
        "id": "2u3GbgTDx7BM"
      },
      "source": [
        "## Backoff Tagger"
      ]
    },
    {
      "cell_type": "code",
      "execution_count": null,
      "metadata": {
        "id": "R13cs4dFx7BM",
        "outputId": "622e3bc1-0372-4ed4-f419-9eaba994ee6d"
      },
      "outputs": [
        {
          "data": {
            "text/plain": [
              "0.8741204403194475"
            ]
          },
          "execution_count": 14,
          "metadata": {},
          "output_type": "execute_result"
        }
      ],
      "source": [
        "tagger1=DefaultTagger(\"NN\")\n",
        "tagger2=UnigramTagger(train_sents,backoff=tagger1)\n",
        "tagger2.evaluate(test_sents)"
      ]
    },
    {
      "cell_type": "markdown",
      "metadata": {
        "id": "qRr1IzCbx7BO"
      },
      "source": [
        "## Saving and Loading a trained Tagger"
      ]
    },
    {
      "cell_type": "code",
      "execution_count": null,
      "metadata": {
        "collapsed": true,
        "id": "yMGUMuIBx7BO"
      },
      "outputs": [],
      "source": [
        "import pickle\n",
        "f=open(\"tagger.pickle\",\"wb\")\n",
        "pickle.dump(tagger,f)\n",
        "f.close()"
      ]
    },
    {
      "cell_type": "code",
      "execution_count": null,
      "metadata": {
        "collapsed": true,
        "id": "gjfnXfuax7BP"
      },
      "outputs": [],
      "source": [
        "f=open(\"tagger.pickle\",\"rb\")\n",
        "tagger=pickle.load(f)"
      ]
    },
    {
      "cell_type": "markdown",
      "metadata": {
        "id": "HFp5con2x7BQ"
      },
      "source": [
        "## n-gram Tagger"
      ]
    },
    {
      "cell_type": "code",
      "execution_count": null,
      "metadata": {
        "id": "Qz5Jg6edx7BR",
        "outputId": "999a2b7c-16e3-425f-ca53-e5d1b63acd6d"
      },
      "outputs": [
        {
          "data": {
            "text/plain": [
              "0.11318799913662854"
            ]
          },
          "execution_count": 17,
          "metadata": {},
          "output_type": "execute_result"
        }
      ],
      "source": [
        "from nltk.tag import BigramTagger,TrigramTagger\n",
        "bitagger=BigramTagger(train_sents)\n",
        "bitagger.evaluate(test_sents)"
      ]
    },
    {
      "cell_type": "code",
      "execution_count": null,
      "metadata": {
        "id": "Ro8KBgwQx7BS",
        "outputId": "1c55b509-3471-4ce5-f775-7ee0d0e2aa80"
      },
      "outputs": [
        {
          "data": {
            "text/plain": [
              "0.06902654867256637"
            ]
          },
          "execution_count": 18,
          "metadata": {},
          "output_type": "execute_result"
        }
      ],
      "source": [
        "tritagger=TrigramTagger(train_sents)\n",
        "tritagger.evaluate(test_sents)"
      ]
    },
    {
      "cell_type": "markdown",
      "metadata": {
        "id": "H08B_seAx7BT"
      },
      "source": [
        "### backoff tagger function"
      ]
    },
    {
      "cell_type": "code",
      "execution_count": null,
      "metadata": {
        "id": "P2zaO0Gsx7BU"
      },
      "outputs": [],
      "source": [
        "def backoff_tagger(train_sents,tagger_classes,backoff=None):\n",
        "    for cls in tagger_classes:\n",
        "        backoff=cls(train_sents,backoff=backoff)\n",
        "    return backoff"
      ]
    },
    {
      "cell_type": "code",
      "execution_count": null,
      "metadata": {
        "id": "BVfz0laOx7BV",
        "outputId": "be6778b5-da6a-40e0-f83a-a577406c2a06"
      },
      "outputs": [
        {
          "data": {
            "text/plain": [
              "0.8806388948845241"
            ]
          },
          "execution_count": 20,
          "metadata": {},
          "output_type": "execute_result"
        }
      ],
      "source": [
        "backoff=DefaultTagger(\"NN\")\n",
        "tagger=backoff_tagger(train_sents,[UnigramTagger,BigramTagger,TrigramTagger],backoff=backoff)\n",
        "tagger.evaluate(test_sents)"
      ]
    },
    {
      "cell_type": "markdown",
      "metadata": {
        "id": "zCUWFsBxx7BW"
      },
      "source": [
        "### more than 3 gram tagger"
      ]
    },
    {
      "cell_type": "code",
      "execution_count": null,
      "metadata": {
        "id": "LA98StPYx7BX",
        "outputId": "1929a14e-39c8-4c5b-a76c-f0f99ca8bfdc"
      },
      "outputs": [
        {
          "data": {
            "text/plain": [
              "0.058493416792575005"
            ]
          },
          "execution_count": 21,
          "metadata": {},
          "output_type": "execute_result"
        }
      ],
      "source": [
        "from nltk.tag import NgramTagger\n",
        "quadtagger=NgramTagger(4,train_sents)\n",
        "quadtagger.evaluate(test_sents)"
      ]
    },
    {
      "cell_type": "markdown",
      "metadata": {
        "id": "j5Ud6q-Bx7BY"
      },
      "source": [
        "## Word Tags Frequence"
      ]
    },
    {
      "cell_type": "code",
      "execution_count": null,
      "metadata": {
        "collapsed": true,
        "id": "IAMYpfrdx7BZ"
      },
      "outputs": [],
      "source": [
        "from nltk.probability import FreqDist\n",
        "from nltk.corpus import treebank\n",
        "\n",
        "fd=FreqDist(treebank.words())"
      ]
    },
    {
      "cell_type": "code",
      "execution_count": null,
      "metadata": {
        "id": "_wxeKK87x7Ba",
        "outputId": "cfb3a33e-3cba-4468-a818-a7755a5a49b6"
      },
      "outputs": [
        {
          "data": {
            "text/plain": [
              "8"
            ]
          },
          "execution_count": 23,
          "metadata": {},
          "output_type": "execute_result"
        }
      ],
      "source": [
        "fd[\"book\"]"
      ]
    },
    {
      "cell_type": "code",
      "execution_count": null,
      "metadata": {
        "collapsed": true,
        "id": "YozoqAUfx7Bb"
      },
      "outputs": [],
      "source": [
        "from nltk.probability import ConditionalFreqDist\n",
        "\n",
        "cfd=ConditionalFreqDist(treebank.tagged_words())"
      ]
    },
    {
      "cell_type": "code",
      "execution_count": null,
      "metadata": {
        "id": "hz7NS8X7x7Bb",
        "outputId": "0de93e91-65e7-4241-9126-105968760ad5"
      },
      "outputs": [
        {
          "data": {
            "text/plain": [
              "FreqDist({'NN': 7, 'VB': 1})"
            ]
          },
          "execution_count": 25,
          "metadata": {},
          "output_type": "execute_result"
        }
      ],
      "source": [
        "cfd[\"book\"]"
      ]
    },
    {
      "cell_type": "markdown",
      "metadata": {
        "id": "0qzkO5Lcx7Bc"
      },
      "source": [
        "## Regular Expression Tagger"
      ]
    },
    {
      "cell_type": "code",
      "execution_count": null,
      "metadata": {
        "id": "PQx6oWHfx7Be",
        "outputId": "cbe76d6d-14d1-406c-a513-81628d7e81ee"
      },
      "outputs": [
        {
          "data": {
            "text/plain": [
              "0.037470321605870924"
            ]
          },
          "execution_count": 26,
          "metadata": {},
          "output_type": "execute_result"
        }
      ],
      "source": [
        "from nltk.tag import RegexpTagger\n",
        "\n",
        "pattern=[(r\"^\\d+$\",\"CD\"),(r\".*ing$\",\"VBG\"),(r\".*ment$\",\"NN\"),(r\".*ful$\",\"JJ\")]\n",
        "tagger=RegexpTagger(pattern)\n",
        "tagger.evaluate(test_sents)"
      ]
    },
    {
      "cell_type": "markdown",
      "metadata": {
        "id": "uFrXrVFox7Bf"
      },
      "source": [
        "## Affix Tagger"
      ]
    },
    {
      "cell_type": "code",
      "execution_count": null,
      "metadata": {
        "id": "Jy7brirJx7Bg",
        "outputId": "55ca2b3f-9b0c-41fc-b7af-b6a4d25073c8"
      },
      "outputs": [
        {
          "data": {
            "text/plain": [
              "0.27507014893157783"
            ]
          },
          "execution_count": 27,
          "metadata": {},
          "output_type": "execute_result"
        }
      ],
      "source": [
        "from nltk.tag import AffixTagger\n",
        "\n",
        "tagger=AffixTagger(train_sents)\n",
        "tagger.evaluate(test_sents)"
      ]
    },
    {
      "cell_type": "code",
      "execution_count": null,
      "metadata": {
        "id": "XkqewyBQx7Bh",
        "outputId": "3f566283-1e92-4089-d0c0-3a9d8e8d7cfc"
      },
      "outputs": [
        {
          "data": {
            "text/plain": [
              "0.2365637815670192"
            ]
          },
          "execution_count": 28,
          "metadata": {},
          "output_type": "execute_result"
        }
      ],
      "source": [
        "prefix_tagger=AffixTagger(train_sents,affix_length=3)\n",
        "prefix_tagger.evaluate(test_sents)"
      ]
    },
    {
      "cell_type": "code",
      "execution_count": null,
      "metadata": {
        "id": "FPwABvCMx7Bi",
        "outputId": "3e02316d-bc7e-4bc1-de39-64c2197e9d4e"
      },
      "outputs": [
        {
          "data": {
            "text/plain": [
              "0.3196201165551478"
            ]
          },
          "execution_count": 29,
          "metadata": {},
          "output_type": "execute_result"
        }
      ],
      "source": [
        "suffix_tagger=AffixTagger(train_sents,affix_length=-2)\n",
        "suffix_tagger.evaluate(test_sents)"
      ]
    },
    {
      "cell_type": "code",
      "execution_count": null,
      "metadata": {
        "id": "LgfaxaDAx7Bj",
        "outputId": "ff5860fa-bd2c-4b29-ed0d-0679576ceda1"
      },
      "outputs": [
        {
          "data": {
            "text/plain": [
              "0.3213036909130153"
            ]
          },
          "execution_count": 30,
          "metadata": {},
          "output_type": "execute_result"
        }
      ],
      "source": [
        "suffix_tagger=AffixTagger(train_sents,affix_length=-2,backoff=prefix_tagger)\n",
        "suffix_tagger.evaluate(test_sents)"
      ]
    },
    {
      "cell_type": "markdown",
      "metadata": {
        "id": "gq4YGzESx7Bj"
      },
      "source": [
        "## TnT Tagger"
      ]
    },
    {
      "cell_type": "code",
      "execution_count": null,
      "metadata": {
        "collapsed": true,
        "id": "GAgR1o6Ax7Bk"
      },
      "outputs": [],
      "source": [
        "from nltk.tag import tnt\n",
        "tnt_tagger=tnt.TnT()\n",
        "tnt_tagger.train(train_sents)"
      ]
    },
    {
      "cell_type": "code",
      "execution_count": null,
      "metadata": {
        "id": "fFSywdI7x7Bl",
        "outputId": "adee403f-7783-4f08-dd04-b2193b8ab0f7"
      },
      "outputs": [
        {
          "data": {
            "text/plain": [
              "0.875545003237643"
            ]
          },
          "execution_count": 32,
          "metadata": {},
          "output_type": "execute_result"
        }
      ],
      "source": [
        "tnt_tagger.evaluate(test_sents)"
      ]
    },
    {
      "cell_type": "code",
      "execution_count": null,
      "metadata": {
        "collapsed": true,
        "id": "m3YkyZ4tx7Bm"
      },
      "outputs": [],
      "source": [
        "unk=DefaultTagger(\"NN\")\n",
        "tnt_tagger=tnt.TnT(unk=unk,Trained=True)\n",
        "tnt_tagger.train(train_sents)"
      ]
    },
    {
      "cell_type": "code",
      "execution_count": null,
      "metadata": {
        "id": "Iy_tBQ2Px7Bn",
        "outputId": "4399dace-7893-402e-9da4-d9dfe5ab8d19"
      },
      "outputs": [
        {
          "data": {
            "text/plain": [
              "0.892467083962875"
            ]
          },
          "execution_count": 34,
          "metadata": {},
          "output_type": "execute_result"
        }
      ],
      "source": [
        "tnt_tagger.evaluate(test_sents)"
      ]
    },
    {
      "cell_type": "markdown",
      "metadata": {
        "id": "3EIjLl4rx7Bo"
      },
      "source": [
        "## Classifier Based POS Tagger"
      ]
    },
    {
      "cell_type": "code",
      "execution_count": null,
      "metadata": {
        "id": "RZjfYERMx7Bo",
        "outputId": "051f088a-7586-4970-f5ed-da33c5469976"
      },
      "outputs": [
        {
          "data": {
            "text/plain": [
              "0.9309734513274336"
            ]
          },
          "execution_count": 35,
          "metadata": {},
          "output_type": "execute_result"
        }
      ],
      "source": [
        "from nltk.tag.sequential import ClassifierBasedPOSTagger\n",
        "tagger=ClassifierBasedPOSTagger(train=train_sents)\n",
        "tagger.evaluate(test_sents)"
      ]
    },
    {
      "cell_type": "code",
      "execution_count": null,
      "metadata": {
        "id": "NB-JdA5Nx7Bp",
        "outputId": "1ddf8e0c-0d6e-4d35-9134-14d058b37ec5"
      },
      "outputs": [
        {
          "data": {
            "text/plain": [
              "0.9311029570472696"
            ]
          },
          "execution_count": 36,
          "metadata": {},
          "output_type": "execute_result"
        }
      ],
      "source": [
        "defualt=DefaultTagger(\"NN\")\n",
        "tagger=ClassifierBasedPOSTagger(train=train_sents,cutoff_prob=0.3,backoff=defualt)\n",
        "tagger.evaluate(test_sents)"
      ]
    }
  ],
  "metadata": {
    "kernelspec": {
      "display_name": "Python 3",
      "language": "python",
      "name": "python3"
    },
    "language_info": {
      "codemirror_mode": {
        "name": "ipython",
        "version": 3
      },
      "file_extension": ".py",
      "mimetype": "text/x-python",
      "name": "python",
      "nbconvert_exporter": "python",
      "pygments_lexer": "ipython3",
      "version": "3.6.0"
    },
    "colab": {
      "provenance": [],
      "include_colab_link": true
    }
  },
  "nbformat": 4,
  "nbformat_minor": 0
}