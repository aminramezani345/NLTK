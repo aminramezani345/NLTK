{
  "cells": [
    {
      "cell_type": "markdown",
      "metadata": {
        "id": "view-in-github",
        "colab_type": "text"
      },
      "source": [
        "<a href=\"https://colab.research.google.com/github/aminramezani345/NLTKCodesByFaraDars/blob/main/Functions.ipynb\" target=\"_parent\"><img src=\"https://colab.research.google.com/assets/colab-badge.svg\" alt=\"Open In Colab\"/></a>"
      ]
    },
    {
      "cell_type": "code",
      "execution_count": null,
      "metadata": {
        "collapsed": true,
        "id": "ih2h3Xsxbpkn"
      },
      "outputs": [],
      "source": [
        "def welprint():\n",
        "    print(\"Welcome to my program\")"
      ]
    },
    {
      "cell_type": "code",
      "execution_count": null,
      "metadata": {
        "id": "YtL-_-Lwbpkx",
        "outputId": "edc2c998-6b5d-451b-be41-a16ebc6c854f"
      },
      "outputs": [
        {
          "name": "stdout",
          "output_type": "stream",
          "text": [
            "Welcome to my program\n"
          ]
        }
      ],
      "source": [
        "welprint()"
      ]
    },
    {
      "cell_type": "markdown",
      "metadata": {
        "id": "N0nNOeuFbpk1"
      },
      "source": [
        "### parameters"
      ]
    },
    {
      "cell_type": "code",
      "execution_count": null,
      "metadata": {
        "collapsed": true,
        "id": "q3d3uZoabpk7"
      },
      "outputs": [],
      "source": [
        "def sayhello(name):\n",
        "    print(\"Hi \"+name +\"!\")"
      ]
    },
    {
      "cell_type": "code",
      "execution_count": null,
      "metadata": {
        "id": "16hbI5vEbpk8",
        "outputId": "dfcdf6c3-55b5-495a-9571-a8a60f9dfbf1"
      },
      "outputs": [
        {
          "name": "stdout",
          "output_type": "stream",
          "text": [
            "Hi Ali!\n"
          ]
        }
      ],
      "source": [
        "sayhello(\"Ali\")"
      ]
    },
    {
      "cell_type": "code",
      "execution_count": null,
      "metadata": {
        "id": "aTl49BeKbpk9",
        "outputId": "3e55d63e-6861-4547-b451-099a8ecb40c5"
      },
      "outputs": [
        {
          "ename": "TypeError",
          "evalue": "sayhello() missing 1 required positional argument: 'name'",
          "output_type": "error",
          "traceback": [
            "\u001b[0;31m---------------------------------------------------------------------------\u001b[0m",
            "\u001b[0;31mTypeError\u001b[0m                                 Traceback (most recent call last)",
            "\u001b[0;32m<ipython-input-5-8dc54479c35f>\u001b[0m in \u001b[0;36m<module>\u001b[0;34m()\u001b[0m\n\u001b[0;32m----> 1\u001b[0;31m \u001b[0msayhello\u001b[0m\u001b[1;33m(\u001b[0m\u001b[1;33m)\u001b[0m\u001b[1;33m\u001b[0m\u001b[0m\n\u001b[0m",
            "\u001b[0;31mTypeError\u001b[0m: sayhello() missing 1 required positional argument: 'name'"
          ]
        }
      ],
      "source": [
        "sayhello()"
      ]
    },
    {
      "cell_type": "markdown",
      "metadata": {
        "id": "jmp_YzuAbpk_"
      },
      "source": [
        "### defualt value"
      ]
    },
    {
      "cell_type": "code",
      "execution_count": null,
      "metadata": {
        "collapsed": true,
        "id": "rCUemS-XbplA"
      },
      "outputs": [],
      "source": [
        "def bettersayhello(name=\"user\"):\n",
        "    print(\"Hi \"+name+\"!\")"
      ]
    },
    {
      "cell_type": "code",
      "execution_count": null,
      "metadata": {
        "id": "6u08_CgMbplB",
        "outputId": "4a66a2e4-343b-4ff7-db40-0dd1d231e0b8"
      },
      "outputs": [
        {
          "name": "stdout",
          "output_type": "stream",
          "text": [
            "Hi Ehsan!\n"
          ]
        }
      ],
      "source": [
        "bettersayhello(\"Ehsan\")"
      ]
    },
    {
      "cell_type": "code",
      "execution_count": null,
      "metadata": {
        "id": "D8DAoU7hbplC",
        "outputId": "44a75279-89d0-4bdf-df06-83dcdc278923"
      },
      "outputs": [
        {
          "name": "stdout",
          "output_type": "stream",
          "text": [
            "Hi user!\n"
          ]
        }
      ],
      "source": [
        "bettersayhello()"
      ]
    },
    {
      "cell_type": "markdown",
      "metadata": {
        "id": "lTnNejGzbplD"
      },
      "source": [
        "### return "
      ]
    },
    {
      "cell_type": "code",
      "execution_count": null,
      "metadata": {
        "collapsed": true,
        "id": "6RMjAGFVbplE"
      },
      "outputs": [],
      "source": [
        "def factorial(a):\n",
        "    mult=1\n",
        "    for i in range (1, a+1):\n",
        "        mult=mult*i\n",
        "    return mult"
      ]
    },
    {
      "cell_type": "code",
      "execution_count": null,
      "metadata": {
        "id": "awgSoc6YbplF",
        "outputId": "ce0c4b03-6374-4a30-d6ce-3b3a3d1f231e"
      },
      "outputs": [
        {
          "data": {
            "text/plain": [
              "120"
            ]
          },
          "execution_count": 10,
          "metadata": {},
          "output_type": "execute_result"
        }
      ],
      "source": [
        "factorial(5)"
      ]
    },
    {
      "cell_type": "code",
      "execution_count": null,
      "metadata": {
        "collapsed": true,
        "id": "nSrRVmDtbplF"
      },
      "outputs": [],
      "source": [
        "q=factorial(4)"
      ]
    },
    {
      "cell_type": "code",
      "execution_count": null,
      "metadata": {
        "id": "e6ceIeYubplG",
        "outputId": "21f4ff72-b384-466d-9076-0b1d99d5466a"
      },
      "outputs": [
        {
          "name": "stdout",
          "output_type": "stream",
          "text": [
            "24\n"
          ]
        }
      ],
      "source": [
        "print(q)"
      ]
    },
    {
      "cell_type": "code",
      "execution_count": null,
      "metadata": {
        "id": "5krBwtJGbplG",
        "outputId": "44ae3218-1de7-4521-82be-5091a4d01c00"
      },
      "outputs": [
        {
          "data": {
            "text/plain": [
              "48"
            ]
          },
          "execution_count": 13,
          "metadata": {},
          "output_type": "execute_result"
        }
      ],
      "source": [
        "q*2"
      ]
    },
    {
      "cell_type": "markdown",
      "metadata": {
        "id": "bRkk4mKVbplH"
      },
      "source": [
        "### global"
      ]
    },
    {
      "cell_type": "code",
      "execution_count": null,
      "metadata": {
        "collapsed": true,
        "id": "Ucf2Xj1TbplH"
      },
      "outputs": [],
      "source": [
        "def myfunction():\n",
        "    c=10\n",
        "    global b\n",
        "    b=15"
      ]
    },
    {
      "cell_type": "code",
      "execution_count": null,
      "metadata": {
        "collapsed": true,
        "id": "HgCtQFcmbplI"
      },
      "outputs": [],
      "source": [
        "myfunction()"
      ]
    },
    {
      "cell_type": "code",
      "execution_count": null,
      "metadata": {
        "id": "Nf7uahYLbplJ",
        "outputId": "ad32539e-5ab7-45b7-b2c1-c5c97efe2c85"
      },
      "outputs": [
        {
          "ename": "NameError",
          "evalue": "name 'c' is not defined",
          "output_type": "error",
          "traceback": [
            "\u001b[0;31m---------------------------------------------------------------------------\u001b[0m",
            "\u001b[0;31mNameError\u001b[0m                                 Traceback (most recent call last)",
            "\u001b[0;32m<ipython-input-16-5315f3e3adca>\u001b[0m in \u001b[0;36m<module>\u001b[0;34m()\u001b[0m\n\u001b[0;32m----> 1\u001b[0;31m \u001b[0mprint\u001b[0m\u001b[1;33m(\u001b[0m\u001b[0mc\u001b[0m\u001b[1;33m)\u001b[0m\u001b[1;33m\u001b[0m\u001b[0m\n\u001b[0m",
            "\u001b[0;31mNameError\u001b[0m: name 'c' is not defined"
          ]
        }
      ],
      "source": [
        "print(c)"
      ]
    },
    {
      "cell_type": "code",
      "execution_count": null,
      "metadata": {
        "id": "I68uQE4obplJ",
        "outputId": "547e2e82-928a-4509-b897-24606d233375"
      },
      "outputs": [
        {
          "name": "stdout",
          "output_type": "stream",
          "text": [
            "15\n"
          ]
        }
      ],
      "source": [
        "print(b)"
      ]
    },
    {
      "cell_type": "markdown",
      "metadata": {
        "id": "x34h5kZVbplK"
      },
      "source": [
        "### *"
      ]
    },
    {
      "cell_type": "code",
      "execution_count": null,
      "metadata": {
        "id": "y01Z9aUUbplK"
      },
      "outputs": [],
      "source": [
        "def sayHello(name,*othername):\n",
        "    print(\"Hi \"+name )\n",
        "    for nam in othername:\n",
        "        print(nam)\n",
        "    print(\"!\")"
      ]
    },
    {
      "cell_type": "code",
      "execution_count": null,
      "metadata": {
        "id": "vETCAIaVbplK",
        "outputId": "f243a179-8b45-42d4-ffa5-f4d978483bf6"
      },
      "outputs": [
        {
          "name": "stdout",
          "output_type": "stream",
          "text": [
            "Hi Ehsan\n",
            "!\n"
          ]
        }
      ],
      "source": [
        "sayHello(\"Ehsan\")"
      ]
    },
    {
      "cell_type": "code",
      "execution_count": null,
      "metadata": {
        "collapsed": true,
        "id": "P6Xyh3jqbplL"
      },
      "outputs": [],
      "source": [
        "sayHello(\"Ali\",\"Mahdi\",\"Sara\")"
      ]
    }
  ],
  "metadata": {
    "kernelspec": {
      "display_name": "Python 3",
      "language": "python",
      "name": "python3"
    },
    "language_info": {
      "codemirror_mode": {
        "name": "ipython",
        "version": 3
      },
      "file_extension": ".py",
      "mimetype": "text/x-python",
      "name": "python",
      "nbconvert_exporter": "python",
      "pygments_lexer": "ipython3",
      "version": "3.6.0"
    },
    "colab": {
      "provenance": [],
      "include_colab_link": true
    }
  },
  "nbformat": 4,
  "nbformat_minor": 0
}