{
  "cells": [
    {
      "cell_type": "markdown",
      "metadata": {
        "id": "view-in-github",
        "colab_type": "text"
      },
      "source": [
        "<a href=\"https://colab.research.google.com/github/aminramezani345/NLTKCodesByFaraDars/blob/main/DataStructures2.ipynb\" target=\"_parent\"><img src=\"https://colab.research.google.com/assets/colab-badge.svg\" alt=\"Open In Colab\"/></a>"
      ]
    },
    {
      "cell_type": "markdown",
      "metadata": {
        "id": "jzCxyt3NcaOs"
      },
      "source": [
        "## list"
      ]
    },
    {
      "cell_type": "code",
      "execution_count": null,
      "metadata": {
        "id": "s8-Oi861caOy",
        "outputId": "321fe62a-eb3e-4c71-a27d-62f51698b21d"
      },
      "outputs": [
        {
          "name": "stdout",
          "output_type": "stream",
          "text": [
            "['mahdy', 34, 1.5]\n"
          ]
        }
      ],
      "source": [
        "l1=[\"mahdy\",34,1.5]\n",
        "print(l1)"
      ]
    },
    {
      "cell_type": "code",
      "execution_count": null,
      "metadata": {
        "id": "pwwEnkJycaO3",
        "outputId": "c6f1a23e-fd09-4597-a7b3-43c221c6b915"
      },
      "outputs": [
        {
          "data": {
            "text/plain": [
              "'mahdy'"
            ]
          },
          "execution_count": 3,
          "metadata": {},
          "output_type": "execute_result"
        }
      ],
      "source": [
        "l1[0]"
      ]
    },
    {
      "cell_type": "code",
      "execution_count": null,
      "metadata": {
        "id": "sMT1AgJVcaO4",
        "outputId": "a3668a28-b038-4b1d-c26f-d9cfe4536f17"
      },
      "outputs": [
        {
          "data": {
            "text/plain": [
              "34"
            ]
          },
          "execution_count": 4,
          "metadata": {},
          "output_type": "execute_result"
        }
      ],
      "source": [
        "l1[1]"
      ]
    },
    {
      "cell_type": "code",
      "execution_count": null,
      "metadata": {
        "id": "zfYhUG-_caO5",
        "outputId": "d6a8b90c-13fa-4cef-827a-a95cfc63e13d"
      },
      "outputs": [
        {
          "data": {
            "text/plain": [
              "1.5"
            ]
          },
          "execution_count": 5,
          "metadata": {},
          "output_type": "execute_result"
        }
      ],
      "source": [
        "l1[2]"
      ]
    },
    {
      "cell_type": "code",
      "execution_count": null,
      "metadata": {
        "id": "rLHI1gH_caO6",
        "outputId": "ec72ddf1-89e7-413f-b097-a8a0a74b422b"
      },
      "outputs": [
        {
          "ename": "IndexError",
          "evalue": "list index out of range",
          "output_type": "error",
          "traceback": [
            "\u001b[0;31m---------------------------------------------------------------------------\u001b[0m",
            "\u001b[0;31mIndexError\u001b[0m                                Traceback (most recent call last)",
            "\u001b[0;32m<ipython-input-6-97e9c08a4d6c>\u001b[0m in \u001b[0;36m<module>\u001b[0;34m()\u001b[0m\n\u001b[0;32m----> 1\u001b[0;31m \u001b[0ml1\u001b[0m\u001b[1;33m[\u001b[0m\u001b[1;36m3\u001b[0m\u001b[1;33m]\u001b[0m\u001b[1;33m\u001b[0m\u001b[0m\n\u001b[0m",
            "\u001b[0;31mIndexError\u001b[0m: list index out of range"
          ]
        }
      ],
      "source": [
        "l1[3]"
      ]
    },
    {
      "cell_type": "code",
      "execution_count": null,
      "metadata": {
        "id": "B27_tox1caO7",
        "outputId": "ffab6ae3-d914-4cde-a7ae-890e7127cb6a"
      },
      "outputs": [
        {
          "data": {
            "text/plain": [
              "3"
            ]
          },
          "execution_count": 7,
          "metadata": {},
          "output_type": "execute_result"
        }
      ],
      "source": [
        "len(l1)"
      ]
    },
    {
      "cell_type": "code",
      "execution_count": null,
      "metadata": {
        "id": "kqrpP1AYcaO8",
        "outputId": "3c9ba2d9-4007-44b8-a654-2214d5b66b24"
      },
      "outputs": [
        {
          "data": {
            "text/plain": [
              "list"
            ]
          },
          "execution_count": 8,
          "metadata": {},
          "output_type": "execute_result"
        }
      ],
      "source": [
        "type(l1)"
      ]
    },
    {
      "cell_type": "code",
      "execution_count": null,
      "metadata": {
        "id": "1GlI_AngcaO9",
        "outputId": "38214442-77f9-4314-b7d7-ee188b281bd6"
      },
      "outputs": [
        {
          "name": "stdout",
          "output_type": "stream",
          "text": [
            "['ali', 20, ['ehsan', 15], 1.8]\n"
          ]
        }
      ],
      "source": [
        "l2=[\"ali\",20,[\"ehsan\",15],1.8]\n",
        "print(l2)"
      ]
    },
    {
      "cell_type": "code",
      "execution_count": null,
      "metadata": {
        "id": "Dw6_jHh7caO-",
        "outputId": "0292dd74-f7c3-4553-e78a-d2725d9b809d"
      },
      "outputs": [
        {
          "data": {
            "text/plain": [
              "'ali'"
            ]
          },
          "execution_count": 10,
          "metadata": {},
          "output_type": "execute_result"
        }
      ],
      "source": [
        "l2[0]"
      ]
    },
    {
      "cell_type": "code",
      "execution_count": null,
      "metadata": {
        "id": "5JFRZjWQcaPA",
        "outputId": "7e7a8bae-1062-44af-b2d5-f4c9e3fdcf42"
      },
      "outputs": [
        {
          "data": {
            "text/plain": [
              "['ehsan', 15]"
            ]
          },
          "execution_count": 11,
          "metadata": {},
          "output_type": "execute_result"
        }
      ],
      "source": [
        "l2[2]"
      ]
    },
    {
      "cell_type": "code",
      "execution_count": null,
      "metadata": {
        "id": "jlRgSCaUcaPB",
        "outputId": "fa64c444-5862-4948-98db-8c1f88ebceef"
      },
      "outputs": [
        {
          "data": {
            "text/plain": [
              "15"
            ]
          },
          "execution_count": 12,
          "metadata": {},
          "output_type": "execute_result"
        }
      ],
      "source": [
        "l2[2][1]"
      ]
    },
    {
      "cell_type": "code",
      "execution_count": null,
      "metadata": {
        "id": "xYoXFX1FcaPC",
        "outputId": "1caf8f12-5b5f-4f6e-89df-edec1f32ebba"
      },
      "outputs": [
        {
          "data": {
            "text/plain": [
              "['mahdy', 34, 1.5, 'ali', 20, ['ehsan', 15], 1.8]"
            ]
          },
          "execution_count": 13,
          "metadata": {},
          "output_type": "execute_result"
        }
      ],
      "source": [
        "l1+l2"
      ]
    },
    {
      "cell_type": "code",
      "execution_count": null,
      "metadata": {
        "collapsed": true,
        "id": "ev2EEYARcaPD"
      },
      "outputs": [],
      "source": [
        "l3=l1+l2"
      ]
    },
    {
      "cell_type": "code",
      "execution_count": null,
      "metadata": {
        "id": "CnwleM6ScaPD",
        "outputId": "d0d3ff0f-1a3b-40a8-bfe5-fdfccf2d1cd2"
      },
      "outputs": [
        {
          "data": {
            "text/plain": [
              "['mahdy', 34, 1.5, 'ali', 20, ['ehsan', 15], 1.8]"
            ]
          },
          "execution_count": 15,
          "metadata": {},
          "output_type": "execute_result"
        }
      ],
      "source": [
        "l3"
      ]
    },
    {
      "cell_type": "code",
      "execution_count": null,
      "metadata": {
        "id": "4403YkjLcaPE",
        "outputId": "0a69d2f2-143c-40aa-8260-265ef27e014b"
      },
      "outputs": [
        {
          "name": "stdout",
          "output_type": "stream",
          "text": [
            "['apple', 'orange', 'banana', 'kiwi', 'apple']\n"
          ]
        }
      ],
      "source": [
        "l3=[\"apple\",\"orange\",\"banana\",\"kiwi\",\"apple\"]\n",
        "print(l3)"
      ]
    },
    {
      "cell_type": "code",
      "execution_count": null,
      "metadata": {
        "id": "J_PkZbXScaPF",
        "outputId": "39a3bcdb-4ebd-4970-daef-2f5979e2e1d9"
      },
      "outputs": [
        {
          "data": {
            "text/plain": [
              "'apple orange banana kiwi apple'"
            ]
          },
          "execution_count": 17,
          "metadata": {},
          "output_type": "execute_result"
        }
      ],
      "source": [
        "\" \".join(l3)"
      ]
    },
    {
      "cell_type": "code",
      "execution_count": null,
      "metadata": {
        "id": "yhXfmtRhcaPF",
        "outputId": "a28d0b73-50bf-4bea-b136-6dc43be46e6f"
      },
      "outputs": [
        {
          "data": {
            "text/plain": [
              "'apple@orange@banana@kiwi@apple'"
            ]
          },
          "execution_count": 18,
          "metadata": {},
          "output_type": "execute_result"
        }
      ],
      "source": [
        "\"@\".join(l3)"
      ]
    },
    {
      "cell_type": "code",
      "execution_count": null,
      "metadata": {
        "id": "TwYdEswicaPG",
        "outputId": "d5743973-b064-481c-e414-bd5eb3526d62"
      },
      "outputs": [
        {
          "data": {
            "text/plain": [
              "['apple', 'orange']"
            ]
          },
          "execution_count": 19,
          "metadata": {},
          "output_type": "execute_result"
        }
      ],
      "source": [
        "l3[0:2]"
      ]
    },
    {
      "cell_type": "code",
      "execution_count": null,
      "metadata": {
        "id": "djXZZPIacaPG",
        "outputId": "25a7b34d-2444-4e4b-b2a1-1bd496e0188f"
      },
      "outputs": [
        {
          "data": {
            "text/plain": [
              "['banana', 'kiwi']"
            ]
          },
          "execution_count": 20,
          "metadata": {},
          "output_type": "execute_result"
        }
      ],
      "source": [
        "l3[-3:-1]"
      ]
    },
    {
      "cell_type": "code",
      "execution_count": null,
      "metadata": {
        "id": "-iz2ZXZZcaPH",
        "outputId": "b7920e09-9ea1-4731-c69b-f156643b5049"
      },
      "outputs": [
        {
          "name": "stdout",
          "output_type": "stream",
          "text": [
            "['melon', 'orange', 'banana', 'kiwi', 'apple']\n"
          ]
        }
      ],
      "source": [
        "l3[0]=\"melon\"\n",
        "print(l3)"
      ]
    },
    {
      "cell_type": "code",
      "execution_count": null,
      "metadata": {
        "collapsed": true,
        "id": "uHx0ym3CcaPI"
      },
      "outputs": [],
      "source": [
        "l3.append(\"cucumber\")"
      ]
    },
    {
      "cell_type": "code",
      "execution_count": null,
      "metadata": {
        "id": "gw6T4RVvcaPI",
        "outputId": "236fae8e-1468-4d3e-ba64-92210ef71547"
      },
      "outputs": [
        {
          "name": "stdout",
          "output_type": "stream",
          "text": [
            "['melon', 'orange', 'banana', 'kiwi', 'apple', 'cucumber']\n"
          ]
        }
      ],
      "source": [
        "print(l3)"
      ]
    },
    {
      "cell_type": "code",
      "execution_count": null,
      "metadata": {
        "collapsed": true,
        "id": "kq9HLueDcaPJ"
      },
      "outputs": [],
      "source": [
        "l3.remove(\"kiwi\")"
      ]
    },
    {
      "cell_type": "code",
      "execution_count": null,
      "metadata": {
        "id": "Z0VAKinKcaPJ",
        "outputId": "73359ca5-0249-4bb8-df6a-ef86ce16c4b6"
      },
      "outputs": [
        {
          "data": {
            "text/plain": [
              "['melon', 'orange', 'banana', 'apple', 'cucumber']"
            ]
          },
          "execution_count": 25,
          "metadata": {},
          "output_type": "execute_result"
        }
      ],
      "source": [
        "l3"
      ]
    },
    {
      "cell_type": "code",
      "execution_count": null,
      "metadata": {
        "id": "btUSl6nxcaPK",
        "outputId": "50864b0c-a2dc-4674-e90c-776fdde28ae7"
      },
      "outputs": [
        {
          "name": "stdout",
          "output_type": "stream",
          "text": [
            "1\n"
          ]
        }
      ],
      "source": [
        "print(l3.count(\"apple\"))"
      ]
    },
    {
      "cell_type": "code",
      "execution_count": null,
      "metadata": {
        "collapsed": true,
        "id": "PtFwUITKcaPK"
      },
      "outputs": [],
      "source": [
        "l3.clear()"
      ]
    },
    {
      "cell_type": "code",
      "execution_count": null,
      "metadata": {
        "id": "fXSUK3CFcaPK",
        "outputId": "d2fe80c1-2bb6-41cc-cc9c-7016307ad745"
      },
      "outputs": [
        {
          "data": {
            "text/plain": [
              "[]"
            ]
          },
          "execution_count": 28,
          "metadata": {},
          "output_type": "execute_result"
        }
      ],
      "source": [
        "l3"
      ]
    },
    {
      "cell_type": "markdown",
      "metadata": {
        "id": "Vg0PMHihcaPL"
      },
      "source": [
        "## tuple"
      ]
    },
    {
      "cell_type": "code",
      "execution_count": null,
      "metadata": {
        "id": "XYwDM-0gcaPL",
        "outputId": "5942cd4b-ccfe-405d-f61a-60ea024a9441"
      },
      "outputs": [
        {
          "data": {
            "text/plain": [
              "tuple"
            ]
          },
          "execution_count": 29,
          "metadata": {},
          "output_type": "execute_result"
        }
      ],
      "source": [
        "tup1=1,2,3\n",
        "type(tup1)"
      ]
    },
    {
      "cell_type": "code",
      "execution_count": null,
      "metadata": {
        "id": "0kGt2wCBcaPL",
        "outputId": "7ae21159-ce7f-4da3-fe54-9e9f8ac5de88"
      },
      "outputs": [
        {
          "data": {
            "text/plain": [
              "tuple"
            ]
          },
          "execution_count": 30,
          "metadata": {},
          "output_type": "execute_result"
        }
      ],
      "source": [
        "tup2=(4,5,6)\n",
        "type(tup2)"
      ]
    },
    {
      "cell_type": "code",
      "execution_count": null,
      "metadata": {
        "collapsed": true,
        "id": "SVRXuuFDcaPM"
      },
      "outputs": [],
      "source": [
        "tup3=tup1+tup2"
      ]
    },
    {
      "cell_type": "code",
      "execution_count": null,
      "metadata": {
        "id": "FqKz4wpxcaPM",
        "outputId": "e412cfe2-8ba8-4c9c-8087-ca8250a14f25"
      },
      "outputs": [
        {
          "name": "stdout",
          "output_type": "stream",
          "text": [
            "(1, 2, 3, 4, 5, 6)\n"
          ]
        }
      ],
      "source": [
        "print(tup3)"
      ]
    },
    {
      "cell_type": "code",
      "execution_count": null,
      "metadata": {
        "id": "V4YhIiZTcaPM",
        "outputId": "ca163cc2-c3b3-4643-d550-d0e72a3e0bb1"
      },
      "outputs": [
        {
          "data": {
            "text/plain": [
              "1"
            ]
          },
          "execution_count": 33,
          "metadata": {},
          "output_type": "execute_result"
        }
      ],
      "source": [
        "tup1[0]"
      ]
    },
    {
      "cell_type": "code",
      "execution_count": null,
      "metadata": {
        "id": "jwQcJXrWcaPN",
        "outputId": "27ca5134-9d9f-4f76-fe8f-6bdd535a3da8"
      },
      "outputs": [
        {
          "ename": "IndexError",
          "evalue": "tuple index out of range",
          "output_type": "error",
          "traceback": [
            "\u001b[0;31m---------------------------------------------------------------------------\u001b[0m",
            "\u001b[0;31mIndexError\u001b[0m                                Traceback (most recent call last)",
            "\u001b[0;32m<ipython-input-34-bd3a0e22e022>\u001b[0m in \u001b[0;36m<module>\u001b[0;34m()\u001b[0m\n\u001b[0;32m----> 1\u001b[0;31m \u001b[0mtup1\u001b[0m\u001b[1;33m[\u001b[0m\u001b[1;36m5\u001b[0m\u001b[1;33m]\u001b[0m\u001b[1;33m\u001b[0m\u001b[0m\n\u001b[0m",
            "\u001b[0;31mIndexError\u001b[0m: tuple index out of range"
          ]
        }
      ],
      "source": [
        "tup1[5]"
      ]
    },
    {
      "cell_type": "code",
      "execution_count": null,
      "metadata": {
        "id": "f11rGr5zcaPN",
        "outputId": "0b13e658-25a9-470d-c12f-3be4ead0ff1b"
      },
      "outputs": [
        {
          "ename": "TypeError",
          "evalue": "'tuple' object does not support item assignment",
          "output_type": "error",
          "traceback": [
            "\u001b[0;31m---------------------------------------------------------------------------\u001b[0m",
            "\u001b[0;31mTypeError\u001b[0m                                 Traceback (most recent call last)",
            "\u001b[0;32m<ipython-input-35-3d00fb071a4e>\u001b[0m in \u001b[0;36m<module>\u001b[0;34m()\u001b[0m\n\u001b[0;32m----> 1\u001b[0;31m \u001b[0mtup1\u001b[0m\u001b[1;33m[\u001b[0m\u001b[1;36m0\u001b[0m\u001b[1;33m]\u001b[0m\u001b[1;33m=\u001b[0m\u001b[1;36m5\u001b[0m\u001b[1;33m\u001b[0m\u001b[0m\n\u001b[0m",
            "\u001b[0;31mTypeError\u001b[0m: 'tuple' object does not support item assignment"
          ]
        }
      ],
      "source": [
        "tup1[0]=5"
      ]
    },
    {
      "cell_type": "code",
      "execution_count": null,
      "metadata": {
        "id": "A62Qa00CcaPO",
        "outputId": "5fd4fa0a-5f15-4c70-8ded-0615e3c26e2c"
      },
      "outputs": [
        {
          "data": {
            "text/plain": [
              "int"
            ]
          },
          "execution_count": 36,
          "metadata": {},
          "output_type": "execute_result"
        }
      ],
      "source": [
        "a=33\n",
        "type(a)"
      ]
    },
    {
      "cell_type": "code",
      "execution_count": null,
      "metadata": {
        "id": "8VK66PiZcaPO",
        "outputId": "cc6ce37d-e4cc-42cb-f8b1-8cca2993c352"
      },
      "outputs": [
        {
          "data": {
            "text/plain": [
              "tuple"
            ]
          },
          "execution_count": 37,
          "metadata": {},
          "output_type": "execute_result"
        }
      ],
      "source": [
        "a=33,\n",
        "type(a)"
      ]
    },
    {
      "cell_type": "code",
      "execution_count": null,
      "metadata": {
        "id": "abebghOtcaPP",
        "outputId": "21e37350-0085-4a67-f4b6-b4ea1af5879f"
      },
      "outputs": [
        {
          "data": {
            "text/plain": [
              "3"
            ]
          },
          "execution_count": 38,
          "metadata": {},
          "output_type": "execute_result"
        }
      ],
      "source": [
        "len(tup1)"
      ]
    },
    {
      "cell_type": "code",
      "execution_count": null,
      "metadata": {
        "id": "qqAdET1vcaPP",
        "outputId": "394dc817-93c3-4869-abd1-1afaf6c9884c"
      },
      "outputs": [
        {
          "name": "stdout",
          "output_type": "stream",
          "text": [
            "1\n"
          ]
        }
      ],
      "source": [
        "x,y,z=tup1\n",
        "print(x)"
      ]
    },
    {
      "cell_type": "code",
      "execution_count": null,
      "metadata": {
        "id": "eXrmjixDcaPP",
        "outputId": "1fac6f37-8464-4f3a-bafb-fda230267422"
      },
      "outputs": [
        {
          "name": "stdout",
          "output_type": "stream",
          "text": [
            "2\n"
          ]
        }
      ],
      "source": [
        "print(y)"
      ]
    },
    {
      "cell_type": "code",
      "execution_count": null,
      "metadata": {
        "id": "orsv6teUcaPP",
        "outputId": "0ad97659-f9f5-4c3d-df72-2fa0e87041d5"
      },
      "outputs": [
        {
          "name": "stdout",
          "output_type": "stream",
          "text": [
            "3\n"
          ]
        }
      ],
      "source": [
        "print(z)"
      ]
    },
    {
      "cell_type": "markdown",
      "metadata": {
        "id": "Wp-yYM8zcaPQ"
      },
      "source": [
        "## Dict"
      ]
    },
    {
      "cell_type": "code",
      "execution_count": null,
      "metadata": {
        "id": "UX_Iw7I1caPQ",
        "outputId": "537de3fd-e6dd-4957-e1eb-b10836a5fe80"
      },
      "outputs": [
        {
          "name": "stdout",
          "output_type": "stream",
          "text": [
            "{'tehran': 21, 'esfahan': 31, 'qom': 25}\n"
          ]
        }
      ],
      "source": [
        "tel={\"tehran\":21,\"esfahan\":31,\"qom\":25}\n",
        "print(tel)"
      ]
    },
    {
      "cell_type": "code",
      "execution_count": null,
      "metadata": {
        "id": "g1pIF-pJcaPQ",
        "outputId": "1de1c8f6-e184-41be-a918-a6631543b3c7"
      },
      "outputs": [
        {
          "data": {
            "text/plain": [
              "dict"
            ]
          },
          "execution_count": 43,
          "metadata": {},
          "output_type": "execute_result"
        }
      ],
      "source": [
        "type(tel)"
      ]
    },
    {
      "cell_type": "code",
      "execution_count": null,
      "metadata": {
        "id": "tMzqAQsucaPQ",
        "outputId": "a4bbc034-2f45-472d-e916-8ddcb00ff4e7"
      },
      "outputs": [
        {
          "data": {
            "text/plain": [
              "3"
            ]
          },
          "execution_count": 44,
          "metadata": {},
          "output_type": "execute_result"
        }
      ],
      "source": [
        "len(tel)"
      ]
    },
    {
      "cell_type": "code",
      "execution_count": null,
      "metadata": {
        "id": "F_GSllYkcaPR",
        "outputId": "8813984e-33fd-4f60-b59d-dfc28b40a816"
      },
      "outputs": [
        {
          "data": {
            "text/plain": [
              "dict_keys(['tehran', 'esfahan', 'qom'])"
            ]
          },
          "execution_count": 45,
          "metadata": {},
          "output_type": "execute_result"
        }
      ],
      "source": [
        "tel.keys()"
      ]
    },
    {
      "cell_type": "code",
      "execution_count": null,
      "metadata": {
        "id": "Nxab7lkXcaPR",
        "outputId": "3685f580-d554-479c-d422-53272676ef93"
      },
      "outputs": [
        {
          "data": {
            "text/plain": [
              "dict_values([21, 31, 25])"
            ]
          },
          "execution_count": 46,
          "metadata": {},
          "output_type": "execute_result"
        }
      ],
      "source": [
        "tel.values()"
      ]
    },
    {
      "cell_type": "code",
      "execution_count": null,
      "metadata": {
        "id": "zIb5HY7NcaPR",
        "outputId": "5446ee20-0856-40ad-ad86-f603cb5d383f"
      },
      "outputs": [
        {
          "data": {
            "text/plain": [
              "21"
            ]
          },
          "execution_count": 47,
          "metadata": {},
          "output_type": "execute_result"
        }
      ],
      "source": [
        "tel[\"tehran\"]"
      ]
    },
    {
      "cell_type": "code",
      "execution_count": null,
      "metadata": {
        "id": "tDCIQZRNcaPR",
        "outputId": "b034fa2b-1e6b-46f6-bd99-367fb3ec1151"
      },
      "outputs": [
        {
          "name": "stdout",
          "output_type": "stream",
          "text": [
            "{'tehran': 21, 'esfahan': 31, 'qom': 26}\n"
          ]
        }
      ],
      "source": [
        "tel[\"qom\"]=26\n",
        "print(tel)"
      ]
    },
    {
      "cell_type": "code",
      "execution_count": null,
      "metadata": {
        "id": "pvAgmT-5caPS",
        "outputId": "447646db-cc18-400a-b10d-98b3d793f3d2"
      },
      "outputs": [
        {
          "name": "stdout",
          "output_type": "stream",
          "text": [
            "{'tehran': 21, 'qom': 26}\n"
          ]
        }
      ],
      "source": [
        "del tel[\"esfahan\"]\n",
        "print(tel)"
      ]
    },
    {
      "cell_type": "code",
      "execution_count": null,
      "metadata": {
        "id": "FuDo9rSUcaPS",
        "outputId": "2388b7d6-54e8-4456-f422-7df673aadf78"
      },
      "outputs": [
        {
          "ename": "KeyError",
          "evalue": "'tabriz'",
          "output_type": "error",
          "traceback": [
            "\u001b[0;31m---------------------------------------------------------------------------\u001b[0m",
            "\u001b[0;31mKeyError\u001b[0m                                  Traceback (most recent call last)",
            "\u001b[0;32m<ipython-input-50-6c4f7758621a>\u001b[0m in \u001b[0;36m<module>\u001b[0;34m()\u001b[0m\n\u001b[0;32m----> 1\u001b[0;31m \u001b[0mtel\u001b[0m\u001b[1;33m[\u001b[0m\u001b[1;34m\"tabriz\"\u001b[0m\u001b[1;33m]\u001b[0m\u001b[1;33m\u001b[0m\u001b[0m\n\u001b[0m",
            "\u001b[0;31mKeyError\u001b[0m: 'tabriz'"
          ]
        }
      ],
      "source": [
        "tel[\"tabriz\"]"
      ]
    },
    {
      "cell_type": "code",
      "execution_count": null,
      "metadata": {
        "id": "PPmOIKqOcaPS",
        "outputId": "20339a78-f540-4013-e629-3b32b757df4f"
      },
      "outputs": [
        {
          "data": {
            "text/plain": [
              "False"
            ]
          },
          "execution_count": 54,
          "metadata": {},
          "output_type": "execute_result"
        }
      ],
      "source": [
        "\"tabriz\" in tel.keys()"
      ]
    },
    {
      "cell_type": "code",
      "execution_count": null,
      "metadata": {
        "collapsed": true,
        "id": "JFXbF4gtcaPT"
      },
      "outputs": [],
      "source": [
        "#DefaultDict"
      ]
    },
    {
      "cell_type": "markdown",
      "metadata": {
        "id": "HKHPBgcIcaPT"
      },
      "source": [
        "## set"
      ]
    },
    {
      "cell_type": "code",
      "execution_count": null,
      "metadata": {
        "id": "M3DlKdCTcaPT",
        "outputId": "d4881a79-79f8-4cc5-febc-f39e5303f673"
      },
      "outputs": [
        {
          "name": "stdout",
          "output_type": "stream",
          "text": [
            "{1, 2, 3, 4, 5}\n"
          ]
        }
      ],
      "source": [
        "s1=set([1,1,2,3,4,5])\n",
        "print(s1)"
      ]
    },
    {
      "cell_type": "code",
      "execution_count": null,
      "metadata": {
        "id": "KBfhZc3hcaPT",
        "outputId": "34475ff9-6293-4493-a716-10d59fbc63c6"
      },
      "outputs": [
        {
          "data": {
            "text/plain": [
              "set"
            ]
          },
          "execution_count": 57,
          "metadata": {},
          "output_type": "execute_result"
        }
      ],
      "source": [
        "type(s1)"
      ]
    },
    {
      "cell_type": "code",
      "execution_count": null,
      "metadata": {
        "id": "DS10qXqFcaPU",
        "outputId": "878a7bff-8c13-4128-ce74-5fb41c5ef848"
      },
      "outputs": [
        {
          "data": {
            "text/plain": [
              "5"
            ]
          },
          "execution_count": 58,
          "metadata": {},
          "output_type": "execute_result"
        }
      ],
      "source": [
        "len(s1)"
      ]
    },
    {
      "cell_type": "code",
      "execution_count": null,
      "metadata": {
        "id": "ue6eJk0RcaPU",
        "outputId": "367c2c0b-31b8-4091-ef32-7ccc1c26d032"
      },
      "outputs": [
        {
          "name": "stdout",
          "output_type": "stream",
          "text": [
            "{1, 4, 5}\n"
          ]
        }
      ],
      "source": [
        "s2=set([4,5,1])\n",
        "print(s2)"
      ]
    },
    {
      "cell_type": "code",
      "execution_count": null,
      "metadata": {
        "id": "SoUPu6WBcaPU",
        "outputId": "62fedef6-4252-4265-eff0-33884af919be"
      },
      "outputs": [
        {
          "data": {
            "text/plain": [
              "{1, 2, 3, 4, 5}"
            ]
          },
          "execution_count": 61,
          "metadata": {},
          "output_type": "execute_result"
        }
      ],
      "source": [
        "s1.union(s2)"
      ]
    },
    {
      "cell_type": "code",
      "execution_count": null,
      "metadata": {
        "id": "AQ4k-RfNcaPU",
        "outputId": "45f3b925-95ed-4f8e-881c-926a5ce88791"
      },
      "outputs": [
        {
          "data": {
            "text/plain": [
              "{1, 4, 5}"
            ]
          },
          "execution_count": 62,
          "metadata": {},
          "output_type": "execute_result"
        }
      ],
      "source": [
        "s1.intersection(s2)"
      ]
    },
    {
      "cell_type": "code",
      "execution_count": null,
      "metadata": {
        "collapsed": true,
        "id": "k9Ahxq-9caPV"
      },
      "outputs": [],
      "source": []
    }
  ],
  "metadata": {
    "kernelspec": {
      "display_name": "Python 3",
      "language": "python",
      "name": "python3"
    },
    "language_info": {
      "codemirror_mode": {
        "name": "ipython",
        "version": 3
      },
      "file_extension": ".py",
      "mimetype": "text/x-python",
      "name": "python",
      "nbconvert_exporter": "python",
      "pygments_lexer": "ipython3",
      "version": "3.6.0"
    },
    "colab": {
      "provenance": [],
      "include_colab_link": true
    }
  },
  "nbformat": 4,
  "nbformat_minor": 0
}