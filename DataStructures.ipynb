{
  "cells": [
    {
      "cell_type": "markdown",
      "metadata": {
        "id": "view-in-github",
        "colab_type": "text"
      },
      "source": [
        "<a href=\"https://colab.research.google.com/github/aminramezani345/NLTKCodesByFaraDars/blob/main/DataStructures.ipynb\" target=\"_parent\"><img src=\"https://colab.research.google.com/assets/colab-badge.svg\" alt=\"Open In Colab\"/></a>"
      ]
    },
    {
      "cell_type": "markdown",
      "metadata": {
        "id": "_jVybsKwbEHL"
      },
      "source": [
        "## list"
      ]
    },
    {
      "cell_type": "code",
      "execution_count": null,
      "metadata": {
        "id": "psE5FoJTbEHN",
        "outputId": "fd27f00d-a4f0-4e15-c92f-5ff118d52b9f"
      },
      "outputs": [
        {
          "name": "stdout",
          "output_type": "stream",
          "text": [
            "['mahdy', 34, 1.5]\n"
          ]
        }
      ],
      "source": [
        "l1=[\"mahdy\",34,1.5]\n",
        "print(l1)"
      ]
    },
    {
      "cell_type": "code",
      "execution_count": null,
      "metadata": {
        "id": "OKPP6X1QbEHQ",
        "outputId": "3ef83d39-4358-4204-b485-c778e74b1eaf"
      },
      "outputs": [
        {
          "data": {
            "text/plain": [
              "'mahdy'"
            ]
          },
          "execution_count": 3,
          "metadata": {},
          "output_type": "execute_result"
        }
      ],
      "source": [
        "l1[0]"
      ]
    },
    {
      "cell_type": "code",
      "execution_count": null,
      "metadata": {
        "id": "5wWJRyoWbEHQ",
        "outputId": "2c5eda99-beea-4b9e-bdb2-bacdf2077e0c"
      },
      "outputs": [
        {
          "data": {
            "text/plain": [
              "34"
            ]
          },
          "execution_count": 4,
          "metadata": {},
          "output_type": "execute_result"
        }
      ],
      "source": [
        "l1[1]"
      ]
    },
    {
      "cell_type": "code",
      "execution_count": null,
      "metadata": {
        "id": "wgC9uP12bEHQ",
        "outputId": "cacffecf-765d-48f0-9445-e8bfac4c2acc"
      },
      "outputs": [
        {
          "data": {
            "text/plain": [
              "1.5"
            ]
          },
          "execution_count": 5,
          "metadata": {},
          "output_type": "execute_result"
        }
      ],
      "source": [
        "l1[2]"
      ]
    },
    {
      "cell_type": "code",
      "execution_count": null,
      "metadata": {
        "id": "cXZm6WxQbEHR",
        "outputId": "cf88eac6-3ed4-4684-f448-9e5a60f8ba4f"
      },
      "outputs": [
        {
          "ename": "IndexError",
          "evalue": "list index out of range",
          "output_type": "error",
          "traceback": [
            "\u001b[0;31m---------------------------------------------------------------------------\u001b[0m",
            "\u001b[0;31mIndexError\u001b[0m                                Traceback (most recent call last)",
            "\u001b[0;32m<ipython-input-6-97e9c08a4d6c>\u001b[0m in \u001b[0;36m<module>\u001b[0;34m()\u001b[0m\n\u001b[0;32m----> 1\u001b[0;31m \u001b[0ml1\u001b[0m\u001b[1;33m[\u001b[0m\u001b[1;36m3\u001b[0m\u001b[1;33m]\u001b[0m\u001b[1;33m\u001b[0m\u001b[0m\n\u001b[0m",
            "\u001b[0;31mIndexError\u001b[0m: list index out of range"
          ]
        }
      ],
      "source": [
        "l1[3]"
      ]
    },
    {
      "cell_type": "code",
      "execution_count": null,
      "metadata": {
        "id": "vQXxws4GbEHR",
        "outputId": "947e5174-b3de-4f3e-b8ef-097eebe18388"
      },
      "outputs": [
        {
          "data": {
            "text/plain": [
              "3"
            ]
          },
          "execution_count": 7,
          "metadata": {},
          "output_type": "execute_result"
        }
      ],
      "source": [
        "len(l1)"
      ]
    },
    {
      "cell_type": "code",
      "execution_count": null,
      "metadata": {
        "id": "r6NvwgwmbEHR",
        "outputId": "92adad86-0cba-4631-8874-10cbc1905119"
      },
      "outputs": [
        {
          "data": {
            "text/plain": [
              "list"
            ]
          },
          "execution_count": 8,
          "metadata": {},
          "output_type": "execute_result"
        }
      ],
      "source": [
        "type(l1)"
      ]
    },
    {
      "cell_type": "code",
      "execution_count": null,
      "metadata": {
        "id": "lfTEmoBWbEHS",
        "outputId": "56a4b2fe-863d-4aee-b751-738850d1df8b"
      },
      "outputs": [
        {
          "name": "stdout",
          "output_type": "stream",
          "text": [
            "['ali', 20, ['ehsan', 15], 1.8]\n"
          ]
        }
      ],
      "source": [
        "l2=[\"ali\",20,[\"ehsan\",15],1.8]\n",
        "print(l2)"
      ]
    },
    {
      "cell_type": "code",
      "execution_count": null,
      "metadata": {
        "id": "_249a6-JbEHS",
        "outputId": "01ec783b-4c4d-48ca-8fc8-bb43e774a6b9"
      },
      "outputs": [
        {
          "data": {
            "text/plain": [
              "'ali'"
            ]
          },
          "execution_count": 10,
          "metadata": {},
          "output_type": "execute_result"
        }
      ],
      "source": [
        "l2[0]"
      ]
    },
    {
      "cell_type": "code",
      "execution_count": null,
      "metadata": {
        "id": "2nd0rAKUbEHS",
        "outputId": "6eda2931-1cbd-4a05-caef-330cb5d7eab6"
      },
      "outputs": [
        {
          "data": {
            "text/plain": [
              "['ehsan', 15]"
            ]
          },
          "execution_count": 11,
          "metadata": {},
          "output_type": "execute_result"
        }
      ],
      "source": [
        "l2[2]"
      ]
    },
    {
      "cell_type": "code",
      "execution_count": null,
      "metadata": {
        "id": "4sN6EdXgbEHT",
        "outputId": "c9e4ec5b-391e-4e25-c67f-8301085960f6"
      },
      "outputs": [
        {
          "data": {
            "text/plain": [
              "15"
            ]
          },
          "execution_count": 12,
          "metadata": {},
          "output_type": "execute_result"
        }
      ],
      "source": [
        "l2[2][1]"
      ]
    },
    {
      "cell_type": "code",
      "execution_count": null,
      "metadata": {
        "id": "pBoX3DBFbEHT",
        "outputId": "c0f91786-bd2e-4932-d15e-e13a638b9631"
      },
      "outputs": [
        {
          "data": {
            "text/plain": [
              "['mahdy', 34, 1.5, 'ali', 20, ['ehsan', 15], 1.8]"
            ]
          },
          "execution_count": 13,
          "metadata": {},
          "output_type": "execute_result"
        }
      ],
      "source": [
        "l1+l2"
      ]
    },
    {
      "cell_type": "code",
      "execution_count": null,
      "metadata": {
        "collapsed": true,
        "id": "dB2J8XnPbEHT"
      },
      "outputs": [],
      "source": [
        "l3=l1+l2"
      ]
    },
    {
      "cell_type": "code",
      "execution_count": null,
      "metadata": {
        "id": "v_boA_e1bEHU",
        "outputId": "93124686-d97c-406c-d628-4f53fcd8a5fe"
      },
      "outputs": [
        {
          "data": {
            "text/plain": [
              "['mahdy', 34, 1.5, 'ali', 20, ['ehsan', 15], 1.8]"
            ]
          },
          "execution_count": 15,
          "metadata": {},
          "output_type": "execute_result"
        }
      ],
      "source": [
        "l3"
      ]
    },
    {
      "cell_type": "code",
      "execution_count": null,
      "metadata": {
        "id": "_LdfHQbUbEHU",
        "outputId": "613e0d88-714c-43a4-f31b-4db6fbc8c667"
      },
      "outputs": [
        {
          "name": "stdout",
          "output_type": "stream",
          "text": [
            "['apple', 'orange', 'banana', 'kiwi', 'apple']\n"
          ]
        }
      ],
      "source": [
        "l3=[\"apple\",\"orange\",\"banana\",\"kiwi\",\"apple\"]\n",
        "print(l3)"
      ]
    },
    {
      "cell_type": "code",
      "execution_count": null,
      "metadata": {
        "id": "OmJkWIJ9bEHU",
        "outputId": "78889d3d-4635-47ce-9e53-080d2c333c5f"
      },
      "outputs": [
        {
          "data": {
            "text/plain": [
              "'apple orange banana kiwi apple'"
            ]
          },
          "execution_count": 17,
          "metadata": {},
          "output_type": "execute_result"
        }
      ],
      "source": [
        "\" \".join(l3)"
      ]
    },
    {
      "cell_type": "code",
      "execution_count": null,
      "metadata": {
        "id": "byDa37azbEHU",
        "outputId": "2bbdce7b-30c4-4885-d3a8-2af9a51b2722"
      },
      "outputs": [
        {
          "data": {
            "text/plain": [
              "'apple@orange@banana@kiwi@apple'"
            ]
          },
          "execution_count": 18,
          "metadata": {},
          "output_type": "execute_result"
        }
      ],
      "source": [
        "\"@\".join(l3)"
      ]
    },
    {
      "cell_type": "code",
      "execution_count": null,
      "metadata": {
        "id": "2FUsNVqibEHV",
        "outputId": "1db2da71-4d41-48c2-ae39-ae5fed0b3dc2"
      },
      "outputs": [
        {
          "data": {
            "text/plain": [
              "['apple', 'orange']"
            ]
          },
          "execution_count": 19,
          "metadata": {},
          "output_type": "execute_result"
        }
      ],
      "source": [
        "l3[0:2]"
      ]
    },
    {
      "cell_type": "code",
      "execution_count": null,
      "metadata": {
        "id": "oo9OEJJnbEHV",
        "outputId": "645e8a65-28eb-48c4-ac18-ea11aea121c6"
      },
      "outputs": [
        {
          "data": {
            "text/plain": [
              "['banana', 'kiwi']"
            ]
          },
          "execution_count": 20,
          "metadata": {},
          "output_type": "execute_result"
        }
      ],
      "source": [
        "l3[-3:-1]"
      ]
    },
    {
      "cell_type": "code",
      "execution_count": null,
      "metadata": {
        "id": "HbX7uPawbEHV",
        "outputId": "e88f639b-c98d-4c6f-84c5-5aa7cb47e80a"
      },
      "outputs": [
        {
          "name": "stdout",
          "output_type": "stream",
          "text": [
            "['melon', 'orange', 'banana', 'kiwi', 'apple']\n"
          ]
        }
      ],
      "source": [
        "l3[0]=\"melon\"\n",
        "print(l3)"
      ]
    },
    {
      "cell_type": "code",
      "execution_count": null,
      "metadata": {
        "collapsed": true,
        "id": "huzpy8RAbEHV"
      },
      "outputs": [],
      "source": [
        "l3.append(\"cucumber\")"
      ]
    },
    {
      "cell_type": "code",
      "execution_count": null,
      "metadata": {
        "id": "_ZeuNGtobEHW",
        "outputId": "7e1b9c79-ae15-4af9-aeeb-065172c66ebd"
      },
      "outputs": [
        {
          "name": "stdout",
          "output_type": "stream",
          "text": [
            "['melon', 'orange', 'banana', 'kiwi', 'apple', 'cucumber']\n"
          ]
        }
      ],
      "source": [
        "print(l3)"
      ]
    },
    {
      "cell_type": "code",
      "execution_count": null,
      "metadata": {
        "collapsed": true,
        "id": "27xzLZ66bEHW"
      },
      "outputs": [],
      "source": [
        "l3.remove(\"kiwi\")"
      ]
    },
    {
      "cell_type": "code",
      "execution_count": null,
      "metadata": {
        "id": "kzfLPiUWbEHW",
        "outputId": "8d3a8e4e-8124-4ac4-f0ae-69c31e42ee82"
      },
      "outputs": [
        {
          "data": {
            "text/plain": [
              "['melon', 'orange', 'banana', 'apple', 'cucumber']"
            ]
          },
          "execution_count": 25,
          "metadata": {},
          "output_type": "execute_result"
        }
      ],
      "source": [
        "l3"
      ]
    },
    {
      "cell_type": "code",
      "execution_count": null,
      "metadata": {
        "id": "h0QALqo0bEHW",
        "outputId": "63eaec78-6b21-455e-836c-8460e02e7ebd"
      },
      "outputs": [
        {
          "name": "stdout",
          "output_type": "stream",
          "text": [
            "1\n"
          ]
        }
      ],
      "source": [
        "print(l3.count(\"apple\"))"
      ]
    },
    {
      "cell_type": "code",
      "execution_count": null,
      "metadata": {
        "collapsed": true,
        "id": "6f_s7bvObEHW"
      },
      "outputs": [],
      "source": [
        "l3.clear()"
      ]
    },
    {
      "cell_type": "code",
      "execution_count": null,
      "metadata": {
        "id": "54t53Bq8bEHX",
        "outputId": "b4a38930-bafc-4e56-c04b-73af07ad750f"
      },
      "outputs": [
        {
          "data": {
            "text/plain": [
              "[]"
            ]
          },
          "execution_count": 28,
          "metadata": {},
          "output_type": "execute_result"
        }
      ],
      "source": [
        "l3"
      ]
    },
    {
      "cell_type": "markdown",
      "metadata": {
        "id": "GP0wW3lmbEHX"
      },
      "source": [
        "## tuple"
      ]
    },
    {
      "cell_type": "code",
      "execution_count": null,
      "metadata": {
        "id": "Fmj9WiIMbEHX",
        "outputId": "b686f5e7-f8b4-4b03-8168-bcb145d56d67"
      },
      "outputs": [
        {
          "data": {
            "text/plain": [
              "tuple"
            ]
          },
          "execution_count": 29,
          "metadata": {},
          "output_type": "execute_result"
        }
      ],
      "source": [
        "tup1=1,2,3\n",
        "type(tup1)"
      ]
    },
    {
      "cell_type": "code",
      "execution_count": null,
      "metadata": {
        "id": "W2BCjFwvbEHX",
        "outputId": "161995e6-db88-4e95-e2fa-ffc59df32a45"
      },
      "outputs": [
        {
          "data": {
            "text/plain": [
              "tuple"
            ]
          },
          "execution_count": 30,
          "metadata": {},
          "output_type": "execute_result"
        }
      ],
      "source": [
        "tup2=(4,5,6)\n",
        "type(tup2)"
      ]
    },
    {
      "cell_type": "code",
      "execution_count": null,
      "metadata": {
        "collapsed": true,
        "id": "FxO3d19xbEHY"
      },
      "outputs": [],
      "source": [
        "tup3=tup1+tup2"
      ]
    },
    {
      "cell_type": "code",
      "execution_count": null,
      "metadata": {
        "id": "YlNFXkmWbEHY",
        "outputId": "ebe01076-e5f2-485c-aac7-6d99e47db2b3"
      },
      "outputs": [
        {
          "name": "stdout",
          "output_type": "stream",
          "text": [
            "(1, 2, 3, 4, 5, 6)\n"
          ]
        }
      ],
      "source": [
        "print(tup3)"
      ]
    },
    {
      "cell_type": "code",
      "execution_count": null,
      "metadata": {
        "id": "c78F4G98bEHY",
        "outputId": "d76156c1-6195-42c5-a5a6-33950c878c78"
      },
      "outputs": [
        {
          "data": {
            "text/plain": [
              "1"
            ]
          },
          "execution_count": 33,
          "metadata": {},
          "output_type": "execute_result"
        }
      ],
      "source": [
        "tup1[0]"
      ]
    },
    {
      "cell_type": "code",
      "execution_count": null,
      "metadata": {
        "id": "1QJHipvAbEHY",
        "outputId": "bdabfe01-5ce5-49d0-bab5-4b1a97389253"
      },
      "outputs": [
        {
          "ename": "IndexError",
          "evalue": "tuple index out of range",
          "output_type": "error",
          "traceback": [
            "\u001b[0;31m---------------------------------------------------------------------------\u001b[0m",
            "\u001b[0;31mIndexError\u001b[0m                                Traceback (most recent call last)",
            "\u001b[0;32m<ipython-input-34-bd3a0e22e022>\u001b[0m in \u001b[0;36m<module>\u001b[0;34m()\u001b[0m\n\u001b[0;32m----> 1\u001b[0;31m \u001b[0mtup1\u001b[0m\u001b[1;33m[\u001b[0m\u001b[1;36m5\u001b[0m\u001b[1;33m]\u001b[0m\u001b[1;33m\u001b[0m\u001b[0m\n\u001b[0m",
            "\u001b[0;31mIndexError\u001b[0m: tuple index out of range"
          ]
        }
      ],
      "source": [
        "tup1[5]"
      ]
    },
    {
      "cell_type": "code",
      "execution_count": null,
      "metadata": {
        "id": "Fh8aZUtcbEHY",
        "outputId": "88c64181-b93a-4e49-83fc-2ef3d4542619"
      },
      "outputs": [
        {
          "ename": "TypeError",
          "evalue": "'tuple' object does not support item assignment",
          "output_type": "error",
          "traceback": [
            "\u001b[0;31m---------------------------------------------------------------------------\u001b[0m",
            "\u001b[0;31mTypeError\u001b[0m                                 Traceback (most recent call last)",
            "\u001b[0;32m<ipython-input-35-3d00fb071a4e>\u001b[0m in \u001b[0;36m<module>\u001b[0;34m()\u001b[0m\n\u001b[0;32m----> 1\u001b[0;31m \u001b[0mtup1\u001b[0m\u001b[1;33m[\u001b[0m\u001b[1;36m0\u001b[0m\u001b[1;33m]\u001b[0m\u001b[1;33m=\u001b[0m\u001b[1;36m5\u001b[0m\u001b[1;33m\u001b[0m\u001b[0m\n\u001b[0m",
            "\u001b[0;31mTypeError\u001b[0m: 'tuple' object does not support item assignment"
          ]
        }
      ],
      "source": [
        "tup1[0]=5"
      ]
    },
    {
      "cell_type": "code",
      "execution_count": null,
      "metadata": {
        "id": "3U0riabTbEHY",
        "outputId": "6a656abf-a9a0-43dd-a130-c21d5e180d23"
      },
      "outputs": [
        {
          "data": {
            "text/plain": [
              "int"
            ]
          },
          "execution_count": 36,
          "metadata": {},
          "output_type": "execute_result"
        }
      ],
      "source": [
        "a=33\n",
        "type(a)"
      ]
    },
    {
      "cell_type": "code",
      "execution_count": null,
      "metadata": {
        "id": "W7rcQ0vIbEHZ",
        "outputId": "8d563ced-df08-4d74-84da-70ff2a40bf0e"
      },
      "outputs": [
        {
          "data": {
            "text/plain": [
              "tuple"
            ]
          },
          "execution_count": 37,
          "metadata": {},
          "output_type": "execute_result"
        }
      ],
      "source": [
        "a=33,\n",
        "type(a)"
      ]
    },
    {
      "cell_type": "code",
      "execution_count": null,
      "metadata": {
        "id": "Fju5yctIbEHZ",
        "outputId": "a26bef0b-d690-439e-9760-30ecdb35375c"
      },
      "outputs": [
        {
          "data": {
            "text/plain": [
              "3"
            ]
          },
          "execution_count": 38,
          "metadata": {},
          "output_type": "execute_result"
        }
      ],
      "source": [
        "len(tup1)"
      ]
    },
    {
      "cell_type": "code",
      "execution_count": null,
      "metadata": {
        "id": "OJua2WLPbEHZ",
        "outputId": "8e320606-13b6-4bca-84b8-50cabb11e632"
      },
      "outputs": [
        {
          "name": "stdout",
          "output_type": "stream",
          "text": [
            "1\n"
          ]
        }
      ],
      "source": [
        "x,y,z=tup1\n",
        "print(x)"
      ]
    },
    {
      "cell_type": "code",
      "execution_count": null,
      "metadata": {
        "id": "0bGS_GIzbEHZ",
        "outputId": "e9666b15-f248-4359-9ce5-448759a615e6"
      },
      "outputs": [
        {
          "name": "stdout",
          "output_type": "stream",
          "text": [
            "2\n"
          ]
        }
      ],
      "source": [
        "print(y)"
      ]
    },
    {
      "cell_type": "code",
      "execution_count": null,
      "metadata": {
        "id": "kH8_trvzbEHa",
        "outputId": "ada99461-79a3-43fd-8ca3-68fc3d7cec66"
      },
      "outputs": [
        {
          "name": "stdout",
          "output_type": "stream",
          "text": [
            "3\n"
          ]
        }
      ],
      "source": [
        "print(z)"
      ]
    },
    {
      "cell_type": "markdown",
      "metadata": {
        "id": "dClgF2qrbEHa"
      },
      "source": [
        "## Dict"
      ]
    },
    {
      "cell_type": "code",
      "execution_count": null,
      "metadata": {
        "id": "lfaqbG1dbEHa",
        "outputId": "3c2c89ed-bd0a-44d9-b3e6-971722f062e7"
      },
      "outputs": [
        {
          "name": "stdout",
          "output_type": "stream",
          "text": [
            "{'tehran': 21, 'esfahan': 31, 'qom': 25}\n"
          ]
        }
      ],
      "source": [
        "tel={\"tehran\":21,\"esfahan\":31,\"qom\":25}\n",
        "print(tel)"
      ]
    },
    {
      "cell_type": "code",
      "execution_count": null,
      "metadata": {
        "id": "VpvzIfVxbEHa",
        "outputId": "03a04503-7321-4612-b95a-622501dbf568"
      },
      "outputs": [
        {
          "data": {
            "text/plain": [
              "dict"
            ]
          },
          "execution_count": 43,
          "metadata": {},
          "output_type": "execute_result"
        }
      ],
      "source": [
        "type(tel)"
      ]
    },
    {
      "cell_type": "code",
      "execution_count": null,
      "metadata": {
        "id": "mCoUj750bEHa",
        "outputId": "3b60aadc-02af-4244-9993-51b58197b0fe"
      },
      "outputs": [
        {
          "data": {
            "text/plain": [
              "3"
            ]
          },
          "execution_count": 44,
          "metadata": {},
          "output_type": "execute_result"
        }
      ],
      "source": [
        "len(tel)"
      ]
    },
    {
      "cell_type": "code",
      "execution_count": null,
      "metadata": {
        "id": "RcIzn1gFbEHa",
        "outputId": "1e37a4aa-4042-4209-ebbd-08ad99db851a"
      },
      "outputs": [
        {
          "data": {
            "text/plain": [
              "dict_keys(['tehran', 'esfahan', 'qom'])"
            ]
          },
          "execution_count": 45,
          "metadata": {},
          "output_type": "execute_result"
        }
      ],
      "source": [
        "tel.keys()"
      ]
    },
    {
      "cell_type": "code",
      "execution_count": null,
      "metadata": {
        "id": "YBXYU_FSbEHb",
        "outputId": "3a80a57e-ff41-4085-8a60-f64c4b729e9b"
      },
      "outputs": [
        {
          "data": {
            "text/plain": [
              "dict_values([21, 31, 25])"
            ]
          },
          "execution_count": 46,
          "metadata": {},
          "output_type": "execute_result"
        }
      ],
      "source": [
        "tel.values()"
      ]
    },
    {
      "cell_type": "code",
      "execution_count": null,
      "metadata": {
        "id": "KuA5XGdcbEHb",
        "outputId": "4d857e2b-dd5f-4019-bd91-f911983984e0"
      },
      "outputs": [
        {
          "data": {
            "text/plain": [
              "21"
            ]
          },
          "execution_count": 47,
          "metadata": {},
          "output_type": "execute_result"
        }
      ],
      "source": [
        "tel[\"tehran\"]"
      ]
    },
    {
      "cell_type": "code",
      "execution_count": null,
      "metadata": {
        "id": "P-r_VUFebEHb",
        "outputId": "0fabeee1-9485-45f2-dc3b-4049f6900026"
      },
      "outputs": [
        {
          "name": "stdout",
          "output_type": "stream",
          "text": [
            "{'tehran': 21, 'esfahan': 31, 'qom': 26}\n"
          ]
        }
      ],
      "source": [
        "tel[\"qom\"]=26\n",
        "print(tel)"
      ]
    },
    {
      "cell_type": "code",
      "execution_count": null,
      "metadata": {
        "id": "ppqWK3uqbEHb",
        "outputId": "85dcc3ff-dc88-4c50-9070-f35fe4d608e6"
      },
      "outputs": [
        {
          "name": "stdout",
          "output_type": "stream",
          "text": [
            "{'tehran': 21, 'qom': 26}\n"
          ]
        }
      ],
      "source": [
        "del tel[\"esfahan\"]\n",
        "print(tel)"
      ]
    },
    {
      "cell_type": "code",
      "execution_count": null,
      "metadata": {
        "id": "kNsXIctrbEHb",
        "outputId": "f20be4a4-5340-4cde-aa03-cf73b879206c"
      },
      "outputs": [
        {
          "ename": "KeyError",
          "evalue": "'tabriz'",
          "output_type": "error",
          "traceback": [
            "\u001b[0;31m---------------------------------------------------------------------------\u001b[0m",
            "\u001b[0;31mKeyError\u001b[0m                                  Traceback (most recent call last)",
            "\u001b[0;32m<ipython-input-50-6c4f7758621a>\u001b[0m in \u001b[0;36m<module>\u001b[0;34m()\u001b[0m\n\u001b[0;32m----> 1\u001b[0;31m \u001b[0mtel\u001b[0m\u001b[1;33m[\u001b[0m\u001b[1;34m\"tabriz\"\u001b[0m\u001b[1;33m]\u001b[0m\u001b[1;33m\u001b[0m\u001b[0m\n\u001b[0m",
            "\u001b[0;31mKeyError\u001b[0m: 'tabriz'"
          ]
        }
      ],
      "source": [
        "tel[\"tabriz\"]"
      ]
    },
    {
      "cell_type": "code",
      "execution_count": null,
      "metadata": {
        "id": "7pIYXaiLbEHc",
        "outputId": "83dfd2cc-2b6e-4df0-b658-e13224ce758f"
      },
      "outputs": [
        {
          "data": {
            "text/plain": [
              "False"
            ]
          },
          "execution_count": 54,
          "metadata": {},
          "output_type": "execute_result"
        }
      ],
      "source": [
        "\"tabriz\" in tel.keys()"
      ]
    },
    {
      "cell_type": "code",
      "execution_count": null,
      "metadata": {
        "collapsed": true,
        "id": "jJ4UwmGTbEHc"
      },
      "outputs": [],
      "source": [
        "#DefaultDict"
      ]
    },
    {
      "cell_type": "markdown",
      "metadata": {
        "id": "BK41MdAGbEHc"
      },
      "source": [
        "## set"
      ]
    },
    {
      "cell_type": "code",
      "execution_count": null,
      "metadata": {
        "id": "KWSu6hhJbEHc",
        "outputId": "8d057b19-28cb-432a-836d-f5068d24e2f9"
      },
      "outputs": [
        {
          "name": "stdout",
          "output_type": "stream",
          "text": [
            "{1, 2, 3, 4, 5}\n"
          ]
        }
      ],
      "source": [
        "s1=set([1,1,2,3,4,5])\n",
        "print(s1)"
      ]
    },
    {
      "cell_type": "code",
      "execution_count": null,
      "metadata": {
        "id": "geSl7FcbbEHc",
        "outputId": "4b915b36-b550-4d95-b3b2-b2a3119f14d3"
      },
      "outputs": [
        {
          "data": {
            "text/plain": [
              "set"
            ]
          },
          "execution_count": 57,
          "metadata": {},
          "output_type": "execute_result"
        }
      ],
      "source": [
        "type(s1)"
      ]
    },
    {
      "cell_type": "code",
      "execution_count": null,
      "metadata": {
        "id": "DS3N_5ezbEHd",
        "outputId": "2d8c4c83-126d-4a65-9ea8-b96514a4180f"
      },
      "outputs": [
        {
          "data": {
            "text/plain": [
              "5"
            ]
          },
          "execution_count": 58,
          "metadata": {},
          "output_type": "execute_result"
        }
      ],
      "source": [
        "len(s1)"
      ]
    },
    {
      "cell_type": "code",
      "execution_count": null,
      "metadata": {
        "id": "PoZK04RwbEHd",
        "outputId": "1b97b7b1-50e6-4a10-8111-0ade88ee130e"
      },
      "outputs": [
        {
          "name": "stdout",
          "output_type": "stream",
          "text": [
            "{1, 4, 5}\n"
          ]
        }
      ],
      "source": [
        "s2=set([4,5,1])\n",
        "print(s2)"
      ]
    },
    {
      "cell_type": "code",
      "execution_count": null,
      "metadata": {
        "id": "u5PVgpfBbEHd",
        "outputId": "bcdef35b-318c-4157-83bb-6e5e70a352cb"
      },
      "outputs": [
        {
          "data": {
            "text/plain": [
              "{1, 2, 3, 4, 5}"
            ]
          },
          "execution_count": 61,
          "metadata": {},
          "output_type": "execute_result"
        }
      ],
      "source": [
        "s1.union(s2)"
      ]
    },
    {
      "cell_type": "code",
      "execution_count": null,
      "metadata": {
        "id": "vLWEG87IbEHd",
        "outputId": "f023f375-35b3-4cd7-b6ae-e9a310975fc6"
      },
      "outputs": [
        {
          "data": {
            "text/plain": [
              "{1, 4, 5}"
            ]
          },
          "execution_count": 62,
          "metadata": {},
          "output_type": "execute_result"
        }
      ],
      "source": [
        "s1.intersection(s2)"
      ]
    },
    {
      "cell_type": "code",
      "execution_count": null,
      "metadata": {
        "collapsed": true,
        "id": "ZFalB4BHbEHd"
      },
      "outputs": [],
      "source": []
    }
  ],
  "metadata": {
    "kernelspec": {
      "display_name": "Python 3",
      "language": "python",
      "name": "python3"
    },
    "language_info": {
      "codemirror_mode": {
        "name": "ipython",
        "version": 3
      },
      "file_extension": ".py",
      "mimetype": "text/x-python",
      "name": "python",
      "nbconvert_exporter": "python",
      "pygments_lexer": "ipython3",
      "version": "3.6.0"
    },
    "colab": {
      "provenance": [],
      "include_colab_link": true
    }
  },
  "nbformat": 4,
  "nbformat_minor": 0
}