{
  "cells": [
    {
      "cell_type": "markdown",
      "metadata": {
        "id": "view-in-github",
        "colab_type": "text"
      },
      "source": [
        "<a href=\"https://colab.research.google.com/github/aminramezani345/NLTKCodesByFaraDars/blob/main/DataStructures.ipynb\" target=\"_parent\"><img src=\"https://colab.research.google.com/assets/colab-badge.svg\" alt=\"Open In Colab\"/></a>"
      ]
    },
    {
      "cell_type": "code",
      "execution_count": null,
      "metadata": {
        "id": "6ssz32JWZ5cf",
        "outputId": "187df807-984a-406a-b5d9-841f7bb43a53"
      },
      "outputs": [
        {
          "name": "stdout",
          "output_type": "stream",
          "text": [
            "['mahdy', 34, 1.5]\n"
          ]
        }
      ],
      "source": [
        "l1=[\"mahdy\",34,1.5]\n",
        "print(l1)"
      ]
    },
    {
      "cell_type": "code",
      "execution_count": null,
      "metadata": {
        "id": "C-LYb8NaZ5ch",
        "outputId": "bfa1c4b1-30dd-43f7-da58-fcb1223fa10b"
      },
      "outputs": [
        {
          "data": {
            "text/plain": [
              "'mahdy'"
            ]
          },
          "execution_count": 2,
          "metadata": {},
          "output_type": "execute_result"
        }
      ],
      "source": [
        "l1[0]"
      ]
    },
    {
      "cell_type": "code",
      "execution_count": null,
      "metadata": {
        "id": "cCYh2lGrZ5ch",
        "outputId": "a3ffd93e-e688-4cbd-b650-917c438cc18f"
      },
      "outputs": [
        {
          "data": {
            "text/plain": [
              "34"
            ]
          },
          "execution_count": 3,
          "metadata": {},
          "output_type": "execute_result"
        }
      ],
      "source": [
        "l1[1]"
      ]
    },
    {
      "cell_type": "code",
      "execution_count": null,
      "metadata": {
        "id": "ccah1dk4Z5ci",
        "outputId": "ae5d7325-e5a7-4cc6-ec2c-5751baa11649"
      },
      "outputs": [
        {
          "data": {
            "text/plain": [
              "1.5"
            ]
          },
          "execution_count": 4,
          "metadata": {},
          "output_type": "execute_result"
        }
      ],
      "source": [
        "l1[2]"
      ]
    },
    {
      "cell_type": "code",
      "execution_count": null,
      "metadata": {
        "id": "mo-1VTBSZ5ci",
        "outputId": "f1a177d2-b85f-4630-adc2-1c0621ab9a68"
      },
      "outputs": [
        {
          "ename": "IndexError",
          "evalue": "list index out of range",
          "output_type": "error",
          "traceback": [
            "\u001b[0;31m---------------------------------------------------------------------------\u001b[0m",
            "\u001b[0;31mIndexError\u001b[0m                                Traceback (most recent call last)",
            "\u001b[0;32m<ipython-input-5-97e9c08a4d6c>\u001b[0m in \u001b[0;36m<module>\u001b[0;34m()\u001b[0m\n\u001b[0;32m----> 1\u001b[0;31m \u001b[0ml1\u001b[0m\u001b[1;33m[\u001b[0m\u001b[1;36m3\u001b[0m\u001b[1;33m]\u001b[0m\u001b[1;33m\u001b[0m\u001b[0m\n\u001b[0m",
            "\u001b[0;31mIndexError\u001b[0m: list index out of range"
          ]
        }
      ],
      "source": [
        "l1[3]"
      ]
    },
    {
      "cell_type": "code",
      "execution_count": null,
      "metadata": {
        "id": "7_f4AUl5Z5ci",
        "outputId": "f44d4db0-5ae6-494c-e541-4f49bafad2bf"
      },
      "outputs": [
        {
          "data": {
            "text/plain": [
              "3"
            ]
          },
          "execution_count": 6,
          "metadata": {},
          "output_type": "execute_result"
        }
      ],
      "source": [
        "len(l1)"
      ]
    },
    {
      "cell_type": "code",
      "execution_count": null,
      "metadata": {
        "id": "1_ilB6xBZ5cj",
        "outputId": "b6d0f650-50ea-41b0-9c6f-e5dc2ffdbeaa"
      },
      "outputs": [
        {
          "data": {
            "text/plain": [
              "list"
            ]
          },
          "execution_count": 7,
          "metadata": {},
          "output_type": "execute_result"
        }
      ],
      "source": [
        "type(l1)"
      ]
    },
    {
      "cell_type": "code",
      "execution_count": null,
      "metadata": {
        "id": "UQqRs67TZ5cj",
        "outputId": "38662c35-4872-4ed9-a1ba-247ca89e7fdf"
      },
      "outputs": [
        {
          "name": "stdout",
          "output_type": "stream",
          "text": [
            "['ali', 20, ['ehsan', 15], 1.8]\n"
          ]
        }
      ],
      "source": [
        "l2=[\"ali\",20,[\"ehsan\",15],1.8]\n",
        "print(l2)"
      ]
    },
    {
      "cell_type": "code",
      "execution_count": null,
      "metadata": {
        "id": "qqo9n0l9Z5cj",
        "outputId": "b7f8821c-52fb-47cb-9651-f1d95ecc763d"
      },
      "outputs": [
        {
          "data": {
            "text/plain": [
              "'ali'"
            ]
          },
          "execution_count": 9,
          "metadata": {},
          "output_type": "execute_result"
        }
      ],
      "source": [
        "l2[0]"
      ]
    },
    {
      "cell_type": "code",
      "execution_count": null,
      "metadata": {
        "id": "KtPclu_DZ5ck",
        "outputId": "2edfd49c-f001-465a-b8cc-4847fd8b985d"
      },
      "outputs": [
        {
          "data": {
            "text/plain": [
              "['ehsan', 15]"
            ]
          },
          "execution_count": 10,
          "metadata": {},
          "output_type": "execute_result"
        }
      ],
      "source": [
        "l2[2]"
      ]
    },
    {
      "cell_type": "code",
      "execution_count": null,
      "metadata": {
        "id": "X1h-Z87LZ5ck",
        "outputId": "91a31598-998f-46a3-dc87-11684c9d58a3"
      },
      "outputs": [
        {
          "data": {
            "text/plain": [
              "15"
            ]
          },
          "execution_count": 12,
          "metadata": {},
          "output_type": "execute_result"
        }
      ],
      "source": [
        "l2[2][1]"
      ]
    },
    {
      "cell_type": "code",
      "execution_count": null,
      "metadata": {
        "id": "mBS2VPzPZ5ck",
        "outputId": "e26c2114-d0cd-492b-e88e-57c9e14fd36d"
      },
      "outputs": [
        {
          "data": {
            "text/plain": [
              "['mahdy', 34, 1.5, 'ali', 20, ['ehsan', 15], 1.8]"
            ]
          },
          "execution_count": 13,
          "metadata": {},
          "output_type": "execute_result"
        }
      ],
      "source": [
        "l1+l2"
      ]
    },
    {
      "cell_type": "code",
      "execution_count": null,
      "metadata": {
        "collapsed": true,
        "id": "ERwxyc4JZ5ck"
      },
      "outputs": [],
      "source": [
        "l3=l1+l2"
      ]
    },
    {
      "cell_type": "code",
      "execution_count": null,
      "metadata": {
        "id": "FGyJ1NbHZ5cl",
        "outputId": "0b020143-9b8c-4041-db88-483ede67d803"
      },
      "outputs": [
        {
          "data": {
            "text/plain": [
              "['mahdy', 34, 1.5, 'ali', 20, ['ehsan', 15], 1.8]"
            ]
          },
          "execution_count": 15,
          "metadata": {},
          "output_type": "execute_result"
        }
      ],
      "source": [
        "l3"
      ]
    },
    {
      "cell_type": "code",
      "execution_count": null,
      "metadata": {
        "id": "LwFV6VqoZ5cl",
        "outputId": "8f6e831c-ba9a-4f7c-c4d8-787311b066bc"
      },
      "outputs": [
        {
          "name": "stdout",
          "output_type": "stream",
          "text": [
            "['apple', 'orange', 'banana', 'kiwi', 'apple']\n"
          ]
        }
      ],
      "source": [
        "l3=[\"apple\",\"orange\",\"banana\",\"kiwi\",\"apple\"]\n",
        "print(l3)"
      ]
    },
    {
      "cell_type": "code",
      "execution_count": null,
      "metadata": {
        "id": "4uoIUaNAZ5cl",
        "outputId": "aacbbdf5-1dfc-425f-d81b-05cf7662b609"
      },
      "outputs": [
        {
          "data": {
            "text/plain": [
              "'apple orange banana kiwi apple'"
            ]
          },
          "execution_count": 17,
          "metadata": {},
          "output_type": "execute_result"
        }
      ],
      "source": [
        "\" \".join(l3)"
      ]
    },
    {
      "cell_type": "code",
      "execution_count": null,
      "metadata": {
        "id": "YkFULnMxZ5cm",
        "outputId": "6974611b-ae90-4f49-a3b5-6d581966d40e"
      },
      "outputs": [
        {
          "data": {
            "text/plain": [
              "'apple@orange@banana@kiwi@apple'"
            ]
          },
          "execution_count": 18,
          "metadata": {},
          "output_type": "execute_result"
        }
      ],
      "source": [
        "\"@\".join(l3)"
      ]
    },
    {
      "cell_type": "code",
      "execution_count": null,
      "metadata": {
        "id": "N6aaTCG4Z5cm",
        "outputId": "952b650d-d5f6-4714-e561-4c917c7de18b"
      },
      "outputs": [
        {
          "data": {
            "text/plain": [
              "['apple', 'orange']"
            ]
          },
          "execution_count": 19,
          "metadata": {},
          "output_type": "execute_result"
        }
      ],
      "source": [
        "l3[0:2]"
      ]
    },
    {
      "cell_type": "code",
      "execution_count": null,
      "metadata": {
        "id": "O4_EZgYRZ5cm",
        "outputId": "b62f151a-89d4-41aa-f77d-c95509c88bb1"
      },
      "outputs": [
        {
          "data": {
            "text/plain": [
              "['banana', 'kiwi']"
            ]
          },
          "execution_count": 20,
          "metadata": {},
          "output_type": "execute_result"
        }
      ],
      "source": [
        "l3[-3:-1]"
      ]
    },
    {
      "cell_type": "code",
      "execution_count": null,
      "metadata": {
        "id": "Sxon_wo9Z5cm",
        "outputId": "bf285471-50e2-4f70-f0a2-e1dec2d11605"
      },
      "outputs": [
        {
          "name": "stdout",
          "output_type": "stream",
          "text": [
            "['melon', 'orange', 'banana', 'kiwi', 'apple']\n"
          ]
        }
      ],
      "source": [
        "l3[0]=\"melon\"\n",
        "print(l3)"
      ]
    },
    {
      "cell_type": "code",
      "execution_count": null,
      "metadata": {
        "collapsed": true,
        "id": "N3STwk9BZ5cn"
      },
      "outputs": [],
      "source": [
        "l3.append(\"cucumber\")"
      ]
    },
    {
      "cell_type": "code",
      "execution_count": null,
      "metadata": {
        "id": "myBgvdBRZ5cn",
        "outputId": "c9962efc-de89-4561-9979-e8e396a1b6a4"
      },
      "outputs": [
        {
          "name": "stdout",
          "output_type": "stream",
          "text": [
            "['melon', 'orange', 'banana', 'kiwi', 'apple', 'cucumber']\n"
          ]
        }
      ],
      "source": [
        "print(l3)"
      ]
    },
    {
      "cell_type": "code",
      "execution_count": null,
      "metadata": {
        "collapsed": true,
        "id": "_XujAFpKZ5cn"
      },
      "outputs": [],
      "source": [
        "l3.remove(\"kiwi\")"
      ]
    },
    {
      "cell_type": "code",
      "execution_count": null,
      "metadata": {
        "id": "x5hrfm4LZ5cn",
        "outputId": "4dbba87a-1d2d-4c58-b1ce-59910c9eb046"
      },
      "outputs": [
        {
          "data": {
            "text/plain": [
              "['melon', 'orange', 'banana', 'apple', 'cucumber']"
            ]
          },
          "execution_count": 25,
          "metadata": {},
          "output_type": "execute_result"
        }
      ],
      "source": [
        "l3"
      ]
    },
    {
      "cell_type": "code",
      "execution_count": null,
      "metadata": {
        "id": "VIHwqCvhZ5cn",
        "outputId": "4ee27643-fee9-4b32-ad3f-71f9f297615a"
      },
      "outputs": [
        {
          "name": "stdout",
          "output_type": "stream",
          "text": [
            "1\n"
          ]
        }
      ],
      "source": [
        "print(l3.count(\"apple\"))"
      ]
    },
    {
      "cell_type": "code",
      "execution_count": null,
      "metadata": {
        "collapsed": true,
        "id": "ij1uFjEeZ5co"
      },
      "outputs": [],
      "source": [
        "l3.clear()"
      ]
    },
    {
      "cell_type": "code",
      "execution_count": null,
      "metadata": {
        "id": "GCbO-4vBZ5co",
        "outputId": "3a17dfbf-2007-4601-bb3f-dcfe0c562717"
      },
      "outputs": [
        {
          "data": {
            "text/plain": [
              "[]"
            ]
          },
          "execution_count": 28,
          "metadata": {},
          "output_type": "execute_result"
        }
      ],
      "source": [
        "l3"
      ]
    },
    {
      "cell_type": "markdown",
      "metadata": {
        "id": "mxNeYC7BZ5co"
      },
      "source": [
        "## tuple"
      ]
    },
    {
      "cell_type": "code",
      "execution_count": null,
      "metadata": {
        "id": "7c3XmrsZZ5cp",
        "outputId": "4acaa9ce-7661-49ab-9cc4-d8919d842178"
      },
      "outputs": [
        {
          "data": {
            "text/plain": [
              "tuple"
            ]
          },
          "execution_count": 29,
          "metadata": {},
          "output_type": "execute_result"
        }
      ],
      "source": [
        "tup1=1,2,3\n",
        "type(tup1)"
      ]
    },
    {
      "cell_type": "code",
      "execution_count": null,
      "metadata": {
        "id": "xONPIijqZ5cq",
        "outputId": "18a69a89-bcc7-40ba-9b40-066347843a60"
      },
      "outputs": [
        {
          "data": {
            "text/plain": [
              "tuple"
            ]
          },
          "execution_count": 30,
          "metadata": {},
          "output_type": "execute_result"
        }
      ],
      "source": [
        "tup2=(4,5,6)\n",
        "type(tup2)"
      ]
    },
    {
      "cell_type": "code",
      "execution_count": null,
      "metadata": {
        "collapsed": true,
        "id": "9QpiKLwvZ5cq"
      },
      "outputs": [],
      "source": [
        "tup3=tup1+tup2"
      ]
    },
    {
      "cell_type": "code",
      "execution_count": null,
      "metadata": {
        "id": "FFvBInYYZ5cq",
        "outputId": "bb22565d-440c-4d14-dc81-d2632e8ca504"
      },
      "outputs": [
        {
          "name": "stdout",
          "output_type": "stream",
          "text": [
            "(1, 2, 3, 4, 5, 6)\n"
          ]
        }
      ],
      "source": [
        "print(tup3)"
      ]
    },
    {
      "cell_type": "code",
      "execution_count": null,
      "metadata": {
        "id": "aqGirli8Z5cr",
        "outputId": "6774caea-01b8-40d5-b62a-c9eff39506af"
      },
      "outputs": [
        {
          "data": {
            "text/plain": [
              "1"
            ]
          },
          "execution_count": 33,
          "metadata": {},
          "output_type": "execute_result"
        }
      ],
      "source": [
        "tup1[0]"
      ]
    },
    {
      "cell_type": "code",
      "execution_count": null,
      "metadata": {
        "id": "qHXkKEVQZ5cr",
        "outputId": "647201b5-752b-41b9-d224-970e4d45a5ce"
      },
      "outputs": [
        {
          "ename": "IndexError",
          "evalue": "tuple index out of range",
          "output_type": "error",
          "traceback": [
            "\u001b[0;31m---------------------------------------------------------------------------\u001b[0m",
            "\u001b[0;31mIndexError\u001b[0m                                Traceback (most recent call last)",
            "\u001b[0;32m<ipython-input-34-bd3a0e22e022>\u001b[0m in \u001b[0;36m<module>\u001b[0;34m()\u001b[0m\n\u001b[0;32m----> 1\u001b[0;31m \u001b[0mtup1\u001b[0m\u001b[1;33m[\u001b[0m\u001b[1;36m5\u001b[0m\u001b[1;33m]\u001b[0m\u001b[1;33m\u001b[0m\u001b[0m\n\u001b[0m",
            "\u001b[0;31mIndexError\u001b[0m: tuple index out of range"
          ]
        }
      ],
      "source": [
        "tup1[5]"
      ]
    },
    {
      "cell_type": "code",
      "execution_count": null,
      "metadata": {
        "id": "OOuWWFPZZ5cr",
        "outputId": "2db72a72-8d78-4b1d-8a64-408ebfcd632e"
      },
      "outputs": [
        {
          "ename": "TypeError",
          "evalue": "'tuple' object does not support item assignment",
          "output_type": "error",
          "traceback": [
            "\u001b[0;31m---------------------------------------------------------------------------\u001b[0m",
            "\u001b[0;31mTypeError\u001b[0m                                 Traceback (most recent call last)",
            "\u001b[0;32m<ipython-input-35-3d00fb071a4e>\u001b[0m in \u001b[0;36m<module>\u001b[0;34m()\u001b[0m\n\u001b[0;32m----> 1\u001b[0;31m \u001b[0mtup1\u001b[0m\u001b[1;33m[\u001b[0m\u001b[1;36m0\u001b[0m\u001b[1;33m]\u001b[0m\u001b[1;33m=\u001b[0m\u001b[1;36m5\u001b[0m\u001b[1;33m\u001b[0m\u001b[0m\n\u001b[0m",
            "\u001b[0;31mTypeError\u001b[0m: 'tuple' object does not support item assignment"
          ]
        }
      ],
      "source": [
        "tup1[0]=5"
      ]
    },
    {
      "cell_type": "code",
      "execution_count": null,
      "metadata": {
        "id": "vxUEm6B6Z5cs",
        "outputId": "9c80a27f-767c-421d-b89f-7996b77951c4"
      },
      "outputs": [
        {
          "data": {
            "text/plain": [
              "int"
            ]
          },
          "execution_count": 36,
          "metadata": {},
          "output_type": "execute_result"
        }
      ],
      "source": [
        "a=33\n",
        "type(a)"
      ]
    },
    {
      "cell_type": "code",
      "execution_count": null,
      "metadata": {
        "id": "jVNNBZvqZ5cs",
        "outputId": "d8717fb0-419f-40f3-f88e-04ce31d4c244"
      },
      "outputs": [
        {
          "data": {
            "text/plain": [
              "tuple"
            ]
          },
          "execution_count": 37,
          "metadata": {},
          "output_type": "execute_result"
        }
      ],
      "source": [
        "a=33,\n",
        "type(a)"
      ]
    },
    {
      "cell_type": "code",
      "execution_count": null,
      "metadata": {
        "id": "J0XnPnIeZ5cs",
        "outputId": "b3848d3f-ed3d-4a30-f220-87852f160c7b"
      },
      "outputs": [
        {
          "data": {
            "text/plain": [
              "3"
            ]
          },
          "execution_count": 38,
          "metadata": {},
          "output_type": "execute_result"
        }
      ],
      "source": [
        "len(tup1)"
      ]
    },
    {
      "cell_type": "code",
      "execution_count": null,
      "metadata": {
        "id": "avBTGxRtZ5cs",
        "outputId": "4fa421f4-c460-4c40-e7e2-973b4efd651c"
      },
      "outputs": [
        {
          "name": "stdout",
          "output_type": "stream",
          "text": [
            "1\n"
          ]
        }
      ],
      "source": [
        "x,y,z=tup1\n",
        "print(x)"
      ]
    },
    {
      "cell_type": "code",
      "execution_count": null,
      "metadata": {
        "id": "JU0YHq2WZ5ct",
        "outputId": "f7884a2c-7468-43cf-af4d-9445f4661898"
      },
      "outputs": [
        {
          "name": "stdout",
          "output_type": "stream",
          "text": [
            "2\n"
          ]
        }
      ],
      "source": [
        "print(y)"
      ]
    },
    {
      "cell_type": "code",
      "execution_count": null,
      "metadata": {
        "id": "Woj5xwfQZ5ct",
        "outputId": "f6cce700-9796-453d-dbbf-55d9fa7e8805"
      },
      "outputs": [
        {
          "name": "stdout",
          "output_type": "stream",
          "text": [
            "3\n"
          ]
        }
      ],
      "source": [
        "print(z)"
      ]
    },
    {
      "cell_type": "code",
      "execution_count": null,
      "metadata": {
        "collapsed": true,
        "id": "0NTjqsdkZ5ct"
      },
      "outputs": [],
      "source": []
    }
  ],
  "metadata": {
    "kernelspec": {
      "display_name": "Python 3",
      "language": "python",
      "name": "python3"
    },
    "language_info": {
      "codemirror_mode": {
        "name": "ipython",
        "version": 3
      },
      "file_extension": ".py",
      "mimetype": "text/x-python",
      "name": "python",
      "nbconvert_exporter": "python",
      "pygments_lexer": "ipython3",
      "version": "3.6.0"
    },
    "colab": {
      "provenance": [],
      "include_colab_link": true
    }
  },
  "nbformat": 4,
  "nbformat_minor": 0
}