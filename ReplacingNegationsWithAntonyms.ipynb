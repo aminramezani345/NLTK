{
  "cells": [
    {
      "cell_type": "markdown",
      "metadata": {
        "id": "view-in-github",
        "colab_type": "text"
      },
      "source": [
        "<a href=\"https://colab.research.google.com/github/aminramezani345/NLTKCodesByFaraDars/blob/main/ReplacingNegationsWithAntonyms.ipynb\" target=\"_parent\"><img src=\"https://colab.research.google.com/assets/colab-badge.svg\" alt=\"Open In Colab\"/></a>"
      ]
    },
    {
      "cell_type": "markdown",
      "metadata": {
        "id": "XfuGeyjT0VdE"
      },
      "source": [
        "# Replacing Negations with Antonyms"
      ]
    },
    {
      "cell_type": "markdown",
      "metadata": {
        "id": "eq9AD5bI0VdI"
      },
      "source": [
        "### we will convert sentence \"let's not uglify our code\" to \"let's beatify our code\"\n"
      ]
    },
    {
      "cell_type": "code",
      "execution_count": null,
      "metadata": {
        "collapsed": true,
        "id": "zD0c1P0u0VdI"
      },
      "outputs": [],
      "source": [
        "from nltk.corpus import wordnet\n",
        "\n",
        "class AntonymReplacer(object):\n",
        "    def replace(self,word,pos=None):\n",
        "        antonyms=set()\n",
        "        for syn in wordnet.synsets(word,pos=pos):\n",
        "            for lemma in syn.lemmas():\n",
        "                for antonym in lemma.antonyms():\n",
        "                    antonyms.add(antonym.name())\n",
        "        if len(antonyms)==1:\n",
        "            return antonyms.pop()\n",
        "        else:\n",
        "            return None\n",
        "    def replace_negations(self,sent):\n",
        "        i,l=0,len(sent)\n",
        "        words=[]\n",
        "        while i<l:\n",
        "            word=sent[i]\n",
        "            if word.lower()=='not' and i+1<l:\n",
        "                ant=self.replace(sent[i+1])\n",
        "                if ant:\n",
        "                    words.append(ant)\n",
        "                    i+=2\n",
        "                    continue\n",
        "            words.append(word)\n",
        "            i+=1\n",
        "        return words"
      ]
    },
    {
      "cell_type": "code",
      "execution_count": null,
      "metadata": {
        "collapsed": true,
        "id": "V5egB3OI0VdL"
      },
      "outputs": [],
      "source": [
        "replacer=AntonymReplacer()"
      ]
    },
    {
      "cell_type": "code",
      "execution_count": null,
      "metadata": {
        "id": "w5Qlx7Dy0VdL",
        "outputId": "433531ac-0c7d-4ead-9193-16f8199576e8"
      },
      "outputs": [
        {
          "data": {
            "text/plain": [
              "['let', \"'s\", 'beautify', 'our', 'code']"
            ]
          },
          "execution_count": 3,
          "metadata": {},
          "output_type": "execute_result"
        }
      ],
      "source": [
        "from nltk.tokenize import word_tokenize\n",
        "\n",
        "sent=word_tokenize(\"let's not uglify our code\")\n",
        "replacer.replace_negations(sent)"
      ]
    },
    {
      "cell_type": "code",
      "execution_count": null,
      "metadata": {
        "collapsed": true,
        "id": "tDSJdFgQ0VdN"
      },
      "outputs": [],
      "source": [
        "replacer.replace(\"evil\")"
      ]
    },
    {
      "cell_type": "markdown",
      "metadata": {
        "id": "g15B_y2V0VdN"
      },
      "source": [
        "## Change the code a little bit"
      ]
    },
    {
      "cell_type": "code",
      "execution_count": null,
      "metadata": {
        "collapsed": true,
        "id": "WirVvPPC0VdO"
      },
      "outputs": [],
      "source": [
        "class CustomAntonymReplacer(object):\n",
        "    def replace(self,word,pos=None):\n",
        "        antonyms=set()\n",
        "        for syn in wordnet.synsets(word,pos=pos):\n",
        "            for lemma in syn.lemmas():\n",
        "                for antonym in lemma.antonyms():\n",
        "                    antonyms.add(antonym.name())\n",
        "        if len(antonyms)>=1:\n",
        "            return antonyms\n",
        "        else:\n",
        "            return None"
      ]
    },
    {
      "cell_type": "code",
      "execution_count": null,
      "metadata": {
        "id": "SIOOSMxj0VdO",
        "outputId": "b7e1649f-b2c0-4efc-d0a2-a9396a322a69"
      },
      "outputs": [
        {
          "data": {
            "text/plain": [
              "{'bad', 'badness', 'evil', 'evilness', 'ill'}"
            ]
          },
          "execution_count": 6,
          "metadata": {},
          "output_type": "execute_result"
        }
      ],
      "source": [
        "replacer=CustomAntonymReplacer()\n",
        "replacer.replace(\"good\")"
      ]
    },
    {
      "cell_type": "code",
      "execution_count": null,
      "metadata": {
        "id": "1s4owvuL0VdP",
        "outputId": "f6f499a7-3ab4-4602-e3b7-d5b1261309a0"
      },
      "outputs": [
        {
          "data": {
            "text/plain": [
              "{'good', 'goodness'}"
            ]
          },
          "execution_count": 7,
          "metadata": {},
          "output_type": "execute_result"
        }
      ],
      "source": [
        "replacer.replace(\"evil\")"
      ]
    }
  ],
  "metadata": {
    "kernelspec": {
      "display_name": "Python 3",
      "language": "python",
      "name": "python3"
    },
    "language_info": {
      "codemirror_mode": {
        "name": "ipython",
        "version": 3
      },
      "file_extension": ".py",
      "mimetype": "text/x-python",
      "name": "python",
      "nbconvert_exporter": "python",
      "pygments_lexer": "ipython3",
      "version": "3.6.0"
    },
    "colab": {
      "provenance": [],
      "include_colab_link": true
    }
  },
  "nbformat": 4,
  "nbformat_minor": 0
}