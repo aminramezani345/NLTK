{
  "cells": [
    {
      "cell_type": "markdown",
      "metadata": {
        "id": "view-in-github",
        "colab_type": "text"
      },
      "source": [
        "<a href=\"https://colab.research.google.com/github/aminramezani345/NLTKCodesByFaraDars/blob/main/POS_Tagging3.ipynb\" target=\"_parent\"><img src=\"https://colab.research.google.com/assets/colab-badge.svg\" alt=\"Open In Colab\"/></a>"
      ]
    },
    {
      "cell_type": "markdown",
      "metadata": {
        "id": "V_cl-weVxkzv"
      },
      "source": [
        "## Defaul Tagger"
      ]
    },
    {
      "cell_type": "code",
      "execution_count": null,
      "metadata": {
        "id": "iCh1a4X5xkzy",
        "outputId": "5130366b-45c2-4f02-82cb-582ccd9dbd37"
      },
      "outputs": [
        {
          "data": {
            "text/plain": [
              "[('This', 'NN'), ('is', 'NN'), ('defualt', 'NN'), ('tagger', 'NN')]"
            ]
          },
          "execution_count": 1,
          "metadata": {},
          "output_type": "execute_result"
        }
      ],
      "source": [
        "from nltk.tag import DefaultTagger\n",
        "tagger=DefaultTagger(\"NN\")\n",
        "tagger.tag([\"This\",\"is\",\"defualt\",\"tagger\"])"
      ]
    },
    {
      "cell_type": "markdown",
      "metadata": {
        "id": "8hDpWFkaxkz1"
      },
      "source": [
        "## Evaluating Accuracy"
      ]
    },
    {
      "cell_type": "code",
      "execution_count": null,
      "metadata": {
        "id": "sAMgLPi2xkz1",
        "outputId": "a4d77f8d-cb6c-4cc5-aad2-811dadb16449"
      },
      "outputs": [
        {
          "name": "stdout",
          "output_type": "stream",
          "text": [
            "[nltk_data] Error loading treebank: <urlopen error [Errno 11004]\n",
            "[nltk_data]     getaddrinfo failed>\n"
          ]
        },
        {
          "data": {
            "text/plain": [
              "False"
            ]
          },
          "execution_count": 2,
          "metadata": {},
          "output_type": "execute_result"
        }
      ],
      "source": [
        "import nltk\n",
        "nltk.download(\"treebank\")"
      ]
    },
    {
      "cell_type": "code",
      "execution_count": null,
      "metadata": {
        "collapsed": true,
        "id": "d1-VnhK-xkz1"
      },
      "outputs": [],
      "source": [
        "from nltk.corpus import treebank\n",
        "sents=treebank.sents()"
      ]
    },
    {
      "cell_type": "code",
      "execution_count": null,
      "metadata": {
        "id": "KSeJDd7Wxkz2",
        "outputId": "b01e4e80-2709-43a0-c8ca-df720b37e0a1"
      },
      "outputs": [
        {
          "data": {
            "text/plain": [
              "[['Pierre', 'Vinken', ',', '61', 'years', 'old', ',', 'will', 'join', 'the', 'board', 'as', 'a', 'nonexecutive', 'director', 'Nov.', '29', '.'], ['Mr.', 'Vinken', 'is', 'chairman', 'of', 'Elsevier', 'N.V.', ',', 'the', 'Dutch', 'publishing', 'group', '.'], ...]"
            ]
          },
          "execution_count": 4,
          "metadata": {},
          "output_type": "execute_result"
        }
      ],
      "source": [
        "sents"
      ]
    },
    {
      "cell_type": "code",
      "execution_count": null,
      "metadata": {
        "collapsed": true,
        "id": "RwCXg6-qxkz2"
      },
      "outputs": [],
      "source": [
        "tagged_sents=treebank.tagged_sents()"
      ]
    },
    {
      "cell_type": "code",
      "execution_count": null,
      "metadata": {
        "id": "26HLI5Q5xkz2",
        "outputId": "a8eadae0-1fc3-4aa5-9b30-69d853377352"
      },
      "outputs": [
        {
          "data": {
            "text/plain": [
              "[[('Pierre', 'NNP'), ('Vinken', 'NNP'), (',', ','), ('61', 'CD'), ('years', 'NNS'), ('old', 'JJ'), (',', ','), ('will', 'MD'), ('join', 'VB'), ('the', 'DT'), ('board', 'NN'), ('as', 'IN'), ('a', 'DT'), ('nonexecutive', 'JJ'), ('director', 'NN'), ('Nov.', 'NNP'), ('29', 'CD'), ('.', '.')], [('Mr.', 'NNP'), ('Vinken', 'NNP'), ('is', 'VBZ'), ('chairman', 'NN'), ('of', 'IN'), ('Elsevier', 'NNP'), ('N.V.', 'NNP'), (',', ','), ('the', 'DT'), ('Dutch', 'NNP'), ('publishing', 'VBG'), ('group', 'NN'), ('.', '.')], ...]"
            ]
          },
          "execution_count": 6,
          "metadata": {},
          "output_type": "execute_result"
        }
      ],
      "source": [
        "tagged_sents"
      ]
    },
    {
      "cell_type": "code",
      "execution_count": null,
      "metadata": {
        "id": "TR0PB8tUxkz3",
        "outputId": "8947d659-3561-480c-c9cc-138cc7e8bed0"
      },
      "outputs": [
        {
          "data": {
            "text/plain": [
              "3914"
            ]
          },
          "execution_count": 7,
          "metadata": {},
          "output_type": "execute_result"
        }
      ],
      "source": [
        "len(sents)"
      ]
    },
    {
      "cell_type": "code",
      "execution_count": null,
      "metadata": {
        "id": "qcTpl5gHxkz3",
        "outputId": "7f2a5625-3ee2-46df-f7af-cfcb3eec0b9c"
      },
      "outputs": [
        {
          "data": {
            "text/plain": [
              "0.14331966328512843"
            ]
          },
          "execution_count": 8,
          "metadata": {},
          "output_type": "execute_result"
        }
      ],
      "source": [
        "test_sents=tagged_sents[3000:]\n",
        "tagger.evaluate(test_sents)"
      ]
    },
    {
      "cell_type": "markdown",
      "metadata": {
        "id": "96C790bWxkz3"
      },
      "source": [
        "## Unigram Tagger"
      ]
    },
    {
      "cell_type": "code",
      "execution_count": null,
      "metadata": {
        "collapsed": true,
        "id": "pCAmlI3yxkz4"
      },
      "outputs": [],
      "source": [
        "from nltk.tag import UnigramTagger\n",
        "train_sents=tagged_sents[:3000]\n",
        "tagger=UnigramTagger(train_sents)"
      ]
    },
    {
      "cell_type": "code",
      "execution_count": null,
      "metadata": {
        "id": "zo45Flfgxkz4",
        "outputId": "a65bdcf4-cc0c-4342-dd76-35eafd30d60f"
      },
      "outputs": [
        {
          "data": {
            "text/plain": [
              "[('Pierre', 'NNP'),\n",
              " ('Vinken', 'NNP'),\n",
              " (',', ','),\n",
              " ('61', 'CD'),\n",
              " ('years', 'NNS'),\n",
              " ('old', 'JJ'),\n",
              " (',', ','),\n",
              " ('will', 'MD'),\n",
              " ('join', 'VB'),\n",
              " ('the', 'DT'),\n",
              " ('board', 'NN'),\n",
              " ('as', 'IN'),\n",
              " ('a', 'DT'),\n",
              " ('nonexecutive', 'JJ'),\n",
              " ('director', 'NN'),\n",
              " ('Nov.', 'NNP'),\n",
              " ('29', 'CD'),\n",
              " ('.', '.')]"
            ]
          },
          "execution_count": 10,
          "metadata": {},
          "output_type": "execute_result"
        }
      ],
      "source": [
        "tagger.tag(sents[0])"
      ]
    },
    {
      "cell_type": "code",
      "execution_count": null,
      "metadata": {
        "id": "XNNf7Nr3xkz4",
        "outputId": "fe751066-608c-4a91-93f9-6c7edbcfc2f5"
      },
      "outputs": [
        {
          "data": {
            "text/plain": [
              "0.8571551910209367"
            ]
          },
          "execution_count": 11,
          "metadata": {},
          "output_type": "execute_result"
        }
      ],
      "source": [
        "tagger.evaluate(test_sents)"
      ]
    },
    {
      "cell_type": "markdown",
      "metadata": {
        "id": "ogYsFxRexkz5"
      },
      "source": [
        "### Context Model"
      ]
    },
    {
      "cell_type": "code",
      "execution_count": null,
      "metadata": {
        "id": "fIgFCDjwxkz6",
        "outputId": "f5ca960e-7116-4c08-fa22-d082c4980777"
      },
      "outputs": [
        {
          "data": {
            "text/plain": [
              "[('Pierre', 'NN'),\n",
              " ('Vinken', None),\n",
              " (',', None),\n",
              " ('61', None),\n",
              " ('years', None),\n",
              " ('old', None),\n",
              " (',', None),\n",
              " ('will', None),\n",
              " ('join', None),\n",
              " ('the', None),\n",
              " ('board', None),\n",
              " ('as', None),\n",
              " ('a', None),\n",
              " ('nonexecutive', None),\n",
              " ('director', None),\n",
              " ('Nov.', None),\n",
              " ('29', None),\n",
              " ('.', None)]"
            ]
          },
          "execution_count": 12,
          "metadata": {},
          "output_type": "execute_result"
        }
      ],
      "source": [
        "tagger=UnigramTagger(model={\"Pierre\":\"NN\"})\n",
        "tagger.tag(sents[0])"
      ]
    },
    {
      "cell_type": "markdown",
      "metadata": {
        "id": "8nDMdtv9xkz6"
      },
      "source": [
        "### Frequency Cutoff"
      ]
    },
    {
      "cell_type": "code",
      "execution_count": null,
      "metadata": {
        "id": "sb4EAPCLxkz7",
        "outputId": "34e570bb-3f9d-4038-a484-9acf7a2a3b04"
      },
      "outputs": [
        {
          "data": {
            "text/plain": [
              "0.775350744657889"
            ]
          },
          "execution_count": 13,
          "metadata": {},
          "output_type": "execute_result"
        }
      ],
      "source": [
        "tagger=UnigramTagger(train_sents,cutoff=3)\n",
        "tagger.evaluate(test_sents)"
      ]
    },
    {
      "cell_type": "markdown",
      "metadata": {
        "id": "ayhtIq1fxkz8"
      },
      "source": [
        "## Backoff Tagger"
      ]
    },
    {
      "cell_type": "code",
      "execution_count": null,
      "metadata": {
        "id": "Ir_hh1Tgxkz8",
        "outputId": "60988ba1-b691-4ca3-adb6-1a1ca7f6e56d"
      },
      "outputs": [
        {
          "data": {
            "text/plain": [
              "0.8741204403194475"
            ]
          },
          "execution_count": 14,
          "metadata": {},
          "output_type": "execute_result"
        }
      ],
      "source": [
        "tagger1=DefaultTagger(\"NN\")\n",
        "tagger2=UnigramTagger(train_sents,backoff=tagger1)\n",
        "tagger2.evaluate(test_sents)"
      ]
    },
    {
      "cell_type": "markdown",
      "metadata": {
        "id": "IYW0qdeLxkz9"
      },
      "source": [
        "## Saving and Loading a trained Tagger"
      ]
    },
    {
      "cell_type": "code",
      "execution_count": null,
      "metadata": {
        "collapsed": true,
        "id": "bnJx2EBLxkz9"
      },
      "outputs": [],
      "source": [
        "import pickle\n",
        "f=open(\"tagger.pickle\",\"wb\")\n",
        "pickle.dump(tagger,f)\n",
        "f.close()"
      ]
    },
    {
      "cell_type": "code",
      "execution_count": null,
      "metadata": {
        "collapsed": true,
        "id": "hjKnRHGAxkz9"
      },
      "outputs": [],
      "source": [
        "f=open(\"tagger.pickle\",\"rb\")\n",
        "tagger=pickle.load(f)"
      ]
    },
    {
      "cell_type": "markdown",
      "metadata": {
        "id": "e8sQjRAAxkz-"
      },
      "source": [
        "## n-gram Tagger"
      ]
    },
    {
      "cell_type": "code",
      "execution_count": null,
      "metadata": {
        "id": "AkdI06Vaxkz-",
        "outputId": "d6c4bcf0-c84b-4951-ea93-abcc22899ff7"
      },
      "outputs": [
        {
          "data": {
            "text/plain": [
              "0.11318799913662854"
            ]
          },
          "execution_count": 17,
          "metadata": {},
          "output_type": "execute_result"
        }
      ],
      "source": [
        "from nltk.tag import BigramTagger,TrigramTagger\n",
        "bitagger=BigramTagger(train_sents)\n",
        "bitagger.evaluate(test_sents)"
      ]
    },
    {
      "cell_type": "code",
      "execution_count": null,
      "metadata": {
        "id": "cP31uGygxkz-",
        "outputId": "b301d24f-0515-4eeb-cc99-de91dbf9b5a4"
      },
      "outputs": [
        {
          "data": {
            "text/plain": [
              "0.06902654867256637"
            ]
          },
          "execution_count": 18,
          "metadata": {},
          "output_type": "execute_result"
        }
      ],
      "source": [
        "tritagger=TrigramTagger(train_sents)\n",
        "tritagger.evaluate(test_sents)"
      ]
    },
    {
      "cell_type": "markdown",
      "metadata": {
        "id": "sraeKThPxkz-"
      },
      "source": [
        "### backoff tagger function"
      ]
    },
    {
      "cell_type": "code",
      "execution_count": null,
      "metadata": {
        "id": "6zz77OTtxkz_"
      },
      "outputs": [],
      "source": [
        "def backoff_tagger(train_sents,tagger_classes,backoff=None):\n",
        "    for cls in tagger_classes:\n",
        "        backoff=cls(train_sents,backoff=backoff)\n",
        "    return backoff"
      ]
    },
    {
      "cell_type": "code",
      "execution_count": null,
      "metadata": {
        "id": "9aRpmEH8xkz_",
        "outputId": "b490ae01-7baa-417e-ec2c-b5d4cfc288d8"
      },
      "outputs": [
        {
          "data": {
            "text/plain": [
              "0.8806388948845241"
            ]
          },
          "execution_count": 20,
          "metadata": {},
          "output_type": "execute_result"
        }
      ],
      "source": [
        "backoff=DefaultTagger(\"NN\")\n",
        "tagger=backoff_tagger(train_sents,[UnigramTagger,BigramTagger,TrigramTagger],backoff=backoff)\n",
        "tagger.evaluate(test_sents)"
      ]
    },
    {
      "cell_type": "markdown",
      "metadata": {
        "id": "clEWsv1Wxkz_"
      },
      "source": [
        "### more than 3 gram tagger"
      ]
    },
    {
      "cell_type": "code",
      "execution_count": null,
      "metadata": {
        "id": "oI6Uljg5xk0A",
        "outputId": "27c7b9c6-0b0e-4475-e61e-f98367b0548f"
      },
      "outputs": [
        {
          "data": {
            "text/plain": [
              "0.058493416792575005"
            ]
          },
          "execution_count": 21,
          "metadata": {},
          "output_type": "execute_result"
        }
      ],
      "source": [
        "from nltk.tag import NgramTagger\n",
        "quadtagger=NgramTagger(4,train_sents)\n",
        "quadtagger.evaluate(test_sents)"
      ]
    },
    {
      "cell_type": "markdown",
      "metadata": {
        "id": "dRjCOLoyxk0A"
      },
      "source": [
        "## Word Tags Frequence"
      ]
    },
    {
      "cell_type": "code",
      "execution_count": null,
      "metadata": {
        "collapsed": true,
        "id": "UyuNzPWlxk0A"
      },
      "outputs": [],
      "source": [
        "from nltk.probability import FreqDist\n",
        "from nltk.corpus import treebank\n",
        "\n",
        "fd=FreqDist(treebank.words())"
      ]
    },
    {
      "cell_type": "code",
      "execution_count": null,
      "metadata": {
        "id": "z06Js94xxk0A",
        "outputId": "48766836-f9e9-4a4c-fd93-281cdc78d2b7"
      },
      "outputs": [
        {
          "data": {
            "text/plain": [
              "8"
            ]
          },
          "execution_count": 23,
          "metadata": {},
          "output_type": "execute_result"
        }
      ],
      "source": [
        "fd[\"book\"]"
      ]
    },
    {
      "cell_type": "code",
      "execution_count": null,
      "metadata": {
        "collapsed": true,
        "id": "L4RpgdEFxk0B"
      },
      "outputs": [],
      "source": [
        "from nltk.probability import ConditionalFreqDist\n",
        "\n",
        "cfd=ConditionalFreqDist(treebank.tagged_words())"
      ]
    },
    {
      "cell_type": "code",
      "execution_count": null,
      "metadata": {
        "id": "GON7zjxdxk0B",
        "outputId": "c335405e-28c1-47f3-aec6-9487b9b19d29"
      },
      "outputs": [
        {
          "data": {
            "text/plain": [
              "FreqDist({'NN': 7, 'VB': 1})"
            ]
          },
          "execution_count": 25,
          "metadata": {},
          "output_type": "execute_result"
        }
      ],
      "source": [
        "cfd[\"book\"]"
      ]
    },
    {
      "cell_type": "markdown",
      "metadata": {
        "id": "IglISGa-xk0B"
      },
      "source": [
        "## Regular Expression Tagger"
      ]
    },
    {
      "cell_type": "code",
      "execution_count": null,
      "metadata": {
        "id": "UXKHJtOhxk0C",
        "outputId": "3bc7c441-119f-4c06-c3da-cd2496fd21e2"
      },
      "outputs": [
        {
          "data": {
            "text/plain": [
              "0.037470321605870924"
            ]
          },
          "execution_count": 26,
          "metadata": {},
          "output_type": "execute_result"
        }
      ],
      "source": [
        "from nltk.tag import RegexpTagger\n",
        "\n",
        "pattern=[(r\"^\\d+$\",\"CD\"),(r\".*ing$\",\"VBG\"),(r\".*ment$\",\"NN\"),(r\".*ful$\",\"JJ\")]\n",
        "tagger=RegexpTagger(pattern)\n",
        "tagger.evaluate(test_sents)"
      ]
    },
    {
      "cell_type": "markdown",
      "metadata": {
        "id": "Zgg-BUIhxk0C"
      },
      "source": [
        "## Affix Tagger"
      ]
    },
    {
      "cell_type": "code",
      "execution_count": null,
      "metadata": {
        "id": "3P4FTyndxk0C",
        "outputId": "5e15eb13-69d5-494a-e770-0d176e699def"
      },
      "outputs": [
        {
          "data": {
            "text/plain": [
              "0.27507014893157783"
            ]
          },
          "execution_count": 27,
          "metadata": {},
          "output_type": "execute_result"
        }
      ],
      "source": [
        "from nltk.tag import AffixTagger\n",
        "\n",
        "tagger=AffixTagger(train_sents)\n",
        "tagger.evaluate(test_sents)"
      ]
    },
    {
      "cell_type": "code",
      "execution_count": null,
      "metadata": {
        "id": "s_glnCNaxk0C",
        "outputId": "487428c4-6823-432c-e199-964d46a3867b"
      },
      "outputs": [
        {
          "data": {
            "text/plain": [
              "0.2365637815670192"
            ]
          },
          "execution_count": 28,
          "metadata": {},
          "output_type": "execute_result"
        }
      ],
      "source": [
        "prefix_tagger=AffixTagger(train_sents,affix_length=3)\n",
        "prefix_tagger.evaluate(test_sents)"
      ]
    },
    {
      "cell_type": "code",
      "execution_count": null,
      "metadata": {
        "id": "EwRsrXxoxk0D",
        "outputId": "08dede65-9543-479f-8671-0fadb836ea60"
      },
      "outputs": [
        {
          "data": {
            "text/plain": [
              "0.3196201165551478"
            ]
          },
          "execution_count": 29,
          "metadata": {},
          "output_type": "execute_result"
        }
      ],
      "source": [
        "suffix_tagger=AffixTagger(train_sents,affix_length=-2)\n",
        "suffix_tagger.evaluate(test_sents)"
      ]
    },
    {
      "cell_type": "code",
      "execution_count": null,
      "metadata": {
        "id": "-uZ6kqJ-xk0D",
        "outputId": "0528c429-8547-415c-9670-3adc745012b6"
      },
      "outputs": [
        {
          "data": {
            "text/plain": [
              "0.3213036909130153"
            ]
          },
          "execution_count": 30,
          "metadata": {},
          "output_type": "execute_result"
        }
      ],
      "source": [
        "suffix_tagger=AffixTagger(train_sents,affix_length=-2,backoff=prefix_tagger)\n",
        "suffix_tagger.evaluate(test_sents)"
      ]
    },
    {
      "cell_type": "markdown",
      "metadata": {
        "id": "zWgjHhFtxk0E"
      },
      "source": [
        "## TnT Tagger"
      ]
    },
    {
      "cell_type": "code",
      "execution_count": null,
      "metadata": {
        "collapsed": true,
        "id": "UXacs7OKxk0E"
      },
      "outputs": [],
      "source": [
        "from nltk.tag import tnt\n",
        "tnt_tagger=tnt.TnT()\n",
        "tnt_tagger.train(train_sents)"
      ]
    },
    {
      "cell_type": "code",
      "execution_count": null,
      "metadata": {
        "id": "vDjrxS10xk0F",
        "outputId": "b2f397d0-30fd-4e8d-b423-59e5bc7f3258"
      },
      "outputs": [
        {
          "data": {
            "text/plain": [
              "0.875545003237643"
            ]
          },
          "execution_count": 32,
          "metadata": {},
          "output_type": "execute_result"
        }
      ],
      "source": [
        "tnt_tagger.evaluate(test_sents)"
      ]
    },
    {
      "cell_type": "code",
      "execution_count": null,
      "metadata": {
        "collapsed": true,
        "id": "oGCu_xKJxk0F"
      },
      "outputs": [],
      "source": [
        "unk=DefaultTagger(\"NN\")\n",
        "tnt_tagger=tnt.TnT(unk=unk,Trained=True)\n",
        "tnt_tagger.train(train_sents)"
      ]
    },
    {
      "cell_type": "code",
      "execution_count": null,
      "metadata": {
        "id": "qoDlI0Y9xk0G",
        "outputId": "d1a07cf6-5a5c-4c6d-eba9-c6709c591db8"
      },
      "outputs": [
        {
          "data": {
            "text/plain": [
              "0.892467083962875"
            ]
          },
          "execution_count": 34,
          "metadata": {},
          "output_type": "execute_result"
        }
      ],
      "source": [
        "tnt_tagger.evaluate(test_sents)"
      ]
    },
    {
      "cell_type": "markdown",
      "metadata": {
        "id": "W6_p1secxk0G"
      },
      "source": [
        "## Classifier Based POS Tagger"
      ]
    },
    {
      "cell_type": "code",
      "execution_count": null,
      "metadata": {
        "id": "E8Vwfoldxk0G",
        "outputId": "c44b020d-5d46-4873-bbce-70cf2b038a4d"
      },
      "outputs": [
        {
          "data": {
            "text/plain": [
              "0.9309734513274336"
            ]
          },
          "execution_count": 35,
          "metadata": {},
          "output_type": "execute_result"
        }
      ],
      "source": [
        "from nltk.tag.sequential import ClassifierBasedPOSTagger\n",
        "tagger=ClassifierBasedPOSTagger(train=train_sents)\n",
        "tagger.evaluate(test_sents)"
      ]
    },
    {
      "cell_type": "code",
      "execution_count": null,
      "metadata": {
        "id": "xY5kvbwwxk0H",
        "outputId": "097a4a03-3173-46f3-ab83-1bbd8240caaa"
      },
      "outputs": [
        {
          "data": {
            "text/plain": [
              "0.9311029570472696"
            ]
          },
          "execution_count": 36,
          "metadata": {},
          "output_type": "execute_result"
        }
      ],
      "source": [
        "defualt=DefaultTagger(\"NN\")\n",
        "tagger=ClassifierBasedPOSTagger(train=train_sents,cutoff_prob=0.3,backoff=defualt)\n",
        "tagger.evaluate(test_sents)"
      ]
    }
  ],
  "metadata": {
    "kernelspec": {
      "display_name": "Python 3",
      "language": "python",
      "name": "python3"
    },
    "language_info": {
      "codemirror_mode": {
        "name": "ipython",
        "version": 3
      },
      "file_extension": ".py",
      "mimetype": "text/x-python",
      "name": "python",
      "nbconvert_exporter": "python",
      "pygments_lexer": "ipython3",
      "version": "3.6.0"
    },
    "colab": {
      "provenance": [],
      "include_colab_link": true
    }
  },
  "nbformat": 4,
  "nbformat_minor": 0
}