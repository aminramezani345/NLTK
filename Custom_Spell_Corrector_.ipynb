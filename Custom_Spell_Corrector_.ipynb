{
  "cells": [
    {
      "cell_type": "markdown",
      "metadata": {
        "id": "view-in-github",
        "colab_type": "text"
      },
      "source": [
        "<a href=\"https://colab.research.google.com/github/aminramezani345/NLTKCodesByFaraDars/blob/main/Custom_Spell_Corrector_.ipynb\" target=\"_parent\"><img src=\"https://colab.research.google.com/assets/colab-badge.svg\" alt=\"Open In Colab\"/></a>"
      ]
    },
    {
      "cell_type": "code",
      "execution_count": null,
      "metadata": {
        "id": "k0F0cT1tqY7Q",
        "outputId": "24530b55-8dac-4034-e6b0-b7b4f3cd4c22"
      },
      "outputs": [
        {
          "data": {
            "text/plain": [
              "26"
            ]
          },
          "execution_count": 2,
          "metadata": {},
          "output_type": "execute_result"
        }
      ],
      "source": [
        "from nltk.corpus import wordnet\n",
        "\n",
        "alphabet=[\"a\",\"b\",\"c\",\"d\",\"e\",\"f\",\"g\",\"h\",\"i\",\"j\",\"k\",\"l\",\"m\",\"n\",\"o\",\"p\",\"q\",\"r\",\"s\",\"t\",\"u\",\"v\",\"w\",\"x\",\"y\",\"z\"]\n",
        "len(alphabet)"
      ]
    },
    {
      "cell_type": "code",
      "execution_count": null,
      "metadata": {
        "collapsed": true,
        "id": "bAbEaTkFqY7X"
      },
      "outputs": [],
      "source": [
        "def ins_correct(word):\n",
        "    if(wordnet.synsets(word)):\n",
        "        return word\n",
        "    words=[]\n",
        "    for i in range(0,len(word)+1):\n",
        "        first=str(word[0:i])\n",
        "        last=str(word[i:len(word)])\n",
        "        for alpha in alphabet:\n",
        "            new_word=first+alpha+last\n",
        "            if(wordnet.synsets(new_word)):\n",
        "                words.append(new_word)\n",
        "    return (set(words))"
      ]
    },
    {
      "cell_type": "code",
      "execution_count": null,
      "metadata": {
        "id": "Rn9z3NcMqY7Y",
        "outputId": "ca1709d8-f63f-4056-8b03-55b068e851f8"
      },
      "outputs": [
        {
          "data": {
            "text/plain": [
              "{'correct'}"
            ]
          },
          "execution_count": 4,
          "metadata": {},
          "output_type": "execute_result"
        }
      ],
      "source": [
        "ins_correct(\"crrect\")"
      ]
    },
    {
      "cell_type": "code",
      "execution_count": null,
      "metadata": {
        "collapsed": true,
        "id": "djSkD-n9qY7Z"
      },
      "outputs": [],
      "source": [
        "def del_correct(word):\n",
        "    if(wordnet.synsets(word)):\n",
        "        return word\n",
        "    words=[]\n",
        "    for i in range(0,len(word)):\n",
        "        new_word=str(word[0:i])+str(word[i+1:len(word)])\n",
        "        if(wordnet.synsets(new_word)):\n",
        "            words.append(new_word)\n",
        "    return set(words)"
      ]
    },
    {
      "cell_type": "code",
      "execution_count": null,
      "metadata": {
        "id": "akMMMxWQqY7a",
        "outputId": "36d8b2ec-4419-4119-e48f-56cd3f9d7717"
      },
      "outputs": [
        {
          "data": {
            "text/plain": [
              "{'correct'}"
            ]
          },
          "execution_count": 6,
          "metadata": {},
          "output_type": "execute_result"
        }
      ],
      "source": [
        "del_correct(\"coorrect\")"
      ]
    }
  ],
  "metadata": {
    "kernelspec": {
      "display_name": "Python 3",
      "language": "python",
      "name": "python3"
    },
    "language_info": {
      "codemirror_mode": {
        "name": "ipython",
        "version": 3
      },
      "file_extension": ".py",
      "mimetype": "text/x-python",
      "name": "python",
      "nbconvert_exporter": "python",
      "pygments_lexer": "ipython3",
      "version": "3.6.0"
    },
    "colab": {
      "provenance": [],
      "include_colab_link": true
    }
  },
  "nbformat": 4,
  "nbformat_minor": 0
}