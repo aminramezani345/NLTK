{
  "cells": [
    {
      "cell_type": "markdown",
      "metadata": {
        "id": "view-in-github",
        "colab_type": "text"
      },
      "source": [
        "<a href=\"https://colab.research.google.com/github/aminramezani345/NLTKCodesByFaraDars/blob/main/POS_Tagging.ipynb\" target=\"_parent\"><img src=\"https://colab.research.google.com/assets/colab-badge.svg\" alt=\"Open In Colab\"/></a>"
      ]
    },
    {
      "cell_type": "markdown",
      "metadata": {
        "id": "B6EPtyu8xTy4"
      },
      "source": [
        "## Defaul Tagger"
      ]
    },
    {
      "cell_type": "code",
      "execution_count": null,
      "metadata": {
        "id": "A0zoB2-txTzB",
        "outputId": "aed3b214-9378-4074-e9d4-967212b11037"
      },
      "outputs": [
        {
          "data": {
            "text/plain": [
              "[('This', 'NN'), ('is', 'NN'), ('defualt', 'NN'), ('tagger', 'NN')]"
            ]
          },
          "execution_count": 1,
          "metadata": {},
          "output_type": "execute_result"
        }
      ],
      "source": [
        "from nltk.tag import DefaultTagger\n",
        "tagger=DefaultTagger(\"NN\")\n",
        "tagger.tag([\"This\",\"is\",\"defualt\",\"tagger\"])"
      ]
    },
    {
      "cell_type": "markdown",
      "metadata": {
        "id": "KNG5EtGgxTzH"
      },
      "source": [
        "## Evaluating Accuracy"
      ]
    },
    {
      "cell_type": "code",
      "execution_count": null,
      "metadata": {
        "id": "0jK2OgTjxTzI",
        "outputId": "b46499e9-b146-4f0c-cb2d-dc7096c66229"
      },
      "outputs": [
        {
          "name": "stdout",
          "output_type": "stream",
          "text": [
            "[nltk_data] Error loading treebank: <urlopen error [Errno 11004]\n",
            "[nltk_data]     getaddrinfo failed>\n"
          ]
        },
        {
          "data": {
            "text/plain": [
              "False"
            ]
          },
          "execution_count": 2,
          "metadata": {},
          "output_type": "execute_result"
        }
      ],
      "source": [
        "import nltk\n",
        "nltk.download(\"treebank\")"
      ]
    },
    {
      "cell_type": "code",
      "execution_count": null,
      "metadata": {
        "collapsed": true,
        "id": "YwDpu9iLxTzJ"
      },
      "outputs": [],
      "source": [
        "from nltk.corpus import treebank\n",
        "sents=treebank.sents()"
      ]
    },
    {
      "cell_type": "code",
      "execution_count": null,
      "metadata": {
        "id": "OUQLeI2axTzN",
        "outputId": "84c9e3d2-2b2b-453f-c14a-80481cc48db1"
      },
      "outputs": [
        {
          "data": {
            "text/plain": [
              "[['Pierre', 'Vinken', ',', '61', 'years', 'old', ',', 'will', 'join', 'the', 'board', 'as', 'a', 'nonexecutive', 'director', 'Nov.', '29', '.'], ['Mr.', 'Vinken', 'is', 'chairman', 'of', 'Elsevier', 'N.V.', ',', 'the', 'Dutch', 'publishing', 'group', '.'], ...]"
            ]
          },
          "execution_count": 4,
          "metadata": {},
          "output_type": "execute_result"
        }
      ],
      "source": [
        "sents"
      ]
    },
    {
      "cell_type": "code",
      "execution_count": null,
      "metadata": {
        "collapsed": true,
        "id": "AwUak6z7xTzO"
      },
      "outputs": [],
      "source": [
        "tagged_sents=treebank.tagged_sents()"
      ]
    },
    {
      "cell_type": "code",
      "execution_count": null,
      "metadata": {
        "id": "SRcheNMmxTzP",
        "outputId": "f4148802-0fee-43f3-f9dc-bf47a7f12c91"
      },
      "outputs": [
        {
          "data": {
            "text/plain": [
              "[[('Pierre', 'NNP'), ('Vinken', 'NNP'), (',', ','), ('61', 'CD'), ('years', 'NNS'), ('old', 'JJ'), (',', ','), ('will', 'MD'), ('join', 'VB'), ('the', 'DT'), ('board', 'NN'), ('as', 'IN'), ('a', 'DT'), ('nonexecutive', 'JJ'), ('director', 'NN'), ('Nov.', 'NNP'), ('29', 'CD'), ('.', '.')], [('Mr.', 'NNP'), ('Vinken', 'NNP'), ('is', 'VBZ'), ('chairman', 'NN'), ('of', 'IN'), ('Elsevier', 'NNP'), ('N.V.', 'NNP'), (',', ','), ('the', 'DT'), ('Dutch', 'NNP'), ('publishing', 'VBG'), ('group', 'NN'), ('.', '.')], ...]"
            ]
          },
          "execution_count": 6,
          "metadata": {},
          "output_type": "execute_result"
        }
      ],
      "source": [
        "tagged_sents"
      ]
    },
    {
      "cell_type": "code",
      "execution_count": null,
      "metadata": {
        "id": "EDyjDmCmxTzQ",
        "outputId": "f0244079-6735-40cc-a37a-071d180261f4"
      },
      "outputs": [
        {
          "data": {
            "text/plain": [
              "3914"
            ]
          },
          "execution_count": 7,
          "metadata": {},
          "output_type": "execute_result"
        }
      ],
      "source": [
        "len(sents)"
      ]
    },
    {
      "cell_type": "code",
      "execution_count": null,
      "metadata": {
        "id": "dY14cZlExTzR",
        "outputId": "8d810fee-e85c-484a-88d6-59165233b4ae"
      },
      "outputs": [
        {
          "data": {
            "text/plain": [
              "0.14331966328512843"
            ]
          },
          "execution_count": 8,
          "metadata": {},
          "output_type": "execute_result"
        }
      ],
      "source": [
        "test_sents=tagged_sents[3000:]\n",
        "tagger.evaluate(test_sents)"
      ]
    },
    {
      "cell_type": "markdown",
      "metadata": {
        "id": "xuIFa4owxTzT"
      },
      "source": [
        "## Unigram Tagger"
      ]
    },
    {
      "cell_type": "code",
      "execution_count": null,
      "metadata": {
        "collapsed": true,
        "id": "4q8oyU6TxTzU"
      },
      "outputs": [],
      "source": [
        "from nltk.tag import UnigramTagger\n",
        "train_sents=tagged_sents[:3000]\n",
        "tagger=UnigramTagger(train_sents)"
      ]
    },
    {
      "cell_type": "code",
      "execution_count": null,
      "metadata": {
        "id": "Naru42E5xTzV",
        "outputId": "2911d80a-8e9d-4544-da85-5eee30e2e4e0"
      },
      "outputs": [
        {
          "data": {
            "text/plain": [
              "[('Pierre', 'NNP'),\n",
              " ('Vinken', 'NNP'),\n",
              " (',', ','),\n",
              " ('61', 'CD'),\n",
              " ('years', 'NNS'),\n",
              " ('old', 'JJ'),\n",
              " (',', ','),\n",
              " ('will', 'MD'),\n",
              " ('join', 'VB'),\n",
              " ('the', 'DT'),\n",
              " ('board', 'NN'),\n",
              " ('as', 'IN'),\n",
              " ('a', 'DT'),\n",
              " ('nonexecutive', 'JJ'),\n",
              " ('director', 'NN'),\n",
              " ('Nov.', 'NNP'),\n",
              " ('29', 'CD'),\n",
              " ('.', '.')]"
            ]
          },
          "execution_count": 10,
          "metadata": {},
          "output_type": "execute_result"
        }
      ],
      "source": [
        "tagger.tag(sents[0])"
      ]
    },
    {
      "cell_type": "code",
      "execution_count": null,
      "metadata": {
        "id": "c5oo8CBrxTzW",
        "outputId": "15fbf921-3087-4a6b-c6fe-6c306da029c7"
      },
      "outputs": [
        {
          "data": {
            "text/plain": [
              "0.8571551910209367"
            ]
          },
          "execution_count": 11,
          "metadata": {},
          "output_type": "execute_result"
        }
      ],
      "source": [
        "tagger.evaluate(test_sents)"
      ]
    },
    {
      "cell_type": "markdown",
      "metadata": {
        "id": "7rEfORhCxTzX"
      },
      "source": [
        "### Context Model"
      ]
    },
    {
      "cell_type": "code",
      "execution_count": null,
      "metadata": {
        "id": "_E2q5AUyxTzY",
        "outputId": "b42a81ad-d9a2-436a-d313-2aaca91e53f6"
      },
      "outputs": [
        {
          "data": {
            "text/plain": [
              "[('Pierre', 'NN'),\n",
              " ('Vinken', None),\n",
              " (',', None),\n",
              " ('61', None),\n",
              " ('years', None),\n",
              " ('old', None),\n",
              " (',', None),\n",
              " ('will', None),\n",
              " ('join', None),\n",
              " ('the', None),\n",
              " ('board', None),\n",
              " ('as', None),\n",
              " ('a', None),\n",
              " ('nonexecutive', None),\n",
              " ('director', None),\n",
              " ('Nov.', None),\n",
              " ('29', None),\n",
              " ('.', None)]"
            ]
          },
          "execution_count": 12,
          "metadata": {},
          "output_type": "execute_result"
        }
      ],
      "source": [
        "tagger=UnigramTagger(model={\"Pierre\":\"NN\"})\n",
        "tagger.tag(sents[0])"
      ]
    },
    {
      "cell_type": "markdown",
      "metadata": {
        "id": "zrs7dRJjxTzZ"
      },
      "source": [
        "### Frequency Cutoff"
      ]
    },
    {
      "cell_type": "code",
      "execution_count": null,
      "metadata": {
        "id": "KSmNax7YxTzb",
        "outputId": "eff84b8a-9be8-4827-e05d-75f17942ba5d"
      },
      "outputs": [
        {
          "data": {
            "text/plain": [
              "0.775350744657889"
            ]
          },
          "execution_count": 13,
          "metadata": {},
          "output_type": "execute_result"
        }
      ],
      "source": [
        "tagger=UnigramTagger(train_sents,cutoff=3)\n",
        "tagger.evaluate(test_sents)"
      ]
    },
    {
      "cell_type": "markdown",
      "metadata": {
        "id": "x1TKgXItxTzc"
      },
      "source": [
        "## Backoff Tagger"
      ]
    },
    {
      "cell_type": "code",
      "execution_count": null,
      "metadata": {
        "id": "Ax3xozgixTzd",
        "outputId": "31122cf9-d4ba-48fa-d64c-aef31698c085"
      },
      "outputs": [
        {
          "data": {
            "text/plain": [
              "0.8741204403194475"
            ]
          },
          "execution_count": 14,
          "metadata": {},
          "output_type": "execute_result"
        }
      ],
      "source": [
        "tagger1=DefaultTagger(\"NN\")\n",
        "tagger2=UnigramTagger(train_sents,backoff=tagger1)\n",
        "tagger2.evaluate(test_sents)"
      ]
    },
    {
      "cell_type": "markdown",
      "metadata": {
        "id": "fkFE3iT9xTze"
      },
      "source": [
        "## Saving and Loading a trained Tagger"
      ]
    },
    {
      "cell_type": "code",
      "execution_count": null,
      "metadata": {
        "collapsed": true,
        "id": "IHCnOnnixTzf"
      },
      "outputs": [],
      "source": [
        "import pickle\n",
        "f=open(\"tagger.pickle\",\"wb\")\n",
        "pickle.dump(tagger,f)\n",
        "f.close()"
      ]
    },
    {
      "cell_type": "code",
      "execution_count": null,
      "metadata": {
        "collapsed": true,
        "id": "b7okYPV0xTzg"
      },
      "outputs": [],
      "source": [
        "f=open(\"tagger.pickle\",\"rb\")\n",
        "tagger=pickle.load(f)"
      ]
    },
    {
      "cell_type": "markdown",
      "metadata": {
        "id": "e0Y6VSsyxTzh"
      },
      "source": [
        "## n-gram Tagger"
      ]
    },
    {
      "cell_type": "code",
      "execution_count": null,
      "metadata": {
        "id": "3D5k1xBDxTzi",
        "outputId": "9da2b278-24a0-441f-d116-1bda28263d88"
      },
      "outputs": [
        {
          "data": {
            "text/plain": [
              "0.11318799913662854"
            ]
          },
          "execution_count": 17,
          "metadata": {},
          "output_type": "execute_result"
        }
      ],
      "source": [
        "from nltk.tag import BigramTagger,TrigramTagger\n",
        "bitagger=BigramTagger(train_sents)\n",
        "bitagger.evaluate(test_sents)"
      ]
    },
    {
      "cell_type": "code",
      "execution_count": null,
      "metadata": {
        "id": "IAz4zcQTxTzj",
        "outputId": "a170a814-dda5-4180-b7e6-5539fb515f8d"
      },
      "outputs": [
        {
          "data": {
            "text/plain": [
              "0.06902654867256637"
            ]
          },
          "execution_count": 18,
          "metadata": {},
          "output_type": "execute_result"
        }
      ],
      "source": [
        "tritagger=TrigramTagger(train_sents)\n",
        "tritagger.evaluate(test_sents)"
      ]
    },
    {
      "cell_type": "markdown",
      "metadata": {
        "id": "QZ-uX-1JxTzk"
      },
      "source": [
        "### backoff tagger function"
      ]
    },
    {
      "cell_type": "code",
      "execution_count": null,
      "metadata": {
        "id": "huVp8ZB5xTzk"
      },
      "outputs": [],
      "source": [
        "def backoff_tagger(train_sents,tagger_classes,backoff=None):\n",
        "    for cls in tagger_classes:\n",
        "        backoff=cls(train_sents,backoff=backoff)\n",
        "    return backoff"
      ]
    },
    {
      "cell_type": "code",
      "execution_count": null,
      "metadata": {
        "id": "8_jGo9VwxTzl",
        "outputId": "5cc56db7-f483-4cfc-a6f0-6991404ec380"
      },
      "outputs": [
        {
          "data": {
            "text/plain": [
              "0.8806388948845241"
            ]
          },
          "execution_count": 20,
          "metadata": {},
          "output_type": "execute_result"
        }
      ],
      "source": [
        "backoff=DefaultTagger(\"NN\")\n",
        "tagger=backoff_tagger(train_sents,[UnigramTagger,BigramTagger,TrigramTagger],backoff=backoff)\n",
        "tagger.evaluate(test_sents)"
      ]
    },
    {
      "cell_type": "markdown",
      "metadata": {
        "id": "36dmQj3KxTzm"
      },
      "source": [
        "### more than 3 gram tagger"
      ]
    },
    {
      "cell_type": "code",
      "execution_count": null,
      "metadata": {
        "id": "25L40m94xTzn",
        "outputId": "ea1a60f2-f13d-434e-fcc9-07c3e934c13b"
      },
      "outputs": [
        {
          "data": {
            "text/plain": [
              "0.058493416792575005"
            ]
          },
          "execution_count": 21,
          "metadata": {},
          "output_type": "execute_result"
        }
      ],
      "source": [
        "from nltk.tag import NgramTagger\n",
        "quadtagger=NgramTagger(4,train_sents)\n",
        "quadtagger.evaluate(test_sents)"
      ]
    },
    {
      "cell_type": "markdown",
      "metadata": {
        "id": "kBV53bAGxTzo"
      },
      "source": [
        "## Word Tags Frequence"
      ]
    },
    {
      "cell_type": "code",
      "execution_count": null,
      "metadata": {
        "collapsed": true,
        "id": "fKIULzzfxTzq"
      },
      "outputs": [],
      "source": [
        "from nltk.probability import FreqDist\n",
        "from nltk.corpus import treebank\n",
        "\n",
        "fd=FreqDist(treebank.words())"
      ]
    },
    {
      "cell_type": "code",
      "execution_count": null,
      "metadata": {
        "id": "KuRVQX26xTzr",
        "outputId": "b91c94c4-ef31-4774-b70a-7fa3e331f256"
      },
      "outputs": [
        {
          "data": {
            "text/plain": [
              "8"
            ]
          },
          "execution_count": 23,
          "metadata": {},
          "output_type": "execute_result"
        }
      ],
      "source": [
        "fd[\"book\"]"
      ]
    },
    {
      "cell_type": "code",
      "execution_count": null,
      "metadata": {
        "collapsed": true,
        "id": "pKYJeCgExTzs"
      },
      "outputs": [],
      "source": [
        "from nltk.probability import ConditionalFreqDist\n",
        "\n",
        "cfd=ConditionalFreqDist(treebank.tagged_words())"
      ]
    },
    {
      "cell_type": "code",
      "execution_count": null,
      "metadata": {
        "id": "QE-QwPmYxTzt",
        "outputId": "b34d6cb3-6bb8-422c-f777-47573fc88826"
      },
      "outputs": [
        {
          "data": {
            "text/plain": [
              "FreqDist({'NN': 7, 'VB': 1})"
            ]
          },
          "execution_count": 25,
          "metadata": {},
          "output_type": "execute_result"
        }
      ],
      "source": [
        "cfd[\"book\"]"
      ]
    },
    {
      "cell_type": "markdown",
      "metadata": {
        "id": "NfE8GZlLxTzu"
      },
      "source": [
        "## Regular Expression Tagger"
      ]
    },
    {
      "cell_type": "code",
      "execution_count": null,
      "metadata": {
        "id": "yFWmIGhnxTzv",
        "outputId": "9271143f-bfc5-4f34-f033-58ce83fb36af"
      },
      "outputs": [
        {
          "data": {
            "text/plain": [
              "0.037470321605870924"
            ]
          },
          "execution_count": 26,
          "metadata": {},
          "output_type": "execute_result"
        }
      ],
      "source": [
        "from nltk.tag import RegexpTagger\n",
        "\n",
        "pattern=[(r\"^\\d+$\",\"CD\"),(r\".*ing$\",\"VBG\"),(r\".*ment$\",\"NN\"),(r\".*ful$\",\"JJ\")]\n",
        "tagger=RegexpTagger(pattern)\n",
        "tagger.evaluate(test_sents)"
      ]
    },
    {
      "cell_type": "markdown",
      "metadata": {
        "id": "NV0c0R8ixTzv"
      },
      "source": [
        "## Affix Tagger"
      ]
    },
    {
      "cell_type": "code",
      "execution_count": null,
      "metadata": {
        "id": "bqrBLNC9xTzw",
        "outputId": "b5e7f871-63d9-437d-92bd-f6f1f4827d45"
      },
      "outputs": [
        {
          "data": {
            "text/plain": [
              "0.27507014893157783"
            ]
          },
          "execution_count": 27,
          "metadata": {},
          "output_type": "execute_result"
        }
      ],
      "source": [
        "from nltk.tag import AffixTagger\n",
        "\n",
        "tagger=AffixTagger(train_sents)\n",
        "tagger.evaluate(test_sents)"
      ]
    },
    {
      "cell_type": "code",
      "execution_count": null,
      "metadata": {
        "id": "JSowEGpuxTzx",
        "outputId": "e6b7d406-c581-4f75-a815-9720a951b7c0"
      },
      "outputs": [
        {
          "data": {
            "text/plain": [
              "0.2365637815670192"
            ]
          },
          "execution_count": 28,
          "metadata": {},
          "output_type": "execute_result"
        }
      ],
      "source": [
        "prefix_tagger=AffixTagger(train_sents,affix_length=3)\n",
        "prefix_tagger.evaluate(test_sents)"
      ]
    },
    {
      "cell_type": "code",
      "execution_count": null,
      "metadata": {
        "id": "Xyg2oJkXxTzy",
        "outputId": "1132453e-6a57-4bb7-d5fe-9953d85c762a"
      },
      "outputs": [
        {
          "data": {
            "text/plain": [
              "0.3196201165551478"
            ]
          },
          "execution_count": 29,
          "metadata": {},
          "output_type": "execute_result"
        }
      ],
      "source": [
        "suffix_tagger=AffixTagger(train_sents,affix_length=-2)\n",
        "suffix_tagger.evaluate(test_sents)"
      ]
    },
    {
      "cell_type": "code",
      "execution_count": null,
      "metadata": {
        "id": "EL71aej0xTzy",
        "outputId": "856e1594-cf49-4e92-8024-c347ce781493"
      },
      "outputs": [
        {
          "data": {
            "text/plain": [
              "0.3213036909130153"
            ]
          },
          "execution_count": 30,
          "metadata": {},
          "output_type": "execute_result"
        }
      ],
      "source": [
        "suffix_tagger=AffixTagger(train_sents,affix_length=-2,backoff=prefix_tagger)\n",
        "suffix_tagger.evaluate(test_sents)"
      ]
    },
    {
      "cell_type": "markdown",
      "metadata": {
        "id": "MJCvT9LnxTzz"
      },
      "source": [
        "## TnT Tagger"
      ]
    },
    {
      "cell_type": "code",
      "execution_count": null,
      "metadata": {
        "collapsed": true,
        "id": "ZJnhW6XuxTz0"
      },
      "outputs": [],
      "source": [
        "from nltk.tag import tnt\n",
        "tnt_tagger=tnt.TnT()\n",
        "tnt_tagger.train(train_sents)"
      ]
    },
    {
      "cell_type": "code",
      "execution_count": null,
      "metadata": {
        "id": "3S22s1N-xTz0",
        "outputId": "0d9ec3e2-0941-40aa-be54-2c508dcd1e4d"
      },
      "outputs": [
        {
          "data": {
            "text/plain": [
              "0.875545003237643"
            ]
          },
          "execution_count": 32,
          "metadata": {},
          "output_type": "execute_result"
        }
      ],
      "source": [
        "tnt_tagger.evaluate(test_sents)"
      ]
    },
    {
      "cell_type": "code",
      "execution_count": null,
      "metadata": {
        "collapsed": true,
        "id": "HiTFFD_1xTz1"
      },
      "outputs": [],
      "source": [
        "unk=DefaultTagger(\"NN\")\n",
        "tnt_tagger=tnt.TnT(unk=unk,Trained=True)\n",
        "tnt_tagger.train(train_sents)"
      ]
    },
    {
      "cell_type": "code",
      "execution_count": null,
      "metadata": {
        "id": "ZHaqtW_hxTz1",
        "outputId": "d163e505-fc1d-4eed-ea95-94411e7fed3d"
      },
      "outputs": [
        {
          "data": {
            "text/plain": [
              "0.892467083962875"
            ]
          },
          "execution_count": 34,
          "metadata": {},
          "output_type": "execute_result"
        }
      ],
      "source": [
        "tnt_tagger.evaluate(test_sents)"
      ]
    },
    {
      "cell_type": "markdown",
      "metadata": {
        "id": "5g30hRPtxTz2"
      },
      "source": [
        "## Classifier Based POS Tagger"
      ]
    },
    {
      "cell_type": "code",
      "execution_count": null,
      "metadata": {
        "id": "JS1t-oWtxTz3",
        "outputId": "d5029987-ba93-419b-f56d-d6af389d25b8"
      },
      "outputs": [
        {
          "data": {
            "text/plain": [
              "0.9309734513274336"
            ]
          },
          "execution_count": 35,
          "metadata": {},
          "output_type": "execute_result"
        }
      ],
      "source": [
        "from nltk.tag.sequential import ClassifierBasedPOSTagger\n",
        "tagger=ClassifierBasedPOSTagger(train=train_sents)\n",
        "tagger.evaluate(test_sents)"
      ]
    },
    {
      "cell_type": "code",
      "execution_count": null,
      "metadata": {
        "id": "yq1hjAdkxTz3",
        "outputId": "411e654e-3682-42b9-c6ee-f65d244d642e"
      },
      "outputs": [
        {
          "data": {
            "text/plain": [
              "0.9311029570472696"
            ]
          },
          "execution_count": 36,
          "metadata": {},
          "output_type": "execute_result"
        }
      ],
      "source": [
        "defualt=DefaultTagger(\"NN\")\n",
        "tagger=ClassifierBasedPOSTagger(train=train_sents,cutoff_prob=0.3,backoff=defualt)\n",
        "tagger.evaluate(test_sents)"
      ]
    }
  ],
  "metadata": {
    "kernelspec": {
      "display_name": "Python 3",
      "language": "python",
      "name": "python3"
    },
    "language_info": {
      "codemirror_mode": {
        "name": "ipython",
        "version": 3
      },
      "file_extension": ".py",
      "mimetype": "text/x-python",
      "name": "python",
      "nbconvert_exporter": "python",
      "pygments_lexer": "ipython3",
      "version": "3.6.0"
    },
    "colab": {
      "provenance": [],
      "include_colab_link": true
    }
  },
  "nbformat": 4,
  "nbformat_minor": 0
}