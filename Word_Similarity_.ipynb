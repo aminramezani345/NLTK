{
  "cells": [
    {
      "cell_type": "markdown",
      "metadata": {
        "id": "view-in-github",
        "colab_type": "text"
      },
      "source": [
        "<a href=\"https://colab.research.google.com/github/aminramezani345/NLTKCodesByFaraDars/blob/main/Word_Similarity_.ipynb\" target=\"_parent\"><img src=\"https://colab.research.google.com/assets/colab-badge.svg\" alt=\"Open In Colab\"/></a>"
      ]
    },
    {
      "cell_type": "code",
      "execution_count": null,
      "metadata": {
        "id": "2h5D8jZahnaE",
        "outputId": "4f4a536c-6a1f-49e5-9323-294193fddc9a"
      },
      "outputs": [
        {
          "name": "stdout",
          "output_type": "stream",
          "text": [
            "Synset('book.n.01')\n"
          ]
        }
      ],
      "source": [
        "from nltk.corpus import wordnet\n",
        "syn1=wordnet.synsets(\"book\")[0]\n",
        "print(syn1)"
      ]
    },
    {
      "cell_type": "code",
      "execution_count": null,
      "metadata": {
        "id": "Ks-XcEHYhnaM",
        "outputId": "a9575901-324f-4b86-f214-35a2927c4c11"
      },
      "outputs": [
        {
          "data": {
            "text/plain": [
              "[Synset('book.n.01'),\n",
              " Synset('collection.n.02'),\n",
              " Synset('impression.n.06'),\n",
              " Synset('magazine.n.01'),\n",
              " Synset('new_edition.n.01'),\n",
              " Synset('periodical.n.01'),\n",
              " Synset('read.n.01'),\n",
              " Synset('reference.n.08'),\n",
              " Synset('reissue.n.01'),\n",
              " Synset('republication.n.01'),\n",
              " Synset('tip_sheet.n.01'),\n",
              " Synset('volume.n.04')]"
            ]
          },
          "execution_count": 2,
          "metadata": {},
          "output_type": "execute_result"
        }
      ],
      "source": [
        "syn1.hypernyms()[0].hyponyms()"
      ]
    },
    {
      "cell_type": "code",
      "execution_count": null,
      "metadata": {
        "id": "oIJ65wgwhnaO",
        "outputId": "7d800131-da39-466c-dc3f-1f63a023cf07"
      },
      "outputs": [
        {
          "name": "stdout",
          "output_type": "stream",
          "text": [
            "3\n"
          ]
        }
      ],
      "source": [
        "syn2=wordnet.synset(\"magazine.n.01\")\n",
        "min_path=1+ syn1.shortest_path_distance(syn2)\n",
        "print(min_path)"
      ]
    },
    {
      "cell_type": "markdown",
      "metadata": {
        "id": "2XQJ1cuChnaQ"
      },
      "source": [
        "## wup_similarity"
      ]
    },
    {
      "cell_type": "code",
      "execution_count": null,
      "metadata": {
        "id": "x8EfmWSFhnaT",
        "outputId": "4d91503e-7162-49b6-a9e2-89d83981fd40"
      },
      "outputs": [
        {
          "data": {
            "text/plain": [
              "0.9"
            ]
          },
          "execution_count": 4,
          "metadata": {},
          "output_type": "execute_result"
        }
      ],
      "source": [
        "syn1.wup_similarity(syn2)"
      ]
    },
    {
      "cell_type": "code",
      "execution_count": null,
      "metadata": {
        "id": "P1sHJ2iuhnaU",
        "outputId": "f686afa0-fdc5-48e3-c3a0-4fffadcc04f5"
      },
      "outputs": [
        {
          "data": {
            "text/plain": [
              "0.6"
            ]
          },
          "execution_count": 7,
          "metadata": {},
          "output_type": "execute_result"
        }
      ],
      "source": [
        "syn1=wordnet.synsets(\"car\")[0]\n",
        "syn2=wordnet.synsets(\"computer\")[0]\n",
        "syn1.wup_similarity(syn2)"
      ]
    },
    {
      "cell_type": "code",
      "execution_count": null,
      "metadata": {
        "id": "BPgpyht3hnaW",
        "outputId": "3e5d9673-c9d3-444f-b502-796a012b9602"
      },
      "outputs": [
        {
          "data": {
            "text/plain": [
              "8"
            ]
          },
          "execution_count": 8,
          "metadata": {},
          "output_type": "execute_result"
        }
      ],
      "source": [
        "syn1.shortest_path_distance(syn2)"
      ]
    },
    {
      "cell_type": "code",
      "execution_count": null,
      "metadata": {
        "id": "Cc4QktwmhnaX",
        "outputId": "aad81ddf-81d9-42a4-b3a2-884373e25fdf"
      },
      "outputs": [
        {
          "data": {
            "text/plain": [
              "[[Synset('entity.n.01'),\n",
              "  Synset('physical_entity.n.01'),\n",
              "  Synset('object.n.01'),\n",
              "  Synset('whole.n.02'),\n",
              "  Synset('artifact.n.01'),\n",
              "  Synset('instrumentality.n.03'),\n",
              "  Synset('container.n.01'),\n",
              "  Synset('wheeled_vehicle.n.01'),\n",
              "  Synset('self-propelled_vehicle.n.01'),\n",
              "  Synset('motor_vehicle.n.01'),\n",
              "  Synset('car.n.01')],\n",
              " [Synset('entity.n.01'),\n",
              "  Synset('physical_entity.n.01'),\n",
              "  Synset('object.n.01'),\n",
              "  Synset('whole.n.02'),\n",
              "  Synset('artifact.n.01'),\n",
              "  Synset('instrumentality.n.03'),\n",
              "  Synset('conveyance.n.03'),\n",
              "  Synset('vehicle.n.01'),\n",
              "  Synset('wheeled_vehicle.n.01'),\n",
              "  Synset('self-propelled_vehicle.n.01'),\n",
              "  Synset('motor_vehicle.n.01'),\n",
              "  Synset('car.n.01')]]"
            ]
          },
          "execution_count": 9,
          "metadata": {},
          "output_type": "execute_result"
        }
      ],
      "source": [
        "syn1.hypernym_paths()"
      ]
    },
    {
      "cell_type": "code",
      "execution_count": null,
      "metadata": {
        "id": "alx2o0mkhnaY",
        "outputId": "3956a910-6d46-40d2-c823-ab6ae1e7b257"
      },
      "outputs": [
        {
          "data": {
            "text/plain": [
              "[[Synset('entity.n.01'),\n",
              "  Synset('physical_entity.n.01'),\n",
              "  Synset('object.n.01'),\n",
              "  Synset('whole.n.02'),\n",
              "  Synset('artifact.n.01'),\n",
              "  Synset('instrumentality.n.03'),\n",
              "  Synset('device.n.01'),\n",
              "  Synset('machine.n.01'),\n",
              "  Synset('computer.n.01')]]"
            ]
          },
          "execution_count": 10,
          "metadata": {},
          "output_type": "execute_result"
        }
      ],
      "source": [
        "syn2.hypernym_paths()"
      ]
    },
    {
      "cell_type": "code",
      "execution_count": null,
      "metadata": {
        "id": "eF_DinbUhnaZ",
        "outputId": "5110a178-cc4a-4c3d-8630-080766d69e93"
      },
      "outputs": [
        {
          "data": {
            "text/plain": [
              "[Synset('entity.n.01'),\n",
              " Synset('instrumentality.n.03'),\n",
              " Synset('object.n.01'),\n",
              " Synset('artifact.n.01'),\n",
              " Synset('whole.n.02'),\n",
              " Synset('physical_entity.n.01')]"
            ]
          },
          "execution_count": 12,
          "metadata": {},
          "output_type": "execute_result"
        }
      ],
      "source": [
        "syn1.common_hypernyms(syn2)"
      ]
    },
    {
      "cell_type": "markdown",
      "metadata": {
        "id": "1j8_ZA_Ghnab"
      },
      "source": [
        "### verb"
      ]
    },
    {
      "cell_type": "code",
      "execution_count": null,
      "metadata": {
        "id": "jOEPYX0Lhnac",
        "outputId": "5b1ef0d4-c293-481e-828e-e1caa57d5bbf"
      },
      "outputs": [
        {
          "data": {
            "text/plain": [
              "[[Synset('change.v.02'),\n",
              "  Synset('change_integrity.v.01'),\n",
              "  Synset('cook.v.03'),\n",
              "  Synset('bake.v.01')]]"
            ]
          },
          "execution_count": 13,
          "metadata": {},
          "output_type": "execute_result"
        }
      ],
      "source": [
        "bake=wordnet.synset(\"bake.v.01\")\n",
        "bake.hypernym_paths()"
      ]
    },
    {
      "cell_type": "code",
      "execution_count": null,
      "metadata": {
        "id": "mqC04qNQhnad",
        "outputId": "ceabe927-8b0b-4e98-a73a-528260515c8e"
      },
      "outputs": [
        {
          "data": {
            "text/plain": [
              "[[Synset('entity.n.01'),\n",
              "  Synset('physical_entity.n.01'),\n",
              "  Synset('causal_agent.n.01'),\n",
              "  Synset('person.n.01'),\n",
              "  Synset('worker.n.01'),\n",
              "  Synset('skilled_worker.n.01'),\n",
              "  Synset('cook.n.01')],\n",
              " [Synset('entity.n.01'),\n",
              "  Synset('physical_entity.n.01'),\n",
              "  Synset('object.n.01'),\n",
              "  Synset('whole.n.02'),\n",
              "  Synset('living_thing.n.01'),\n",
              "  Synset('organism.n.01'),\n",
              "  Synset('person.n.01'),\n",
              "  Synset('worker.n.01'),\n",
              "  Synset('skilled_worker.n.01'),\n",
              "  Synset('cook.n.01')]]"
            ]
          },
          "execution_count": 14,
          "metadata": {},
          "output_type": "execute_result"
        }
      ],
      "source": [
        "cook=wordnet.synset(\"cook.n.01\")\n",
        "cook.hypernym_paths()"
      ]
    },
    {
      "cell_type": "code",
      "execution_count": null,
      "metadata": {
        "id": "f9mHhTduhnae",
        "outputId": "6daef23d-3f7a-4840-80af-896c5f79b50d"
      },
      "outputs": [
        {
          "name": "stdout",
          "output_type": "stream",
          "text": [
            "None\n"
          ]
        }
      ],
      "source": [
        "print(cook.wup_similarity(bake))"
      ]
    },
    {
      "cell_type": "markdown",
      "metadata": {
        "id": "OxVhX9LEhnaf"
      },
      "source": [
        "#### other similarity measures"
      ]
    },
    {
      "cell_type": "code",
      "execution_count": null,
      "metadata": {
        "id": "YGpekEhGhnag",
        "outputId": "b3146e89-33ce-4ba4-da29-55109c9e3c1c"
      },
      "outputs": [
        {
          "data": {
            "text/plain": [
              "0.1111111111111111"
            ]
          },
          "execution_count": 19,
          "metadata": {},
          "output_type": "execute_result"
        }
      ],
      "source": [
        "syn1=wordnet.synsets(\"car\")[0]\n",
        "syn2=wordnet.synsets(\"computer\")[0]\n",
        "syn1.path_similarity(syn2)"
      ]
    },
    {
      "cell_type": "code",
      "execution_count": null,
      "metadata": {
        "id": "micmKgFlhnah",
        "outputId": "b0fd53a1-8f49-4b93-af30-e7e107fe0692"
      },
      "outputs": [
        {
          "data": {
            "text/plain": [
              "1.4403615823901665"
            ]
          },
          "execution_count": 20,
          "metadata": {},
          "output_type": "execute_result"
        }
      ],
      "source": [
        "syn1.lch_similarity(syn2)"
      ]
    }
  ],
  "metadata": {
    "kernelspec": {
      "display_name": "Python 3",
      "language": "python",
      "name": "python3"
    },
    "language_info": {
      "codemirror_mode": {
        "name": "ipython",
        "version": 3
      },
      "file_extension": ".py",
      "mimetype": "text/x-python",
      "name": "python",
      "nbconvert_exporter": "python",
      "pygments_lexer": "ipython3",
      "version": "3.6.0"
    },
    "colab": {
      "provenance": [],
      "include_colab_link": true
    }
  },
  "nbformat": 4,
  "nbformat_minor": 0
}