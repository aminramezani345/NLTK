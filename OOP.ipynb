{
  "cells": [
    {
      "cell_type": "markdown",
      "metadata": {
        "id": "view-in-github",
        "colab_type": "text"
      },
      "source": [
        "<a href=\"https://colab.research.google.com/github/aminramezani345/NLTKCodesByFaraDars/blob/main/OOP.ipynb\" target=\"_parent\"><img src=\"https://colab.research.google.com/assets/colab-badge.svg\" alt=\"Open In Colab\"/></a>"
      ]
    },
    {
      "cell_type": "code",
      "execution_count": null,
      "metadata": {
        "collapsed": true,
        "id": "22JdXEDsbb7O"
      },
      "outputs": [],
      "source": [
        "class person():\n",
        "    def __init__(self,esm):\n",
        "        self.name=esm\n",
        "    def sayhi(self):\n",
        "        print(\"Hello! my name is \"+self.name)"
      ]
    },
    {
      "cell_type": "code",
      "execution_count": null,
      "metadata": {
        "id": "Et0dMLnNbb7Q",
        "outputId": "4635aa27-bf45-4b45-a68b-5615f6fb0aa0"
      },
      "outputs": [
        {
          "data": {
            "text/plain": [
              "__main__.person"
            ]
          },
          "execution_count": 5,
          "metadata": {},
          "output_type": "execute_result"
        }
      ],
      "source": [
        "person1=person(\"Ehsan\")\n",
        "type(person1)"
      ]
    },
    {
      "cell_type": "code",
      "execution_count": null,
      "metadata": {
        "id": "BFYeQgzYbb7R",
        "outputId": "d20a67ba-ce0e-4541-d0cc-fb37adeb398f"
      },
      "outputs": [
        {
          "name": "stdout",
          "output_type": "stream",
          "text": [
            "Hello! my name is Ehsan\n"
          ]
        }
      ],
      "source": [
        "person1.sayhi()"
      ]
    },
    {
      "cell_type": "markdown",
      "metadata": {
        "id": "irj3yE1abb7R"
      },
      "source": [
        "### inheritance"
      ]
    },
    {
      "cell_type": "code",
      "execution_count": null,
      "metadata": {
        "collapsed": true,
        "id": "PwUaRbPGbb7S"
      },
      "outputs": [],
      "source": [
        "class employee(person):\n",
        "    def work(self,hours):\n",
        "        print(self.name + \" worked \"+ hours+\" hours\")"
      ]
    },
    {
      "cell_type": "code",
      "execution_count": null,
      "metadata": {
        "id": "0Cgg1Ncibb7T",
        "outputId": "f0643612-53f1-43f1-ba9c-0066996e7aca"
      },
      "outputs": [
        {
          "name": "stdout",
          "output_type": "stream",
          "text": [
            "Ali worked 5 hours\n"
          ]
        }
      ],
      "source": [
        "employee1=employee(\"Ali\")\n",
        "employee1.work(\"5\")"
      ]
    },
    {
      "cell_type": "code",
      "execution_count": null,
      "metadata": {
        "id": "0psBmI2kbb7T",
        "outputId": "8925a3e0-1421-46dc-b31d-a5c2f2225a1e"
      },
      "outputs": [
        {
          "name": "stdout",
          "output_type": "stream",
          "text": [
            "Hello! my name is Ali\n"
          ]
        }
      ],
      "source": [
        "employee1.sayhi()"
      ]
    }
  ],
  "metadata": {
    "kernelspec": {
      "display_name": "Python 3",
      "language": "python",
      "name": "python3"
    },
    "language_info": {
      "codemirror_mode": {
        "name": "ipython",
        "version": 3
      },
      "file_extension": ".py",
      "mimetype": "text/x-python",
      "name": "python",
      "nbconvert_exporter": "python",
      "pygments_lexer": "ipython3",
      "version": "3.6.0"
    },
    "colab": {
      "provenance": [],
      "include_colab_link": true
    }
  },
  "nbformat": 4,
  "nbformat_minor": 0
}