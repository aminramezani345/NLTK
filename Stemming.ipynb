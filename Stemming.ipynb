{
  "cells": [
    {
      "cell_type": "markdown",
      "metadata": {
        "id": "view-in-github",
        "colab_type": "text"
      },
      "source": [
        "<a href=\"https://colab.research.google.com/github/aminramezani345/NLTKCodesByFaraDars/blob/main/Stemming.ipynb\" target=\"_parent\"><img src=\"https://colab.research.google.com/assets/colab-badge.svg\" alt=\"Open In Colab\"/></a>"
      ]
    },
    {
      "cell_type": "markdown",
      "metadata": {
        "id": "F2LCn1E6hJrD"
      },
      "source": [
        "## PorterStemmer"
      ]
    },
    {
      "cell_type": "code",
      "execution_count": null,
      "metadata": {
        "id": "ZlZny3CYhJrJ",
        "outputId": "6c038788-aac9-41aa-b006-70eec297a893"
      },
      "outputs": [
        {
          "data": {
            "text/plain": [
              "'inform'"
            ]
          },
          "execution_count": 2,
          "metadata": {},
          "output_type": "execute_result"
        }
      ],
      "source": [
        "from nltk.stem import PorterStemmer\n",
        "stemmer=PorterStemmer()\n",
        "stemmer.stem(\"information\")"
      ]
    },
    {
      "cell_type": "code",
      "execution_count": null,
      "metadata": {
        "id": "D53aUZ-MhJrP",
        "outputId": "4828826c-5ea6-4dc4-ecc8-88c2eb199964"
      },
      "outputs": [
        {
          "data": {
            "text/plain": [
              "'cook'"
            ]
          },
          "execution_count": 3,
          "metadata": {},
          "output_type": "execute_result"
        }
      ],
      "source": [
        "stemmer.stem(\"cooking\")"
      ]
    },
    {
      "cell_type": "code",
      "execution_count": null,
      "metadata": {
        "id": "JlDChn7mhJrQ",
        "outputId": "ce8560dd-bb96-4bcf-f6b2-f39ea868afad"
      },
      "outputs": [
        {
          "data": {
            "text/plain": [
              "'activ'"
            ]
          },
          "execution_count": 4,
          "metadata": {},
          "output_type": "execute_result"
        }
      ],
      "source": [
        "stemmer.stem(\"activate\")"
      ]
    },
    {
      "cell_type": "code",
      "execution_count": null,
      "metadata": {
        "id": "AuG0XVEZhJrS",
        "outputId": "9d94a936-c62f-43f5-df67-59d5e75c9e4c"
      },
      "outputs": [
        {
          "data": {
            "text/plain": [
              "'relat'"
            ]
          },
          "execution_count": 5,
          "metadata": {},
          "output_type": "execute_result"
        }
      ],
      "source": [
        "stemmer.stem(\"relational\")"
      ]
    },
    {
      "cell_type": "markdown",
      "metadata": {
        "id": "i6LlWAGphJrT"
      },
      "source": [
        "## LancasterStemmer"
      ]
    },
    {
      "cell_type": "code",
      "execution_count": null,
      "metadata": {
        "id": "fMiWMxGbhJrU",
        "outputId": "270aaefd-ba87-481e-bd82-f4eed5d32d62"
      },
      "outputs": [
        {
          "data": {
            "text/plain": [
              "'inform'"
            ]
          },
          "execution_count": 6,
          "metadata": {},
          "output_type": "execute_result"
        }
      ],
      "source": [
        "from nltk.stem import LancasterStemmer\n",
        "stemmer=LancasterStemmer()\n",
        "stemmer.stem(\"information\")"
      ]
    },
    {
      "cell_type": "code",
      "execution_count": null,
      "metadata": {
        "id": "Xgzi-zQzhJrV",
        "outputId": "e27d3f5a-9608-4581-9612-45db44fa6689"
      },
      "outputs": [
        {
          "data": {
            "text/plain": [
              "'cook'"
            ]
          },
          "execution_count": 7,
          "metadata": {},
          "output_type": "execute_result"
        }
      ],
      "source": [
        "stemmer.stem(\"cooking\")"
      ]
    },
    {
      "cell_type": "code",
      "execution_count": null,
      "metadata": {
        "id": "lSbq046VhJrX",
        "outputId": "00f8aa57-ec32-4de8-d57f-34cdc9a015a9"
      },
      "outputs": [
        {
          "data": {
            "text/plain": [
              "'rel'"
            ]
          },
          "execution_count": 8,
          "metadata": {},
          "output_type": "execute_result"
        }
      ],
      "source": [
        "stemmer.stem(\"relational\")"
      ]
    },
    {
      "cell_type": "markdown",
      "metadata": {
        "id": "9yEqT4sEhJrZ"
      },
      "source": [
        "## RegexpStemmer"
      ]
    },
    {
      "cell_type": "code",
      "execution_count": null,
      "metadata": {
        "id": "XUpyzeqRhJra",
        "outputId": "b0e5fab3-ae93-4e10-dfe4-12b2297a0369"
      },
      "outputs": [
        {
          "data": {
            "text/plain": [
              "'cook'"
            ]
          },
          "execution_count": 9,
          "metadata": {},
          "output_type": "execute_result"
        }
      ],
      "source": [
        "from nltk.stem import RegexpStemmer\n",
        "stemmer=RegexpStemmer(\"ing\")\n",
        "stemmer.stem(\"cooking\")"
      ]
    },
    {
      "cell_type": "code",
      "execution_count": null,
      "metadata": {
        "id": "tx9sFUM7hJrb",
        "outputId": "1693e34e-39b5-4cbc-e2d9-1e55df152121"
      },
      "outputs": [
        {
          "data": {
            "text/plain": [
              "'leside'"
            ]
          },
          "execution_count": 10,
          "metadata": {},
          "output_type": "execute_result"
        }
      ],
      "source": [
        "stemmer.stem(\"ingleside\")"
      ]
    },
    {
      "cell_type": "markdown",
      "metadata": {
        "id": "XSj2AqNxhJrd"
      },
      "source": [
        "## SnowballStemmer"
      ]
    },
    {
      "cell_type": "code",
      "execution_count": null,
      "metadata": {
        "id": "UX_8W0LAhJre",
        "outputId": "786b4604-504e-4a0f-b721-bff835e21419"
      },
      "outputs": [
        {
          "data": {
            "text/plain": [
              "'hol'"
            ]
          },
          "execution_count": 11,
          "metadata": {},
          "output_type": "execute_result"
        }
      ],
      "source": [
        "from nltk.stem import SnowballStemmer\n",
        "stemmer=SnowballStemmer(\"spanish\")\n",
        "stemmer.stem(\"hola\")"
      ]
    },
    {
      "cell_type": "code",
      "execution_count": null,
      "metadata": {
        "id": "mAC7UA2PhJrf",
        "outputId": "8a7203a0-dd16-435c-c696-f7770514cb78"
      },
      "outputs": [
        {
          "data": {
            "text/plain": [
              "('arabic',\n",
              " 'danish',\n",
              " 'dutch',\n",
              " 'english',\n",
              " 'finnish',\n",
              " 'french',\n",
              " 'german',\n",
              " 'hungarian',\n",
              " 'italian',\n",
              " 'norwegian',\n",
              " 'porter',\n",
              " 'portuguese',\n",
              " 'romanian',\n",
              " 'russian',\n",
              " 'spanish',\n",
              " 'swedish')"
            ]
          },
          "execution_count": 12,
          "metadata": {},
          "output_type": "execute_result"
        }
      ],
      "source": [
        "SnowballStemmer.languages"
      ]
    },
    {
      "cell_type": "code",
      "execution_count": null,
      "metadata": {
        "id": "kTfAdniJhJrg",
        "outputId": "891c9719-c635-4dbd-8c20-44db25ba30c1"
      },
      "outputs": [
        {
          "data": {
            "text/plain": [
              "16"
            ]
          },
          "execution_count": 13,
          "metadata": {},
          "output_type": "execute_result"
        }
      ],
      "source": [
        "len(SnowballStemmer.languages)"
      ]
    }
  ],
  "metadata": {
    "kernelspec": {
      "display_name": "Python 3",
      "language": "python",
      "name": "python3"
    },
    "language_info": {
      "codemirror_mode": {
        "name": "ipython",
        "version": 3
      },
      "file_extension": ".py",
      "mimetype": "text/x-python",
      "name": "python",
      "nbconvert_exporter": "python",
      "pygments_lexer": "ipython3",
      "version": "3.6.0"
    },
    "colab": {
      "provenance": [],
      "include_colab_link": true
    }
  },
  "nbformat": 4,
  "nbformat_minor": 0
}